{
 "cells": [
  {
   "cell_type": "markdown",
   "metadata": {},
   "source": [
    "# Compact Mixed Integer Linear Programming Model for Balancing Bike Sharing Systems "
   ]
  },
  {
   "cell_type": "code",
   "execution_count": 1,
   "metadata": {
    "pycharm": {
     "is_executing": false,
     "name": "#%%\n"
    }
   },
   "outputs": [],
   "source": [
    "import gurobipy as gb\n",
    "import networkx as nx\n",
    "import pygraphviz as pygv\n",
    "import os\n",
    "from IPython.display import SVG, display\n",
    "import pandas as pd"
   ]
  },
  {
   "cell_type": "code",
   "execution_count": 2,
   "metadata": {
    "pycharm": {
     "is_executing": false,
     "name": "#%%\n"
    }
   },
   "outputs": [],
   "source": [
    "def draw_initial_graph(G, scale):\n",
    "    global DrawG\n",
    "    DrawG = pygv.AGraph(strict='true', splines='true', directed=True)\n",
    "    \n",
    "    for i in G.nodes():\n",
    "        pos = str(G.node[i]['x'] * scale) + ',' + str((G.node[i]['y']) * scale)\n",
    "\n",
    "        if G.node[i]['load'] < 0:\n",
    "            DrawG.add_node(i, shape='circle', pos=pos, label=G.node[i]['label'], color='red',\n",
    "                           style='filled', fillcolor='salmon', fontsize='8', width='0.3')\n",
    "        elif G.node[i]['load'] > 0:\n",
    "            DrawG.add_node(i, shape='circle', pos=pos, label=G.node[i]['label'], color='green',\n",
    "                           style='filled', fillcolor='palegreen1', fontsize='8', width='0.3')\n",
    "        else:\n",
    "            DrawG.add_node(i, shape='circle', pos=pos, label=G.node[i]['label'], fontsize='8', width='0.3')\n",
    "    \n",
    "    DrawG.layout(prog='neato', args='-n')\n",
    "    DrawG.draw(path=basename + '.svg', format='svg')\n",
    "    DrawG.clear()\n",
    "    \n",
    "    \n",
    "def draw_solution(G, x, y, vehicles, scale):\n",
    "    pos = str(G.node['0']['x'] * scale) + ',' + str((G.node['0']['y']) * scale)\n",
    "    DrawG.add_node('0', shape='circle', pos=pos, label=G.node['0']['label'], fontsize='8', width=0.3)\n",
    "    pos = str(G.node['1']['x'] * scale) + ',' + str((G.node['1']['y']) * scale)\n",
    "    DrawG.add_node('1', shape='circle', pos=pos, label=G.node['1']['label'], fontsize='8', width=0.3)\n",
    "     \n",
    "    for i in G.nodes()-{'0', '1'}:\n",
    "        for v in vehicles:\n",
    "            if x[i, v].x == 1:\n",
    "                lab = G.node[i]['label']\n",
    "                t = i.split(\" \")\n",
    "                pos = str(G.node[i]['x'] * float(t[1][0]) * scale) + ',' + str(G.node[i]['y'] * scale)\n",
    "                if G.node[i]['load'] < 0:\n",
    "                    DrawG.add_node(i, shape='circle', pos=pos, label=lab, color='red', style='filled', \n",
    "                                   fillcolor='salmon', fontsize='8', width=0.1)\n",
    "                elif G.node[i]['load'] > 0:\n",
    "                    DrawG.add_node(i, shape='circle', pos=pos, label=lab, color='green', style='filled', \n",
    "                                   fillcolor='palegreen1', fontsize='8', width=0.1)\n",
    "    \n",
    "    # associate a color to each vehicle\n",
    "    colors = ['red', 'blue', 'green', 'orange3']\n",
    "    dict_vehicles = []\n",
    "    for i in range(0, len(vehicles)):\n",
    "        dict_vehicles.append({'vehicle': vehicles[i], 'color': colors[i]})\n",
    "    \n",
    "    for i, j in G.edges():\n",
    "        for v in dict_vehicles:\n",
    "            if y[i, j, v['vehicle']].x == 1:\n",
    "                lab = \"(%s, %s) %s\"%(i,j,v['vehicle'])\n",
    "                DrawG.add_edge(i, j, color=v['color'], label= v['vehicle'], fontsize='8', splines='spline', fontcolor=v['color'])\n",
    "    \n",
    "    DrawG.layout(prog='neato', args='-n')\n",
    "    DrawG.draw(path=basename +\"_sol\" + '.svg', format='svg')\n",
    "    DrawG.clear()"
   ]
  },
  {
   "cell_type": "markdown",
   "metadata": {},
   "source": [
    "## Problem Definition"
   ]
  },
  {
   "cell_type": "markdown",
   "metadata": {},
   "source": [
    "**Given:**\n",
    "\n",
    "- A set of stations $S$ and a set of homogeneous vehicles $L$\n",
    "\n",
    "- A common time budget $\\;t̂\\;$ (drivers’ shift times) within which they have to finish their routes\n",
    "\n",
    "- For each station $s \\in S$ the number of full vehicle loads $f_s$ to be delivered $(f_s \\le −1)$ or picked up $(f_s \\ge 1)$ such that the station achieves its (approximately) ideal target fill level\n",
    "\n",
    "\n",
    "**Find:**\n",
    "\n",
    "The maximum number of full vehicle loads picked up and delivered to the stations, such that the total balance increase in the system.  "
   ]
  },
  {
   "cell_type": "markdown",
   "metadata": {},
   "source": [
    "A station, to which bikes shall be delivered is called a *delivery station*, while a station from which bikes should be removed is called a *pickup station*. At pickup stations, only pickups may be performed, while at delivery stations, only deliveries, and we never allow more than $|f_s |$ visits at each station."
   ]
  },
  {
   "cell_type": "markdown",
   "metadata": {},
   "source": [
    ">**Note**\n",
    ">\n",
    ">Stations\n",
    "that are already at their desired target fill level (or require\n",
    "less than a full vehicle load) are ignored from any further\n",
    "consideration."
   ]
  },
  {
   "cell_type": "markdown",
   "metadata": {},
   "source": [
    "### Graph"
   ]
  },
  {
   "cell_type": "markdown",
   "metadata": {},
   "source": [
    "For modeling tours with up to $|f_s |$ visits at each station $s \\in S$, a directed bipartite graph $G = (V ,A)$ as been defined as follows. Let\n",
    "\n",
    "$$V_\\text{pic} = \\{(s,i)\\;|\\;s \\in S \\land f_s \\ge 1,\\;i=1,...,|f_s|\\}$$\n",
    "\n",
    "be a set of nodes representing up to $|f_s|$ visits at each pickup station, and let\n",
    "\n",
    "$$V_\\text{del} = \\{(s,i)\\;|\\;s \\in S \\land f_s \\le -1,\\;i=1,...,f_s\\}$$\n",
    "\n",
    "denote the respective potential visits at the delivery stations. $V=V_\\text{pic} \\cup V_\\text{del}$ then refers to the joined set of all potential visits, and the arc set of graph $G$ is given by\n",
    "\n",
    "$$ A=\\{(u,v),\\;(v,u)\\;|\\;u \\in V_\\text{pic},\\; v \\in V_\\text{del}\\} $$"
   ]
  },
  {
   "cell_type": "markdown",
   "metadata": {},
   "source": [
    "Further the set of stations $V$ as been extended by two nodes $0$ and $1$ representing the depot at the beginning and the end of each tour, respectively, obtaining $V_0 = V \\cup \\{0, 1\\}$. \n",
    "\n",
    "Node $0$ is connected to all pickup nodes, while $1$ is connected to all delivery nodes, that is, $A_0= A \\cup \\{(0,v) \\;|\\; v \\in V_\\text{pic}\\} \\cup \\{(v,1) \\;|\\; v \\in V_\\text{del}\\}$, yielding a bipartite graph $G_0 = (V_0, A_0)$. "
   ]
  },
  {
   "cell_type": "markdown",
   "metadata": {},
   "source": [
    "Each arc $(u, v) \\in A_0$ represents an actual trip from the location represented by visit $u$ to the location represented by visit $v$ and has a corresponding traveling time $t_{uv} > 0$ associated."
   ]
  },
  {
   "cell_type": "markdown",
   "metadata": {},
   "source": [
    "### Model "
   ]
  },
  {
   "cell_type": "markdown",
   "metadata": {},
   "source": [
    "#### Decision variables\n",
    "\n",
    "$$\n",
    "x_{vl}=\\begin{cases}1 \\text { if station visits $v \\in V$ is assigned to vehicle $l \\in L$}\\\\\n",
    "0 \\text{ otherwise}\n",
    "\\end{cases}\n",
    "$$\n",
    "\n",
    "$$\n",
    "y\\ ^l_{uv}=\\begin{cases}1 \\text { if arc $(u, v) \\in A$ is assigned to vehicle $l \\in L$}\\\\\n",
    "0 \\text{ otherwise}\n",
    "\\end{cases}\n",
    "$$\n",
    "\n",
    "$$\n",
    "a_v=\\{ \\text{ position in the tour in which the node $v$ is visited }\\}\n",
    "$$"
   ]
  },
  {
   "cell_type": "markdown",
   "metadata": {},
   "source": [
    "#### Formulation\n",
    "\n",
    "$$\n",
    "\\begin{alignat}{4}\n",
    "&\\max \\sum_{l \\in L} \\sum_{v \\in V} x_{lv} &\\\\\\\\\n",
    "\\text{s.t.} \\;\\;\\;\\;\\;&\\\\\n",
    "\\\\\n",
    "\\sum_{l \\in L} x_{vl} &\\le 1 \\;\\;\\; \\forall v \\in V \\;\\;\\; \\text{(1)}\\\\ \n",
    "\\sum_{v \\in V_{\\text{pic}}} x_{vl} &= \\sum_{v \\in V_{\\text{del}}} x_{vl} \\;\\;\\; \\forall l \\in L \\;\\;\\; \\text{(2)}\\\\\n",
    "\\sum_{l' \\in L} x_{(s,i)l'} &\\ge x_{(s,i+1)l} \\;\\;\\; \\forall s \\in S ,\\; l \\in L, \\; i = 1,....,f_s-1 \\;\\;\\; \\text{(3)}\\\\\n",
    "\\sum_{v \\in V_{\\text{pic}}} y\\ ^l_{0v} &= 1 \\;\\;\\; \\forall l \\in L \\;\\;\\; \\text{(4)}\\\\\n",
    "\\sum_{v \\in V_{\\text{del}}} y\\ ^l_{v1} &= 1 \\;\\;\\; \\forall l \\in L \\;\\;\\; \\text{(5)}\\\\\n",
    "\\sum_{(u,v) \\in A_0} y\\ ^l_{uv} &= x_{ul} \\;\\;\\; \\forall l \\in L, \\; u \\in V \\;\\;\\; \\text{(6)}\\\\\n",
    "\\sum_{(u,v) \\in A_0} y\\ ^l_{uv} &= x_{vl} \\;\\;\\; \\forall l \\in L, \\; v \\in V \\;\\;\\; \\text{(7)}\\\\\n",
    "\\sum_{(u,v) \\in A_0} y\\ ^l_{uv} &= \\sum_{(v,u) \\in A_0} y\\ ^l_{vu} \\;\\;\\; \\forall l \\in L, \\; v \\in V \\;\\;\\; \\text{(8)}\\\\\n",
    "\\sum_{(u,v) \\in A_0} t_{uv} \\cdot y\\ ^l_{uv} &\\le \\;t̂ \\;\\;\\; \\forall l \\in L \\;\\;\\; \\text{(9)}\\\\\n",
    "a_u - a_v + |V| \\cdot y\\ ^l_{uv} &\\le |V| - 1 \\;\\;\\; \\forall l \\in L,\\; (u,v) \\in A \\;\\;\\; \\text{(10)}\\\\\n",
    "\\\\\n",
    "x_{vl} &\\in \\{0,1\\} \\;\\;\\; \\forall l \\in L,\\; v \\in V\\\\\n",
    "y\\ ^l_{ul} &\\in \\{0,1\\} \\;\\;\\; \\forall l \\in L,  \\; (u,v) \\in A_0\\\\\n",
    "1 &\\le a_v \\le |V| \\;\\;\\; \\forall v \\in V \n",
    "\\end{alignat}\n",
    "$$\n"
   ]
  },
  {
   "cell_type": "markdown",
   "metadata": {},
   "source": [
    "## First implementation of the model"
   ]
  },
  {
   "cell_type": "markdown",
   "metadata": {},
   "source": [
    "### Graph description"
   ]
  },
  {
   "cell_type": "markdown",
   "metadata": {},
   "source": [
    "The graph used for the first implementation of the model is a directed graph made by **20** nodes, representing visits to **11** different stations, and **178** edges. The <span style='color: red'>red</span> nodes represents depot stations, while the <span style='color: green'>green</span> ones are the pickup stations. The starting depot is represented by the node $0$, while the ending depot is represented by the node $1$.\n",
    "\n",
    "For each node the first number is the identifier of the station $s$ and the second number is the value of $|f_s|$. \n",
    "\n",
    "The maximum distance value between two nodes is **4870**.\n",
    "\n",
    "For this instance of the problem we will use a set of <b>4</b> vehicles and a time budget of <b>7000</b> seconds (about two hours)."
   ]
  },
  {
   "cell_type": "code",
   "execution_count": 3,
   "metadata": {
    "pycharm": {
     "is_executing": false
    }
   },
   "outputs": [
    {
     "name": "stdout",
     "output_type": "stream",
     "text": [
      "G has 20 nodes and 178 edges\n",
      "True\n"
     ]
    }
   ],
   "source": [
    "filename = 'graph.gml'\n",
    "scale = 15\n",
    "\n",
    "basename = os.path.splitext(filename)[0]\n",
    "\n",
    "G = nx.read_graphml (filename, node_type=str)\n",
    "\n",
    "print (\"G has\", G.number_of_nodes(), \"nodes and\", G.number_of_edges(), \"edges\")\n",
    "\n",
    "print(G.is_directed())"
   ]
  },
  {
   "cell_type": "code",
   "execution_count": 4,
   "metadata": {
    "pycharm": {
     "is_executing": false
    },
    "scrolled": false
   },
   "outputs": [
    {
     "data": {
      "image/svg+xml": [
       "<svg height=\"540pt\" viewBox=\"0.00 0.00 752.50 540.00\" width=\"752pt\" xmlns=\"http://www.w3.org/2000/svg\" xmlns:xlink=\"http://www.w3.org/1999/xlink\">\n",
       "<g class=\"graph\" id=\"graph0\" transform=\"scale(1 1) rotate(0) translate(4 535.995)\">\n",
       "<polygon fill=\"#ffffff\" points=\"-4,4 -4,-535.995 748.497,-535.995 748.497,4 -4,4\" stroke=\"transparent\"/>\n",
       "<!-- (7, 1) -->\n",
       "<g class=\"node\" id=\"node1\">\n",
       "<title>(7, 1)</title>\n",
       "<ellipse cx=\"66\" cy=\"-138.495\" fill=\"#fa8072\" rx=\"18.5\" ry=\"18.5\" stroke=\"#ff0000\"/>\n",
       "<text fill=\"#000000\" font-family=\"Times,serif\" font-size=\"8.00\" text-anchor=\"middle\" x=\"66\" y=\"-136.595\">7,1</text>\n",
       "</g>\n",
       "<!-- (8, 1) -->\n",
       "<g class=\"node\" id=\"node2\">\n",
       "<title>(8, 1)</title>\n",
       "<ellipse cx=\"36\" cy=\"-408.495\" fill=\"#fa8072\" rx=\"18.5\" ry=\"18.5\" stroke=\"#ff0000\"/>\n",
       "<text fill=\"#000000\" font-family=\"Times,serif\" font-size=\"8.00\" text-anchor=\"middle\" x=\"36\" y=\"-406.595\">8,1</text>\n",
       "</g>\n",
       "<!-- (8, 2) -->\n",
       "<g class=\"node\" id=\"node3\">\n",
       "<title>(8, 2)</title>\n",
       "<ellipse cx=\"36\" cy=\"-408.495\" fill=\"#fa8072\" rx=\"18.5\" ry=\"18.5\" stroke=\"#ff0000\"/>\n",
       "<text fill=\"#000000\" font-family=\"Times,serif\" font-size=\"8.00\" text-anchor=\"middle\" x=\"36\" y=\"-406.595\">8,2</text>\n",
       "</g>\n",
       "<!-- (9, 1) -->\n",
       "<g class=\"node\" id=\"node4\">\n",
       "<title>(9, 1)</title>\n",
       "<ellipse cx=\"275.997\" cy=\"-183.495\" fill=\"#fa8072\" rx=\"18.5\" ry=\"18.5\" stroke=\"#ff0000\"/>\n",
       "<text fill=\"#000000\" font-family=\"Times,serif\" font-size=\"8.00\" text-anchor=\"middle\" x=\"275.997\" y=\"-181.595\">9,1</text>\n",
       "</g>\n",
       "<!-- (9, 2) -->\n",
       "<g class=\"node\" id=\"node5\">\n",
       "<title>(9, 2)</title>\n",
       "<ellipse cx=\"275.997\" cy=\"-183.495\" fill=\"#fa8072\" rx=\"18.5\" ry=\"18.5\" stroke=\"#ff0000\"/>\n",
       "<text fill=\"#000000\" font-family=\"Times,serif\" font-size=\"8.00\" text-anchor=\"middle\" x=\"275.997\" y=\"-181.595\">9,2</text>\n",
       "</g>\n",
       "<!-- (10, 1) -->\n",
       "<g class=\"node\" id=\"node6\">\n",
       "<title>(10, 1)</title>\n",
       "<ellipse cx=\"21\" cy=\"-318.495\" fill=\"#fa8072\" rx=\"21\" ry=\"21\" stroke=\"#ff0000\"/>\n",
       "<text fill=\"#000000\" font-family=\"Times,serif\" font-size=\"8.00\" text-anchor=\"middle\" x=\"21\" y=\"-316.595\">10,1</text>\n",
       "</g>\n",
       "<!-- (10, 2) -->\n",
       "<g class=\"node\" id=\"node7\">\n",
       "<title>(10, 2)</title>\n",
       "<ellipse cx=\"21\" cy=\"-318.495\" fill=\"#fa8072\" rx=\"21\" ry=\"21\" stroke=\"#ff0000\"/>\n",
       "<text fill=\"#000000\" font-family=\"Times,serif\" font-size=\"8.00\" text-anchor=\"middle\" x=\"21\" y=\"-316.595\">10,2</text>\n",
       "</g>\n",
       "<!-- (10, 3) -->\n",
       "<g class=\"node\" id=\"node8\">\n",
       "<title>(10, 3)</title>\n",
       "<ellipse cx=\"21\" cy=\"-318.495\" fill=\"#fa8072\" rx=\"21\" ry=\"21\" stroke=\"#ff0000\"/>\n",
       "<text fill=\"#000000\" font-family=\"Times,serif\" font-size=\"8.00\" text-anchor=\"middle\" x=\"21\" y=\"-316.595\">10,3</text>\n",
       "</g>\n",
       "<!-- (11, 1) -->\n",
       "<g class=\"node\" id=\"node9\">\n",
       "<title>(11, 1)</title>\n",
       "<ellipse cx=\"395.997\" cy=\"-348.495\" fill=\"#fa8072\" rx=\"21\" ry=\"21\" stroke=\"#ff0000\"/>\n",
       "<text fill=\"#000000\" font-family=\"Times,serif\" font-size=\"8.00\" text-anchor=\"middle\" x=\"395.997\" y=\"-346.595\">11,1</text>\n",
       "</g>\n",
       "<!-- (11, 2) -->\n",
       "<g class=\"node\" id=\"node10\">\n",
       "<title>(11, 2)</title>\n",
       "<ellipse cx=\"395.997\" cy=\"-348.495\" fill=\"#fa8072\" rx=\"21\" ry=\"21\" stroke=\"#ff0000\"/>\n",
       "<text fill=\"#000000\" font-family=\"Times,serif\" font-size=\"8.00\" text-anchor=\"middle\" x=\"395.997\" y=\"-346.595\">11,2</text>\n",
       "</g>\n",
       "<!-- (1, 1) -->\n",
       "<g class=\"node\" id=\"node11\">\n",
       "<title>(1, 1)</title>\n",
       "<ellipse cx=\"305.997\" cy=\"-483.495\" fill=\"#9aff9a\" rx=\"18.5\" ry=\"18.5\" stroke=\"#00ff00\"/>\n",
       "<text fill=\"#000000\" font-family=\"Times,serif\" font-size=\"8.00\" text-anchor=\"middle\" x=\"305.997\" y=\"-481.595\">1,1</text>\n",
       "</g>\n",
       "<!-- (1, 2) -->\n",
       "<g class=\"node\" id=\"node12\">\n",
       "<title>(1, 2)</title>\n",
       "<ellipse cx=\"305.997\" cy=\"-483.495\" fill=\"#9aff9a\" rx=\"18.5\" ry=\"18.5\" stroke=\"#00ff00\"/>\n",
       "<text fill=\"#000000\" font-family=\"Times,serif\" font-size=\"8.00\" text-anchor=\"middle\" x=\"305.997\" y=\"-481.595\">1,2</text>\n",
       "</g>\n",
       "<!-- (2, 1) -->\n",
       "<g class=\"node\" id=\"node13\">\n",
       "<title>(2, 1)</title>\n",
       "<ellipse cx=\"575.997\" cy=\"-123.495\" fill=\"#9aff9a\" rx=\"18.5\" ry=\"18.5\" stroke=\"#00ff00\"/>\n",
       "<text fill=\"#000000\" font-family=\"Times,serif\" font-size=\"8.00\" text-anchor=\"middle\" x=\"575.997\" y=\"-121.595\">2,1</text>\n",
       "</g>\n",
       "<!-- (3, 1) -->\n",
       "<g class=\"node\" id=\"node14\">\n",
       "<title>(3, 1)</title>\n",
       "<ellipse cx=\"725.997\" cy=\"-168.495\" fill=\"#9aff9a\" rx=\"18.5\" ry=\"18.5\" stroke=\"#00ff00\"/>\n",
       "<text fill=\"#000000\" font-family=\"Times,serif\" font-size=\"8.00\" text-anchor=\"middle\" x=\"725.997\" y=\"-166.595\">3,1</text>\n",
       "</g>\n",
       "<!-- (4, 1) -->\n",
       "<g class=\"node\" id=\"node15\">\n",
       "<title>(4, 1)</title>\n",
       "<ellipse cx=\"66\" cy=\"-513.495\" fill=\"#9aff9a\" rx=\"18.5\" ry=\"18.5\" stroke=\"#00ff00\"/>\n",
       "<text fill=\"#000000\" font-family=\"Times,serif\" font-size=\"8.00\" text-anchor=\"middle\" x=\"66\" y=\"-511.595\">4,1</text>\n",
       "</g>\n",
       "<!-- (5, 1) -->\n",
       "<g class=\"node\" id=\"node16\">\n",
       "<title>(5, 1)</title>\n",
       "<ellipse cx=\"500.997\" cy=\"-18.5\" fill=\"#9aff9a\" rx=\"18.5\" ry=\"18.5\" stroke=\"#00ff00\"/>\n",
       "<text fill=\"#000000\" font-family=\"Times,serif\" font-size=\"8.00\" text-anchor=\"middle\" x=\"500.997\" y=\"-16.6\">5,1</text>\n",
       "</g>\n",
       "<!-- (6, 1) -->\n",
       "<g class=\"node\" id=\"node17\">\n",
       "<title>(6, 1)</title>\n",
       "<ellipse cx=\"230.997\" cy=\"-333.495\" fill=\"#9aff9a\" rx=\"18.5\" ry=\"18.5\" stroke=\"#00ff00\"/>\n",
       "<text fill=\"#000000\" font-family=\"Times,serif\" font-size=\"8.00\" text-anchor=\"middle\" x=\"230.997\" y=\"-331.595\">6,1</text>\n",
       "</g>\n",
       "<!-- (6, 2) -->\n",
       "<g class=\"node\" id=\"node18\">\n",
       "<title>(6, 2)</title>\n",
       "<ellipse cx=\"230.997\" cy=\"-333.495\" fill=\"#9aff9a\" rx=\"18.5\" ry=\"18.5\" stroke=\"#00ff00\"/>\n",
       "<text fill=\"#000000\" font-family=\"Times,serif\" font-size=\"8.00\" text-anchor=\"middle\" x=\"230.997\" y=\"-331.595\">6,2</text>\n",
       "</g>\n",
       "<!-- 0 -->\n",
       "<g class=\"node\" id=\"node19\">\n",
       "<title>0</title>\n",
       "<ellipse cx=\"440.997\" cy=\"-483.495\" fill=\"none\" rx=\"14\" ry=\"14\" stroke=\"#000000\"/>\n",
       "<text fill=\"#000000\" font-family=\"Times,serif\" font-size=\"8.00\" text-anchor=\"middle\" x=\"440.997\" y=\"-481.595\">0</text>\n",
       "</g>\n",
       "<!-- 1 -->\n",
       "<g class=\"node\" id=\"node20\">\n",
       "<title>1</title>\n",
       "<ellipse cx=\"125.997\" cy=\"-33.5\" fill=\"none\" rx=\"14\" ry=\"14\" stroke=\"#000000\"/>\n",
       "<text fill=\"#000000\" font-family=\"Times,serif\" font-size=\"8.00\" text-anchor=\"middle\" x=\"125.997\" y=\"-31.6\">1</text>\n",
       "</g>\n",
       "</g>\n",
       "</svg>"
      ],
      "text/plain": [
       "<IPython.core.display.SVG object>"
      ]
     },
     "metadata": {},
     "output_type": "display_data"
    }
   ],
   "source": [
    "draw_initial_graph(G, scale)\n",
    "display(SVG(filename=basename+'.svg'))"
   ]
  },
  {
   "cell_type": "code",
   "execution_count": 5,
   "metadata": {
    "pycharm": {
     "is_executing": false
    }
   },
   "outputs": [
    {
     "data": {
      "text/html": [
       "<div>\n",
       "<style scoped>\n",
       "    .dataframe tbody tr th:only-of-type {\n",
       "        vertical-align: middle;\n",
       "    }\n",
       "\n",
       "    .dataframe tbody tr th {\n",
       "        vertical-align: top;\n",
       "    }\n",
       "\n",
       "    .dataframe thead th {\n",
       "        text-align: right;\n",
       "    }\n",
       "</style>\n",
       "<table border=\"1\" class=\"dataframe\">\n",
       "  <thead>\n",
       "    <tr style=\"text-align: right;\">\n",
       "      <th></th>\n",
       "      <th>label</th>\n",
       "      <th>load</th>\n",
       "      <th>station</th>\n",
       "      <th>x</th>\n",
       "      <th>y</th>\n",
       "    </tr>\n",
       "  </thead>\n",
       "  <tbody>\n",
       "    <tr>\n",
       "      <th>(7, 1)</th>\n",
       "      <td>7,1</td>\n",
       "      <td>-1</td>\n",
       "      <td>7.0</td>\n",
       "      <td>13</td>\n",
       "      <td>17</td>\n",
       "    </tr>\n",
       "    <tr>\n",
       "      <th>(8, 1)</th>\n",
       "      <td>8,1</td>\n",
       "      <td>-2</td>\n",
       "      <td>8.0</td>\n",
       "      <td>11</td>\n",
       "      <td>35</td>\n",
       "    </tr>\n",
       "    <tr>\n",
       "      <th>(8, 2)</th>\n",
       "      <td>8,2</td>\n",
       "      <td>-2</td>\n",
       "      <td>8.0</td>\n",
       "      <td>11</td>\n",
       "      <td>35</td>\n",
       "    </tr>\n",
       "    <tr>\n",
       "      <th>(9, 1)</th>\n",
       "      <td>9,1</td>\n",
       "      <td>-2</td>\n",
       "      <td>9.0</td>\n",
       "      <td>27</td>\n",
       "      <td>20</td>\n",
       "    </tr>\n",
       "    <tr>\n",
       "      <th>(9, 2)</th>\n",
       "      <td>9,2</td>\n",
       "      <td>-2</td>\n",
       "      <td>9.0</td>\n",
       "      <td>27</td>\n",
       "      <td>20</td>\n",
       "    </tr>\n",
       "    <tr>\n",
       "      <th>(10, 1)</th>\n",
       "      <td>10,1</td>\n",
       "      <td>-3</td>\n",
       "      <td>10.0</td>\n",
       "      <td>10</td>\n",
       "      <td>29</td>\n",
       "    </tr>\n",
       "    <tr>\n",
       "      <th>(10, 2)</th>\n",
       "      <td>10,2</td>\n",
       "      <td>-3</td>\n",
       "      <td>10.0</td>\n",
       "      <td>10</td>\n",
       "      <td>29</td>\n",
       "    </tr>\n",
       "    <tr>\n",
       "      <th>(10, 3)</th>\n",
       "      <td>10,3</td>\n",
       "      <td>-3</td>\n",
       "      <td>10.0</td>\n",
       "      <td>10</td>\n",
       "      <td>29</td>\n",
       "    </tr>\n",
       "    <tr>\n",
       "      <th>(11, 1)</th>\n",
       "      <td>11,1</td>\n",
       "      <td>-2</td>\n",
       "      <td>11.0</td>\n",
       "      <td>35</td>\n",
       "      <td>31</td>\n",
       "    </tr>\n",
       "    <tr>\n",
       "      <th>(11, 2)</th>\n",
       "      <td>11,2</td>\n",
       "      <td>-2</td>\n",
       "      <td>11.0</td>\n",
       "      <td>35</td>\n",
       "      <td>31</td>\n",
       "    </tr>\n",
       "    <tr>\n",
       "      <th>(1, 1)</th>\n",
       "      <td>1,1</td>\n",
       "      <td>2</td>\n",
       "      <td>1.0</td>\n",
       "      <td>29</td>\n",
       "      <td>40</td>\n",
       "    </tr>\n",
       "    <tr>\n",
       "      <th>(1, 2)</th>\n",
       "      <td>1,2</td>\n",
       "      <td>2</td>\n",
       "      <td>1.0</td>\n",
       "      <td>29</td>\n",
       "      <td>40</td>\n",
       "    </tr>\n",
       "    <tr>\n",
       "      <th>(2, 1)</th>\n",
       "      <td>2,1</td>\n",
       "      <td>1</td>\n",
       "      <td>2.0</td>\n",
       "      <td>47</td>\n",
       "      <td>16</td>\n",
       "    </tr>\n",
       "    <tr>\n",
       "      <th>(3, 1)</th>\n",
       "      <td>3,1</td>\n",
       "      <td>1</td>\n",
       "      <td>3.0</td>\n",
       "      <td>57</td>\n",
       "      <td>19</td>\n",
       "    </tr>\n",
       "    <tr>\n",
       "      <th>(4, 1)</th>\n",
       "      <td>4,1</td>\n",
       "      <td>1</td>\n",
       "      <td>4.0</td>\n",
       "      <td>13</td>\n",
       "      <td>42</td>\n",
       "    </tr>\n",
       "    <tr>\n",
       "      <th>(5, 1)</th>\n",
       "      <td>5,1</td>\n",
       "      <td>1</td>\n",
       "      <td>5.0</td>\n",
       "      <td>42</td>\n",
       "      <td>9</td>\n",
       "    </tr>\n",
       "    <tr>\n",
       "      <th>(6, 1)</th>\n",
       "      <td>6,1</td>\n",
       "      <td>2</td>\n",
       "      <td>6.0</td>\n",
       "      <td>24</td>\n",
       "      <td>30</td>\n",
       "    </tr>\n",
       "    <tr>\n",
       "      <th>(6, 2)</th>\n",
       "      <td>6,2</td>\n",
       "      <td>2</td>\n",
       "      <td>6.0</td>\n",
       "      <td>24</td>\n",
       "      <td>30</td>\n",
       "    </tr>\n",
       "    <tr>\n",
       "      <th>0</th>\n",
       "      <td>0</td>\n",
       "      <td>0</td>\n",
       "      <td>NaN</td>\n",
       "      <td>38</td>\n",
       "      <td>40</td>\n",
       "    </tr>\n",
       "    <tr>\n",
       "      <th>1</th>\n",
       "      <td>1</td>\n",
       "      <td>0</td>\n",
       "      <td>NaN</td>\n",
       "      <td>17</td>\n",
       "      <td>10</td>\n",
       "    </tr>\n",
       "  </tbody>\n",
       "</table>\n",
       "</div>"
      ],
      "text/plain": [
       "        label  load  station   x   y\n",
       "(7, 1)    7,1    -1      7.0  13  17\n",
       "(8, 1)    8,1    -2      8.0  11  35\n",
       "(8, 2)    8,2    -2      8.0  11  35\n",
       "(9, 1)    9,1    -2      9.0  27  20\n",
       "(9, 2)    9,2    -2      9.0  27  20\n",
       "(10, 1)  10,1    -3     10.0  10  29\n",
       "(10, 2)  10,2    -3     10.0  10  29\n",
       "(10, 3)  10,3    -3     10.0  10  29\n",
       "(11, 1)  11,1    -2     11.0  35  31\n",
       "(11, 2)  11,2    -2     11.0  35  31\n",
       "(1, 1)    1,1     2      1.0  29  40\n",
       "(1, 2)    1,2     2      1.0  29  40\n",
       "(2, 1)    2,1     1      2.0  47  16\n",
       "(3, 1)    3,1     1      3.0  57  19\n",
       "(4, 1)    4,1     1      4.0  13  42\n",
       "(5, 1)    5,1     1      5.0  42   9\n",
       "(6, 1)    6,1     2      6.0  24  30\n",
       "(6, 2)    6,2     2      6.0  24  30\n",
       "0           0     0      NaN  38  40\n",
       "1           1     0      NaN  17  10"
      ]
     },
     "execution_count": 5,
     "metadata": {},
     "output_type": "execute_result"
    }
   ],
   "source": [
    "pd.DataFrame([i[1] for i in G.nodes(data=True)], index=G.nodes())"
   ]
  },
  {
   "cell_type": "code",
   "execution_count": 6,
   "metadata": {
    "pycharm": {
     "is_executing": false
    }
   },
   "outputs": [],
   "source": [
    "edges = nx.to_pandas_edgelist(G)"
   ]
  },
  {
   "cell_type": "code",
   "execution_count": 7,
   "metadata": {
    "pycharm": {
     "is_executing": false
    }
   },
   "outputs": [
    {
     "data": {
      "text/html": [
       "<div>\n",
       "<style scoped>\n",
       "    .dataframe tbody tr th:only-of-type {\n",
       "        vertical-align: middle;\n",
       "    }\n",
       "\n",
       "    .dataframe tbody tr th {\n",
       "        vertical-align: top;\n",
       "    }\n",
       "\n",
       "    .dataframe thead th {\n",
       "        text-align: right;\n",
       "    }\n",
       "</style>\n",
       "<table border=\"1\" class=\"dataframe\">\n",
       "  <thead>\n",
       "    <tr style=\"text-align: right;\">\n",
       "      <th></th>\n",
       "      <th>source</th>\n",
       "      <th>target</th>\n",
       "      <th>time</th>\n",
       "    </tr>\n",
       "  </thead>\n",
       "  <tbody>\n",
       "    <tr>\n",
       "      <th>0</th>\n",
       "      <td>(7, 1)</td>\n",
       "      <td>(1, 1)</td>\n",
       "      <td>2801</td>\n",
       "    </tr>\n",
       "    <tr>\n",
       "      <th>1</th>\n",
       "      <td>(7, 1)</td>\n",
       "      <td>(1, 2)</td>\n",
       "      <td>2801</td>\n",
       "    </tr>\n",
       "    <tr>\n",
       "      <th>2</th>\n",
       "      <td>(7, 1)</td>\n",
       "      <td>(2, 1)</td>\n",
       "      <td>3401</td>\n",
       "    </tr>\n",
       "    <tr>\n",
       "      <th>3</th>\n",
       "      <td>(7, 1)</td>\n",
       "      <td>(3, 1)</td>\n",
       "      <td>4404</td>\n",
       "    </tr>\n",
       "    <tr>\n",
       "      <th>4</th>\n",
       "      <td>(7, 1)</td>\n",
       "      <td>(4, 1)</td>\n",
       "      <td>2500</td>\n",
       "    </tr>\n",
       "    <tr>\n",
       "      <th>5</th>\n",
       "      <td>(7, 1)</td>\n",
       "      <td>(5, 1)</td>\n",
       "      <td>3008</td>\n",
       "    </tr>\n",
       "    <tr>\n",
       "      <th>6</th>\n",
       "      <td>(7, 1)</td>\n",
       "      <td>(6, 1)</td>\n",
       "      <td>1702</td>\n",
       "    </tr>\n",
       "    <tr>\n",
       "      <th>7</th>\n",
       "      <td>(7, 1)</td>\n",
       "      <td>(6, 2)</td>\n",
       "      <td>1702</td>\n",
       "    </tr>\n",
       "    <tr>\n",
       "      <th>8</th>\n",
       "      <td>(7, 1)</td>\n",
       "      <td>1</td>\n",
       "      <td>806</td>\n",
       "    </tr>\n",
       "    <tr>\n",
       "      <th>9</th>\n",
       "      <td>(8, 1)</td>\n",
       "      <td>(1, 1)</td>\n",
       "      <td>1868</td>\n",
       "    </tr>\n",
       "    <tr>\n",
       "      <th>10</th>\n",
       "      <td>(8, 1)</td>\n",
       "      <td>(1, 2)</td>\n",
       "      <td>1868</td>\n",
       "    </tr>\n",
       "    <tr>\n",
       "      <th>11</th>\n",
       "      <td>(8, 1)</td>\n",
       "      <td>(2, 1)</td>\n",
       "      <td>4070</td>\n",
       "    </tr>\n",
       "    <tr>\n",
       "      <th>12</th>\n",
       "      <td>(8, 1)</td>\n",
       "      <td>(3, 1)</td>\n",
       "      <td>4870</td>\n",
       "    </tr>\n",
       "    <tr>\n",
       "      <th>13</th>\n",
       "      <td>(8, 1)</td>\n",
       "      <td>(4, 1)</td>\n",
       "      <td>728</td>\n",
       "    </tr>\n",
       "    <tr>\n",
       "      <th>14</th>\n",
       "      <td>(8, 1)</td>\n",
       "      <td>(5, 1)</td>\n",
       "      <td>4045</td>\n",
       "    </tr>\n",
       "    <tr>\n",
       "      <th>15</th>\n",
       "      <td>(8, 1)</td>\n",
       "      <td>(6, 1)</td>\n",
       "      <td>1392</td>\n",
       "    </tr>\n",
       "    <tr>\n",
       "      <th>16</th>\n",
       "      <td>(8, 1)</td>\n",
       "      <td>(6, 2)</td>\n",
       "      <td>1392</td>\n",
       "    </tr>\n",
       "    <tr>\n",
       "      <th>17</th>\n",
       "      <td>(8, 1)</td>\n",
       "      <td>1</td>\n",
       "      <td>2570</td>\n",
       "    </tr>\n",
       "    <tr>\n",
       "      <th>18</th>\n",
       "      <td>(8, 2)</td>\n",
       "      <td>(1, 1)</td>\n",
       "      <td>1868</td>\n",
       "    </tr>\n",
       "    <tr>\n",
       "      <th>19</th>\n",
       "      <td>(8, 2)</td>\n",
       "      <td>(1, 2)</td>\n",
       "      <td>1868</td>\n",
       "    </tr>\n",
       "    <tr>\n",
       "      <th>20</th>\n",
       "      <td>(8, 2)</td>\n",
       "      <td>(2, 1)</td>\n",
       "      <td>4070</td>\n",
       "    </tr>\n",
       "    <tr>\n",
       "      <th>21</th>\n",
       "      <td>(8, 2)</td>\n",
       "      <td>(3, 1)</td>\n",
       "      <td>4870</td>\n",
       "    </tr>\n",
       "    <tr>\n",
       "      <th>22</th>\n",
       "      <td>(8, 2)</td>\n",
       "      <td>(4, 1)</td>\n",
       "      <td>728</td>\n",
       "    </tr>\n",
       "    <tr>\n",
       "      <th>23</th>\n",
       "      <td>(8, 2)</td>\n",
       "      <td>(5, 1)</td>\n",
       "      <td>4045</td>\n",
       "    </tr>\n",
       "    <tr>\n",
       "      <th>24</th>\n",
       "      <td>(8, 2)</td>\n",
       "      <td>(6, 1)</td>\n",
       "      <td>1392</td>\n",
       "    </tr>\n",
       "    <tr>\n",
       "      <th>25</th>\n",
       "      <td>(8, 2)</td>\n",
       "      <td>(6, 2)</td>\n",
       "      <td>1392</td>\n",
       "    </tr>\n",
       "    <tr>\n",
       "      <th>26</th>\n",
       "      <td>(8, 2)</td>\n",
       "      <td>1</td>\n",
       "      <td>2570</td>\n",
       "    </tr>\n",
       "    <tr>\n",
       "      <th>27</th>\n",
       "      <td>(9, 1)</td>\n",
       "      <td>(1, 1)</td>\n",
       "      <td>2009</td>\n",
       "    </tr>\n",
       "    <tr>\n",
       "      <th>28</th>\n",
       "      <td>(9, 1)</td>\n",
       "      <td>(1, 2)</td>\n",
       "      <td>2009</td>\n",
       "    </tr>\n",
       "    <tr>\n",
       "      <th>29</th>\n",
       "      <td>(9, 1)</td>\n",
       "      <td>(2, 1)</td>\n",
       "      <td>2039</td>\n",
       "    </tr>\n",
       "    <tr>\n",
       "      <th>...</th>\n",
       "      <td>...</td>\n",
       "      <td>...</td>\n",
       "      <td>...</td>\n",
       "    </tr>\n",
       "    <tr>\n",
       "      <th>148</th>\n",
       "      <td>(5, 1)</td>\n",
       "      <td>(11, 1)</td>\n",
       "      <td>2308</td>\n",
       "    </tr>\n",
       "    <tr>\n",
       "      <th>149</th>\n",
       "      <td>(5, 1)</td>\n",
       "      <td>(11, 2)</td>\n",
       "      <td>2308</td>\n",
       "    </tr>\n",
       "    <tr>\n",
       "      <th>150</th>\n",
       "      <td>(6, 1)</td>\n",
       "      <td>(7, 1)</td>\n",
       "      <td>1702</td>\n",
       "    </tr>\n",
       "    <tr>\n",
       "      <th>151</th>\n",
       "      <td>(6, 1)</td>\n",
       "      <td>(8, 1)</td>\n",
       "      <td>1392</td>\n",
       "    </tr>\n",
       "    <tr>\n",
       "      <th>152</th>\n",
       "      <td>(6, 1)</td>\n",
       "      <td>(8, 2)</td>\n",
       "      <td>1392</td>\n",
       "    </tr>\n",
       "    <tr>\n",
       "      <th>153</th>\n",
       "      <td>(6, 1)</td>\n",
       "      <td>(9, 1)</td>\n",
       "      <td>1044</td>\n",
       "    </tr>\n",
       "    <tr>\n",
       "      <th>154</th>\n",
       "      <td>(6, 1)</td>\n",
       "      <td>(9, 2)</td>\n",
       "      <td>1044</td>\n",
       "    </tr>\n",
       "    <tr>\n",
       "      <th>155</th>\n",
       "      <td>(6, 1)</td>\n",
       "      <td>(10, 1)</td>\n",
       "      <td>1403</td>\n",
       "    </tr>\n",
       "    <tr>\n",
       "      <th>156</th>\n",
       "      <td>(6, 1)</td>\n",
       "      <td>(10, 2)</td>\n",
       "      <td>1403</td>\n",
       "    </tr>\n",
       "    <tr>\n",
       "      <th>157</th>\n",
       "      <td>(6, 1)</td>\n",
       "      <td>(10, 3)</td>\n",
       "      <td>1403</td>\n",
       "    </tr>\n",
       "    <tr>\n",
       "      <th>158</th>\n",
       "      <td>(6, 1)</td>\n",
       "      <td>(11, 1)</td>\n",
       "      <td>1104</td>\n",
       "    </tr>\n",
       "    <tr>\n",
       "      <th>159</th>\n",
       "      <td>(6, 1)</td>\n",
       "      <td>(11, 2)</td>\n",
       "      <td>1104</td>\n",
       "    </tr>\n",
       "    <tr>\n",
       "      <th>160</th>\n",
       "      <td>(6, 2)</td>\n",
       "      <td>(7, 1)</td>\n",
       "      <td>1702</td>\n",
       "    </tr>\n",
       "    <tr>\n",
       "      <th>161</th>\n",
       "      <td>(6, 2)</td>\n",
       "      <td>(8, 1)</td>\n",
       "      <td>1392</td>\n",
       "    </tr>\n",
       "    <tr>\n",
       "      <th>162</th>\n",
       "      <td>(6, 2)</td>\n",
       "      <td>(8, 2)</td>\n",
       "      <td>1392</td>\n",
       "    </tr>\n",
       "    <tr>\n",
       "      <th>163</th>\n",
       "      <td>(6, 2)</td>\n",
       "      <td>(9, 1)</td>\n",
       "      <td>1044</td>\n",
       "    </tr>\n",
       "    <tr>\n",
       "      <th>164</th>\n",
       "      <td>(6, 2)</td>\n",
       "      <td>(9, 2)</td>\n",
       "      <td>1044</td>\n",
       "    </tr>\n",
       "    <tr>\n",
       "      <th>165</th>\n",
       "      <td>(6, 2)</td>\n",
       "      <td>(10, 1)</td>\n",
       "      <td>1403</td>\n",
       "    </tr>\n",
       "    <tr>\n",
       "      <th>166</th>\n",
       "      <td>(6, 2)</td>\n",
       "      <td>(10, 2)</td>\n",
       "      <td>1403</td>\n",
       "    </tr>\n",
       "    <tr>\n",
       "      <th>167</th>\n",
       "      <td>(6, 2)</td>\n",
       "      <td>(10, 3)</td>\n",
       "      <td>1403</td>\n",
       "    </tr>\n",
       "    <tr>\n",
       "      <th>168</th>\n",
       "      <td>(6, 2)</td>\n",
       "      <td>(11, 1)</td>\n",
       "      <td>1104</td>\n",
       "    </tr>\n",
       "    <tr>\n",
       "      <th>169</th>\n",
       "      <td>(6, 2)</td>\n",
       "      <td>(11, 2)</td>\n",
       "      <td>1104</td>\n",
       "    </tr>\n",
       "    <tr>\n",
       "      <th>170</th>\n",
       "      <td>0</td>\n",
       "      <td>(1, 1)</td>\n",
       "      <td>900</td>\n",
       "    </tr>\n",
       "    <tr>\n",
       "      <th>171</th>\n",
       "      <td>0</td>\n",
       "      <td>(1, 2)</td>\n",
       "      <td>900</td>\n",
       "    </tr>\n",
       "    <tr>\n",
       "      <th>172</th>\n",
       "      <td>0</td>\n",
       "      <td>(2, 1)</td>\n",
       "      <td>2563</td>\n",
       "    </tr>\n",
       "    <tr>\n",
       "      <th>173</th>\n",
       "      <td>0</td>\n",
       "      <td>(3, 1)</td>\n",
       "      <td>2831</td>\n",
       "    </tr>\n",
       "    <tr>\n",
       "      <th>174</th>\n",
       "      <td>0</td>\n",
       "      <td>(4, 1)</td>\n",
       "      <td>2507</td>\n",
       "    </tr>\n",
       "    <tr>\n",
       "      <th>175</th>\n",
       "      <td>0</td>\n",
       "      <td>(5, 1)</td>\n",
       "      <td>3125</td>\n",
       "    </tr>\n",
       "    <tr>\n",
       "      <th>176</th>\n",
       "      <td>0</td>\n",
       "      <td>(6, 1)</td>\n",
       "      <td>1720</td>\n",
       "    </tr>\n",
       "    <tr>\n",
       "      <th>177</th>\n",
       "      <td>0</td>\n",
       "      <td>(6, 2)</td>\n",
       "      <td>1720</td>\n",
       "    </tr>\n",
       "  </tbody>\n",
       "</table>\n",
       "<p>178 rows × 3 columns</p>\n",
       "</div>"
      ],
      "text/plain": [
       "     source   target  time\n",
       "0    (7, 1)   (1, 1)  2801\n",
       "1    (7, 1)   (1, 2)  2801\n",
       "2    (7, 1)   (2, 1)  3401\n",
       "3    (7, 1)   (3, 1)  4404\n",
       "4    (7, 1)   (4, 1)  2500\n",
       "5    (7, 1)   (5, 1)  3008\n",
       "6    (7, 1)   (6, 1)  1702\n",
       "7    (7, 1)   (6, 2)  1702\n",
       "8    (7, 1)        1   806\n",
       "9    (8, 1)   (1, 1)  1868\n",
       "10   (8, 1)   (1, 2)  1868\n",
       "11   (8, 1)   (2, 1)  4070\n",
       "12   (8, 1)   (3, 1)  4870\n",
       "13   (8, 1)   (4, 1)   728\n",
       "14   (8, 1)   (5, 1)  4045\n",
       "15   (8, 1)   (6, 1)  1392\n",
       "16   (8, 1)   (6, 2)  1392\n",
       "17   (8, 1)        1  2570\n",
       "18   (8, 2)   (1, 1)  1868\n",
       "19   (8, 2)   (1, 2)  1868\n",
       "20   (8, 2)   (2, 1)  4070\n",
       "21   (8, 2)   (3, 1)  4870\n",
       "22   (8, 2)   (4, 1)   728\n",
       "23   (8, 2)   (5, 1)  4045\n",
       "24   (8, 2)   (6, 1)  1392\n",
       "25   (8, 2)   (6, 2)  1392\n",
       "26   (8, 2)        1  2570\n",
       "27   (9, 1)   (1, 1)  2009\n",
       "28   (9, 1)   (1, 2)  2009\n",
       "29   (9, 1)   (2, 1)  2039\n",
       "..      ...      ...   ...\n",
       "148  (5, 1)  (11, 1)  2308\n",
       "149  (5, 1)  (11, 2)  2308\n",
       "150  (6, 1)   (7, 1)  1702\n",
       "151  (6, 1)   (8, 1)  1392\n",
       "152  (6, 1)   (8, 2)  1392\n",
       "153  (6, 1)   (9, 1)  1044\n",
       "154  (6, 1)   (9, 2)  1044\n",
       "155  (6, 1)  (10, 1)  1403\n",
       "156  (6, 1)  (10, 2)  1403\n",
       "157  (6, 1)  (10, 3)  1403\n",
       "158  (6, 1)  (11, 1)  1104\n",
       "159  (6, 1)  (11, 2)  1104\n",
       "160  (6, 2)   (7, 1)  1702\n",
       "161  (6, 2)   (8, 1)  1392\n",
       "162  (6, 2)   (8, 2)  1392\n",
       "163  (6, 2)   (9, 1)  1044\n",
       "164  (6, 2)   (9, 2)  1044\n",
       "165  (6, 2)  (10, 1)  1403\n",
       "166  (6, 2)  (10, 2)  1403\n",
       "167  (6, 2)  (10, 3)  1403\n",
       "168  (6, 2)  (11, 1)  1104\n",
       "169  (6, 2)  (11, 2)  1104\n",
       "170       0   (1, 1)   900\n",
       "171       0   (1, 2)   900\n",
       "172       0   (2, 1)  2563\n",
       "173       0   (3, 1)  2831\n",
       "174       0   (4, 1)  2507\n",
       "175       0   (5, 1)  3125\n",
       "176       0   (6, 1)  1720\n",
       "177       0   (6, 2)  1720\n",
       "\n",
       "[178 rows x 3 columns]"
      ]
     },
     "execution_count": 7,
     "metadata": {},
     "output_type": "execute_result"
    }
   ],
   "source": [
    "edges"
   ]
  },
  {
   "cell_type": "code",
   "execution_count": 8,
   "metadata": {
    "pycharm": {
     "is_executing": false
    }
   },
   "outputs": [
    {
     "name": "stdout",
     "output_type": "stream",
     "text": [
      "Maximum distance time between nodes: 4870\n"
     ]
    }
   ],
   "source": [
    "print(\"Maximum distance time between nodes:\",edges['time'].max())"
   ]
  },
  {
   "cell_type": "markdown",
   "metadata": {},
   "source": [
    "### Model implementation"
   ]
  },
  {
   "cell_type": "code",
   "execution_count": 9,
   "metadata": {
    "pycharm": {
     "is_executing": false
    }
   },
   "outputs": [],
   "source": [
    "L = [i for i in range(1,5)] #4 vehicles\n",
    "t_budget = 7000         #time budget\n",
    "start_depot = '0'\n",
    "end_depot = '1'\n",
    "stations = [1,2,3,4,5,6,7,8,9,10,11]"
   ]
  },
  {
   "cell_type": "code",
   "execution_count": 10,
   "metadata": {
    "pycharm": {
     "is_executing": false
    }
   },
   "outputs": [],
   "source": [
    "v_pick = [i for i in G.nodes() if G.node[i]['load'] > 0] # pickup nodes\n",
    "v_del = [i for i in G.nodes() if G.node[i]['load'] < 0] # delivery nodes\n",
    "station_visits = G.nodes()-{start_depot, end_depot} # V set"
   ]
  },
  {
   "cell_type": "code",
   "execution_count": 11,
   "metadata": {
    "pycharm": {
     "is_executing": false
    }
   },
   "outputs": [
    {
     "name": "stdout",
     "output_type": "stream",
     "text": [
      "Academic license - for non-commercial use only\n"
     ]
    }
   ],
   "source": [
    "mod = gb.Model()"
   ]
  },
  {
   "cell_type": "code",
   "execution_count": 12,
   "metadata": {
    "pycharm": {
     "is_executing": false
    }
   },
   "outputs": [
    {
     "name": "stdout",
     "output_type": "stream",
     "text": [
      "Warning: variable name \"x[(4, 1),1]\" has a space\n",
      "Warning: to let Gurobi read it back, use rlp format\n"
     ]
    }
   ],
   "source": [
    "x = mod.addVars(station_visits, L, obj=1, vtype=gb.GRB.BINARY, name='x')\n",
    "\n",
    "y = mod.addVars(G.edges(), L, vtype=gb.GRB.BINARY, name='y')\n",
    "\n",
    "a = mod.addVars(G.nodes(), lb=1.0, ub=len(station_visits), vtype=gb.GRB.CONTINUOUS, name='a')\n",
    "\n",
    "mod.ModelSense = gb.GRB.MAXIMIZE\n",
    "mod.write('model.lp')"
   ]
  },
  {
   "cell_type": "markdown",
   "metadata": {},
   "source": [
    ">#### Constr 1\n",
    ">\n",
    ">Every station visit is performed by at most one vehicle"
   ]
  },
  {
   "cell_type": "code",
   "execution_count": 13,
   "metadata": {
    "pycharm": {
     "is_executing": false
    }
   },
   "outputs": [
    {
     "name": "stdout",
     "output_type": "stream",
     "text": [
      "Warning: variable name \"x[(4, 1),1]\" has a space\n",
      "Warning: constraint name \"CSTR1[(4, 1)]\" has a space\n",
      "Warning: to let Gurobi read it back, use rlp format\n"
     ]
    }
   ],
   "source": [
    "mod.addConstrs((x.sum(v, '*') <= 1 for v in station_visits), name='CSTR1')\n",
    "mod.update()\n",
    "mod.write('model.lp')"
   ]
  },
  {
   "cell_type": "markdown",
   "metadata": {},
   "source": [
    ">#### Constr 2\n",
    ">Every tour contains the same amount of pickup visits as delivery visits"
   ]
  },
  {
   "cell_type": "code",
   "execution_count": 14,
   "metadata": {
    "pycharm": {
     "is_executing": false
    }
   },
   "outputs": [
    {
     "name": "stdout",
     "output_type": "stream",
     "text": [
      "Warning: variable name \"x[(4, 1),1]\" has a space\n",
      "Warning: constraint name \"CSTR1[(4, 1)]\" has a space\n",
      "Warning: to let Gurobi read it back, use rlp format\n"
     ]
    }
   ],
   "source": [
    "for l in L:\n",
    "    mod.addConstr(gb.quicksum([x[v,l] for v in v_pick]) == gb.quicksum([x[v,l] for v in v_del]), name='CSTR2_%s'%l)\n",
    "    mod.update()\n",
    "mod.write('model.lp')"
   ]
  },
  {
   "cell_type": "markdown",
   "metadata": {},
   "source": [
    ">#### Constr 3\n",
    ">The $i + 1$ th visit can only be performed when the $i$ th visit is performed, for $i = 1, . . . , f_s − 1$ and each station $s \\in S$."
   ]
  },
  {
   "cell_type": "code",
   "execution_count": 15,
   "metadata": {
    "pycharm": {
     "is_executing": false
    }
   },
   "outputs": [
    {
     "name": "stdout",
     "output_type": "stream",
     "text": [
      "Warning: variable name \"x[(4, 1),1]\" has a space\n",
      "Warning: constraint name \"CSTR1[(4, 1)]\" has a space\n",
      "Warning: to let Gurobi read it back, use rlp format\n"
     ]
    }
   ],
   "source": [
    "for s in stations:\n",
    "    for l in L:\n",
    "        for i in range(1, abs(G.node[str((s, 1))]['load'])):\n",
    "            mod.addConstr(x.sum(str((s, i)), '*') >= x[str((s, i+1)), l], name='CSTR3_(%s,%s)_%s' % (s,i,l))\n",
    "            mod.update()\n",
    "mod.write('model.lp')"
   ]
  },
  {
   "cell_type": "markdown",
   "metadata": {},
   "source": [
    ">#### Constr 4\n",
    ">For each vehicle the depot’s starting node $0$ has to have one outgoing arc"
   ]
  },
  {
   "cell_type": "code",
   "execution_count": 16,
   "metadata": {
    "pycharm": {
     "is_executing": false
    },
    "scrolled": true
   },
   "outputs": [
    {
     "name": "stdout",
     "output_type": "stream",
     "text": [
      "Warning: variable name \"x[(4, 1),1]\" has a space\n",
      "Warning: constraint name \"CSTR1[(4, 1)]\" has a space\n",
      "Warning: to let Gurobi read it back, use rlp format\n"
     ]
    }
   ],
   "source": [
    "for l in L:\n",
    "    mod.addConstr(y.sum(start_depot, v_pick, l) == 1, name='CSTR4_%s'%l)\n",
    "    mod.update()\n",
    "mod.write('model.lp')"
   ]
  },
  {
   "cell_type": "markdown",
   "metadata": {},
   "source": [
    ">#### Constr 5\n",
    ">The depot’s target node $1$ has to have one incoming arc"
   ]
  },
  {
   "cell_type": "code",
   "execution_count": 17,
   "metadata": {
    "pycharm": {
     "is_executing": false
    },
    "scrolled": true
   },
   "outputs": [
    {
     "name": "stdout",
     "output_type": "stream",
     "text": [
      "Warning: variable name \"x[(4, 1),1]\" has a space\n",
      "Warning: constraint name \"CSTR1[(4, 1)]\" has a space\n",
      "Warning: to let Gurobi read it back, use rlp format\n"
     ]
    }
   ],
   "source": [
    "for l in L:\n",
    "    mod.addConstr(y.sum(v_del,end_depot, l) == 1, name='CSTR5_%s'%l)\n",
    "    mod.update()\n",
    "mod.write('model.lp')"
   ]
  },
  {
   "cell_type": "markdown",
   "metadata": {},
   "source": [
    ">#### Constr 6\n",
    ">Every node $u \\in V$ has one outgoing arc iff it is assigned to vehicle $l$."
   ]
  },
  {
   "cell_type": "code",
   "execution_count": 18,
   "metadata": {
    "pycharm": {
     "is_executing": false
    }
   },
   "outputs": [
    {
     "name": "stdout",
     "output_type": "stream",
     "text": [
      "Warning: variable name \"x[(4, 1),1]\" has a space\n",
      "Warning: constraint name \"CSTR1[(4, 1)]\" has a space\n",
      "Warning: to let Gurobi read it back, use rlp format\n"
     ]
    }
   ],
   "source": [
    "for l in L:\n",
    "    for u in station_visits:\n",
    "        mod.addConstr(y.sum(u, '*', l) == x[u, l], name='CSTR6_(%s)_%s'%(u,l))\n",
    "        mod.update()\n",
    "mod.write('model.lp')"
   ]
  },
  {
   "cell_type": "markdown",
   "metadata": {},
   "source": [
    ">#### Constr 7\n",
    ">Each node $v \\in V$ which is assigned to vehicle $l \\in L$ has to have one corresponding ingoing arc."
   ]
  },
  {
   "cell_type": "code",
   "execution_count": 19,
   "metadata": {
    "pycharm": {
     "is_executing": false
    }
   },
   "outputs": [
    {
     "name": "stdout",
     "output_type": "stream",
     "text": [
      "Warning: variable name \"x[(4, 1),1]\" has a space\n",
      "Warning: constraint name \"CSTR1[(4, 1)]\" has a space\n",
      "Warning: to let Gurobi read it back, use rlp format\n"
     ]
    }
   ],
   "source": [
    "for l in L:\n",
    "    for v in station_visits:\n",
    "        mod.addConstr(y.sum('*', v, l) == x[v, l], name='CSTR7_(%s)_%s'%(v,l))\n",
    "        mod.update()\n",
    "mod.write('model.lp')"
   ]
  },
  {
   "cell_type": "markdown",
   "metadata": {},
   "source": [
    ">#### Constr 8\n",
    ">The number of ingoing arcs has to be equal to the number of outgoing arcs foreach node $v \\in V,\\; l \\in L$"
   ]
  },
  {
   "cell_type": "code",
   "execution_count": 20,
   "metadata": {
    "pycharm": {
     "is_executing": false
    }
   },
   "outputs": [
    {
     "name": "stdout",
     "output_type": "stream",
     "text": [
      "Warning: variable name \"x[(4, 1),1]\" has a space\n",
      "Warning: constraint name \"CSTR1[(4, 1)]\" has a space\n",
      "Warning: to let Gurobi read it back, use rlp format\n"
     ]
    }
   ],
   "source": [
    "for l in L:\n",
    "    for v in station_visits:\n",
    "        mod.addConstr(\n",
    "            y.sum('*', v, l) == y.sum(v, '*', l),\n",
    "            name = 'CSTR8_%s_%s'%(l,v))\n",
    "        mod.update()\n",
    "mod.write('model.lp')"
   ]
  },
  {
   "cell_type": "markdown",
   "metadata": {},
   "source": [
    ">#### Constr 9\n",
    ">The routes for each vehicle has to lie within the allowed time budget."
   ]
  },
  {
   "cell_type": "code",
   "execution_count": 21,
   "metadata": {
    "pycharm": {
     "is_executing": false
    }
   },
   "outputs": [],
   "source": [
    "t = nx.get_edge_attributes(G,'time')"
   ]
  },
  {
   "cell_type": "code",
   "execution_count": 22,
   "metadata": {
    "pycharm": {
     "is_executing": false
    }
   },
   "outputs": [
    {
     "name": "stdout",
     "output_type": "stream",
     "text": [
      "Warning: variable name \"x[(4, 1),1]\" has a space\n",
      "Warning: constraint name \"CSTR1[(4, 1)]\" has a space\n",
      "Warning: to let Gurobi read it back, use rlp format\n"
     ]
    }
   ],
   "source": [
    "mod.addConstrs((gb.quicksum([t[u, v] * y[u, v, l] for u, v in G.edges()]) <= t_budget for l in L), name = 'CSTR9')\n",
    "mod.update()\n",
    "mod.write('model.lp')"
   ]
  },
  {
   "cell_type": "markdown",
   "metadata": {},
   "source": [
    ">#### Constr 10\n",
    ">MTZ subtour inequalities"
   ]
  },
  {
   "cell_type": "code",
   "execution_count": 23,
   "metadata": {
    "pycharm": {
     "is_executing": false
    }
   },
   "outputs": [
    {
     "name": "stdout",
     "output_type": "stream",
     "text": [
      "Warning: variable name \"x[(4, 1),1]\" has a space\n",
      "Warning: constraint name \"CSTR1[(4, 1)]\" has a space\n",
      "Warning: to let Gurobi read it back, use rlp format\n"
     ]
    }
   ],
   "source": [
    "a[start_depot].lb = 1\n",
    "a[start_depot].ub = 1\n",
    "\n",
    "for l in L:\n",
    "    for u, v in G.edges():\n",
    "        if u != start_depot and u != end_depot and v != start_depot and v != end_depot: \n",
    "            mod.addConstr(\n",
    "            a[u] - a[v] + len(station_visits) * y[u, v, l] <= len(station_visits) - 1, \n",
    "                name='CSTR10_(%s,%s)%s'%(u,v,l))\n",
    "            mod.update()\n",
    "mod.write('model.lp')"
   ]
  },
  {
   "cell_type": "code",
   "execution_count": 24,
   "metadata": {
    "pycharm": {
     "is_executing": false
    },
    "scrolled": false
   },
   "outputs": [
    {
     "name": "stdout",
     "output_type": "stream",
     "text": [
      "Optimize a model with 918 rows, 804 columns and 5836 nonzeros\n",
      "Variable types: 20 continuous, 784 integer (784 binary)\n",
      "Coefficient statistics:\n",
      "  Matrix range     [1e+00, 5e+03]\n",
      "  Objective range  [1e+00, 1e+00]\n",
      "  Bounds range     [1e+00, 2e+01]\n",
      "  RHS range        [1e+00, 7e+03]\n",
      "Presolve removed 168 rows and 166 columns\n",
      "Presolve time: 0.04s\n",
      "Presolved: 750 rows, 638 columns, 4448 nonzeros\n",
      "Variable types: 18 continuous, 620 integer (620 binary)\n",
      "\n",
      "Root relaxation: objective 1.477722e+01, 466 iterations, 0.01 seconds\n",
      "\n",
      "    Nodes    |    Current Node    |     Objective Bounds      |     Work\n",
      " Expl Unexpl |  Obj  Depth IntInf | Incumbent    BestBd   Gap | It/Node Time\n",
      "\n",
      "     0     0   14.77722    0   67          -   14.77722      -     -    0s\n",
      "H    0     0                       8.0000000   14.77722  84.7%     -    0s\n",
      "H    0     0                      10.0000000   14.77722  47.8%     -    0s\n",
      "     0     0   14.77722    0  102   10.00000   14.77722  47.8%     -    0s\n",
      "     0     0   14.77722    0  100   10.00000   14.77722  47.8%     -    0s\n",
      "     0     0   14.00000    0   30   10.00000   14.00000  40.0%     -    0s\n",
      "H    0     0                      12.0000000   14.00000  16.7%     -    0s\n",
      "     0     0   14.00000    0   22   12.00000   14.00000  16.7%     -    0s\n",
      "     0     0   14.00000    0   86   12.00000   14.00000  16.7%     -    0s\n",
      "     0     0   14.00000    0   73   12.00000   14.00000  16.7%     -    0s\n",
      "     0     0   14.00000    0   56   12.00000   14.00000  16.7%     -    0s\n",
      "     0     0   14.00000    0   27   12.00000   14.00000  16.7%     -    0s\n",
      "     0     2   14.00000    0   27   12.00000   14.00000  16.7%     -    0s\n",
      "\n",
      "Cutting planes:\n",
      "  Learned: 11\n",
      "  Gomory: 1\n",
      "  Cover: 89\n",
      "  Implied bound: 72\n",
      "  MIR: 25\n",
      "  StrongCG: 2\n",
      "  GUB cover: 8\n",
      "  Inf proof: 9\n",
      "\n",
      "Explored 1460 nodes (25579 simplex iterations) in 1.77 seconds\n",
      "Thread count was 4 (of 4 available processors)\n",
      "\n",
      "Solution count 3: 12 10 8 \n",
      "\n",
      "Optimal solution found (tolerance 1.00e-04)\n",
      "Best objective 1.200000000000e+01, best bound 1.200000000000e+01, gap 0.0000%\n",
      "CPU times: user 2.93 s, sys: 161 ms, total: 3.09 s\n",
      "Wall time: 1.79 s\n"
     ]
    }
   ],
   "source": [
    "%time mod.optimize()"
   ]
  },
  {
   "cell_type": "code",
   "execution_count": 25,
   "metadata": {
    "pycharm": {
     "is_executing": false
    }
   },
   "outputs": [],
   "source": [
    "scale = 20\n",
    "draw_solution(G, x, y, L, scale)"
   ]
  },
  {
   "cell_type": "code",
   "execution_count": 26,
   "metadata": {
    "pycharm": {
     "is_executing": false
    },
    "scrolled": false
   },
   "outputs": [
    {
     "data": {
      "image/svg+xml": [
       "<svg height=\"680pt\" viewBox=\"0.00 0.00 985.00 680.50\" width=\"985pt\" xmlns=\"http://www.w3.org/2000/svg\" xmlns:xlink=\"http://www.w3.org/1999/xlink\">\n",
       "<g class=\"graph\" id=\"graph0\" transform=\"scale(1 1) rotate(0) translate(4 676.498)\">\n",
       "<title>%3</title>\n",
       "<polygon fill=\"#ffffff\" points=\"-4,4 -4,-676.498 980.995,-676.498 980.995,4 -4,4\" stroke=\"transparent\"/>\n",
       "<!-- 0 -->\n",
       "<g class=\"node\" id=\"node1\">\n",
       "<title>0</title>\n",
       "<ellipse cx=\"558.495\" cy=\"-613.998\" fill=\"none\" rx=\"14\" ry=\"14\" stroke=\"#000000\"/>\n",
       "<text fill=\"#000000\" font-family=\"Times,serif\" font-size=\"8.00\" text-anchor=\"middle\" x=\"558.495\" y=\"-612.098\">0</text>\n",
       "</g>\n",
       "<!-- (2, 1) -->\n",
       "<g class=\"node\" id=\"node2\">\n",
       "<title>(2, 1)</title>\n",
       "<ellipse cx=\"738.495\" cy=\"-133.998\" fill=\"#9aff9a\" rx=\"18.5\" ry=\"18.5\" stroke=\"#00ff00\"/>\n",
       "<text fill=\"#000000\" font-family=\"Times,serif\" font-size=\"8.00\" text-anchor=\"middle\" x=\"738.495\" y=\"-132.098\">2,1</text>\n",
       "</g>\n",
       "<!-- 0&#45;&gt;(2, 1) -->\n",
       "<g class=\"edge\" id=\"edge1\">\n",
       "<title>0-&gt;(2, 1)</title>\n",
       "<path d=\"M563.505,-600.658C587.945,-535.488 694.955,-250.108 728.445,-160.808\" fill=\"none\" stroke=\"#cd8500\"/>\n",
       "<polygon fill=\"#cd8500\" points=\"731.7472,-161.9702 731.985,-151.378 725.1937,-159.51 731.7472,-161.9702\" stroke=\"#cd8500\"/>\n",
       "<text fill=\"#cd8500\" font-family=\"Times,serif\" font-size=\"8.00\" text-anchor=\"middle\" x=\"643.975\" y=\"-383.338\">4</text>\n",
       "</g>\n",
       "<!-- (1, 1) -->\n",
       "<g class=\"node\" id=\"node3\">\n",
       "<title>(1, 1)</title>\n",
       "<ellipse cx=\"378.495\" cy=\"-613.998\" fill=\"#9aff9a\" rx=\"18.5\" ry=\"18.5\" stroke=\"#00ff00\"/>\n",
       "<text fill=\"#000000\" font-family=\"Times,serif\" font-size=\"8.00\" text-anchor=\"middle\" x=\"378.495\" y=\"-612.098\">1,1</text>\n",
       "</g>\n",
       "<!-- 0&#45;&gt;(1, 1) -->\n",
       "<g class=\"edge\" id=\"edge2\">\n",
       "<title>0-&gt;(1, 1)</title>\n",
       "<path d=\"M544.075,-613.998C514.415,-613.998 446.095,-613.998 407.115,-613.998\" fill=\"none\" stroke=\"#0000ff\"/>\n",
       "<polygon fill=\"#0000ff\" points=\"406.955,-610.4981 396.955,-613.998 406.955,-617.4981 406.955,-610.4981\" stroke=\"#0000ff\"/>\n",
       "<text fill=\"#0000ff\" font-family=\"Times,serif\" font-size=\"8.00\" text-anchor=\"middle\" x=\"473.595\" y=\"-616.598\">2</text>\n",
       "</g>\n",
       "<!-- (6, 1) -->\n",
       "<g class=\"node\" id=\"node4\">\n",
       "<title>(6, 1)</title>\n",
       "<ellipse cx=\"278.495\" cy=\"-413.998\" fill=\"#9aff9a\" rx=\"18.5\" ry=\"18.5\" stroke=\"#00ff00\"/>\n",
       "<text fill=\"#000000\" font-family=\"Times,serif\" font-size=\"8.00\" text-anchor=\"middle\" x=\"278.495\" y=\"-412.098\">6,1</text>\n",
       "</g>\n",
       "<!-- 0&#45;&gt;(6, 1) -->\n",
       "<g class=\"edge\" id=\"edge3\">\n",
       "<title>0-&gt;(6, 1)</title>\n",
       "<path d=\"M546.825,-605.658C504.575,-575.488 359.165,-471.618 301.915,-430.728\" fill=\"none\" stroke=\"#00ff00\"/>\n",
       "<polygon fill=\"#00ff00\" points=\"303.6867,-427.6923 293.515,-424.728 299.618,-433.3885 303.6867,-427.6923\" stroke=\"#00ff00\"/>\n",
       "<text fill=\"#00ff00\" font-family=\"Times,serif\" font-size=\"8.00\" text-anchor=\"middle\" x=\"422.375\" y=\"-520.798\">3</text>\n",
       "</g>\n",
       "<!-- (1, 2) -->\n",
       "<g class=\"node\" id=\"node5\">\n",
       "<title>(1, 2)</title>\n",
       "<ellipse cx=\"958.495\" cy=\"-613.998\" fill=\"#9aff9a\" rx=\"18.5\" ry=\"18.5\" stroke=\"#00ff00\"/>\n",
       "<text fill=\"#000000\" font-family=\"Times,serif\" font-size=\"8.00\" text-anchor=\"middle\" x=\"958.495\" y=\"-612.098\">1,2</text>\n",
       "</g>\n",
       "<!-- 0&#45;&gt;(1, 2) -->\n",
       "<g class=\"edge\" id=\"edge4\">\n",
       "<title>0-&gt;(1, 2)</title>\n",
       "<path d=\"M572.735,-613.998C630.825,-613.998 850.555,-613.998 929.785,-613.998\" fill=\"none\" stroke=\"#ff0000\"/>\n",
       "<polygon fill=\"#ff0000\" points=\"930.005,-617.4981 940.005,-613.998 930.005,-610.4981 930.005,-617.4981\" stroke=\"#ff0000\"/>\n",
       "<text fill=\"#ff0000\" font-family=\"Times,serif\" font-size=\"8.00\" text-anchor=\"middle\" x=\"749.265\" y=\"-616.598\">1</text>\n",
       "</g>\n",
       "<!-- (9, 2) -->\n",
       "<g class=\"node\" id=\"node6\">\n",
       "<title>(9, 2)</title>\n",
       "<ellipse cx=\"878.495\" cy=\"-213.998\" fill=\"#fa8072\" rx=\"18.5\" ry=\"18.5\" stroke=\"#ff0000\"/>\n",
       "<text fill=\"#000000\" font-family=\"Times,serif\" font-size=\"8.00\" text-anchor=\"middle\" x=\"878.495\" y=\"-212.098\">9,2</text>\n",
       "</g>\n",
       "<!-- (2, 1)&#45;&gt;(9, 2) -->\n",
       "<g class=\"edge\" id=\"edge5\">\n",
       "<title>(2, 1)-&gt;(9, 2)</title>\n",
       "<path d=\"M754.555,-143.178C778.695,-156.968 824.535,-183.158 853.195,-199.538\" fill=\"none\" stroke=\"#cd8500\"/>\n",
       "<polygon fill=\"#cd8500\" points=\"851.7772,-202.7592 862.195,-204.688 855.2538,-196.6836 851.7772,-202.7592\" stroke=\"#cd8500\"/>\n",
       "<text fill=\"#cd8500\" font-family=\"Times,serif\" font-size=\"8.00\" text-anchor=\"middle\" x=\"801.875\" y=\"-173.958\">4</text>\n",
       "</g>\n",
       "<!-- (8, 1) -->\n",
       "<g class=\"node\" id=\"node7\">\n",
       "<title>(8, 1)</title>\n",
       "<ellipse cx=\"18.5\" cy=\"-513.998\" fill=\"#fa8072\" rx=\"18.5\" ry=\"18.5\" stroke=\"#ff0000\"/>\n",
       "<text fill=\"#000000\" font-family=\"Times,serif\" font-size=\"8.00\" text-anchor=\"middle\" x=\"18.5\" y=\"-512.098\">8,1</text>\n",
       "</g>\n",
       "<!-- (1, 1)&#45;&gt;(8, 1) -->\n",
       "<g class=\"edge\" id=\"edge6\">\n",
       "<title>(1, 1)-&gt;(8, 1)</title>\n",
       "<path d=\"M360.645,-609.038C302.345,-592.848 117.255,-541.428 46.431,-521.758\" fill=\"none\" stroke=\"#0000ff\"/>\n",
       "<polygon fill=\"#0000ff\" points=\"47.032,-518.2925 36.46,-518.988 45.1582,-525.037 47.032,-518.2925\" stroke=\"#0000ff\"/>\n",
       "<text fill=\"#0000ff\" font-family=\"Times,serif\" font-size=\"8.00\" text-anchor=\"middle\" x=\"201.535\" y=\"-567.998\">2</text>\n",
       "</g>\n",
       "<!-- (11, 1) -->\n",
       "<g class=\"node\" id=\"node8\">\n",
       "<title>(11, 1)</title>\n",
       "<ellipse cx=\"498.495\" cy=\"-433.998\" fill=\"#fa8072\" rx=\"21\" ry=\"21\" stroke=\"#ff0000\"/>\n",
       "<text fill=\"#000000\" font-family=\"Times,serif\" font-size=\"8.00\" text-anchor=\"middle\" x=\"498.495\" y=\"-432.098\">11,1</text>\n",
       "</g>\n",
       "<!-- (6, 1)&#45;&gt;(11, 1) -->\n",
       "<g class=\"edge\" id=\"edge7\">\n",
       "<title>(6, 1)-&gt;(11, 1)</title>\n",
       "<path d=\"M296.875,-415.668C334.435,-419.088 420.365,-426.898 466.995,-431.138\" fill=\"none\" stroke=\"#00ff00\"/>\n",
       "<polygon fill=\"#00ff00\" points=\"466.8596,-434.64 477.135,-432.058 467.4922,-427.6686 466.8596,-434.64\" stroke=\"#00ff00\"/>\n",
       "<text fill=\"#00ff00\" font-family=\"Times,serif\" font-size=\"8.00\" text-anchor=\"middle\" x=\"379.935\" y=\"-426.008\">3</text>\n",
       "</g>\n",
       "<!-- (9, 1) -->\n",
       "<g class=\"node\" id=\"node9\">\n",
       "<title>(9, 1)</title>\n",
       "<ellipse cx=\"338.495\" cy=\"-213.998\" fill=\"#fa8072\" rx=\"18.5\" ry=\"18.5\" stroke=\"#ff0000\"/>\n",
       "<text fill=\"#000000\" font-family=\"Times,serif\" font-size=\"8.00\" text-anchor=\"middle\" x=\"338.495\" y=\"-212.098\">9,1</text>\n",
       "</g>\n",
       "<!-- (1, 2)&#45;&gt;(9, 1) -->\n",
       "<g class=\"edge\" id=\"edge8\">\n",
       "<title>(1, 2)-&gt;(9, 1)</title>\n",
       "<path d=\"M942.865,-603.908C859.275,-549.978 465.105,-295.678 362.805,-229.678\" fill=\"none\" stroke=\"#ff0000\"/>\n",
       "<polygon fill=\"#ff0000\" points=\"364.3953,-226.5388 354.095,-224.058 360.6001,-232.4207 364.3953,-226.5388\" stroke=\"#ff0000\"/>\n",
       "<text fill=\"#ff0000\" font-family=\"Times,serif\" font-size=\"8.00\" text-anchor=\"middle\" x=\"650.835\" y=\"-419.398\">1</text>\n",
       "</g>\n",
       "<!-- 1 -->\n",
       "<g class=\"node\" id=\"node10\">\n",
       "<title>1</title>\n",
       "<ellipse cx=\"138.495\" cy=\"-14\" fill=\"none\" rx=\"14\" ry=\"14\" stroke=\"#000000\"/>\n",
       "<text fill=\"#000000\" font-family=\"Times,serif\" font-size=\"8.00\" text-anchor=\"middle\" x=\"138.495\" y=\"-12.1\">1</text>\n",
       "</g>\n",
       "<!-- (9, 2)&#45;&gt;1 -->\n",
       "<g class=\"edge\" id=\"edge9\">\n",
       "<title>(9, 2)-&gt;1</title>\n",
       "<path d=\"M860.575,-209.158C760.825,-182.198 274.605,-50.785 161.875,-20.317\" fill=\"none\" stroke=\"#cd8500\"/>\n",
       "<polygon fill=\"#cd8500\" points=\"162.7218,-16.9204 152.155,-17.691 160.896,-23.6781 162.7218,-16.9204\" stroke=\"#cd8500\"/>\n",
       "<text fill=\"#cd8500\" font-family=\"Times,serif\" font-size=\"8.00\" text-anchor=\"middle\" x=\"509.225\" y=\"-117.338\">4</text>\n",
       "</g>\n",
       "<!-- (4, 1) -->\n",
       "<g class=\"node\" id=\"node11\">\n",
       "<title>(4, 1)</title>\n",
       "<ellipse cx=\"58.5\" cy=\"-653.998\" fill=\"#9aff9a\" rx=\"18.5\" ry=\"18.5\" stroke=\"#00ff00\"/>\n",
       "<text fill=\"#000000\" font-family=\"Times,serif\" font-size=\"8.00\" text-anchor=\"middle\" x=\"58.5\" y=\"-652.098\">4,1</text>\n",
       "</g>\n",
       "<!-- (8, 1)&#45;&gt;(4, 1) -->\n",
       "<g class=\"edge\" id=\"edge10\">\n",
       "<title>(8, 1)-&gt;(4, 1)</title>\n",
       "<path d=\"M23.566,-531.728C30.381,-555.588 42.571,-598.248 50.598,-626.338\" fill=\"none\" stroke=\"#0000ff\"/>\n",
       "<polygon fill=\"#0000ff\" points=\"47.2367,-627.3141 53.349,-635.968 53.9675,-625.3912 47.2367,-627.3141\" stroke=\"#0000ff\"/>\n",
       "<text fill=\"#0000ff\" font-family=\"Times,serif\" font-size=\"8.00\" text-anchor=\"middle\" x=\"35.082\" y=\"-581.638\">2</text>\n",
       "</g>\n",
       "<!-- (6, 2) -->\n",
       "<g class=\"node\" id=\"node12\">\n",
       "<title>(6, 2)</title>\n",
       "<ellipse cx=\"758.495\" cy=\"-413.998\" fill=\"#9aff9a\" rx=\"18.5\" ry=\"18.5\" stroke=\"#00ff00\"/>\n",
       "<text fill=\"#000000\" font-family=\"Times,serif\" font-size=\"8.00\" text-anchor=\"middle\" x=\"758.495\" y=\"-412.098\">6,2</text>\n",
       "</g>\n",
       "<!-- (11, 1)&#45;&gt;(6, 2) -->\n",
       "<g class=\"edge\" id=\"edge11\">\n",
       "<title>(11, 1)-&gt;(6, 2)</title>\n",
       "<path d=\"M519.775,-432.368C566.415,-428.778 677.635,-420.218 730.145,-416.178\" fill=\"none\" stroke=\"#00ff00\"/>\n",
       "<polygon fill=\"#00ff00\" points=\"730.41,-419.668 740.115,-415.418 729.8779,-412.6883 730.41,-419.668\" stroke=\"#00ff00\"/>\n",
       "<text fill=\"#00ff00\" font-family=\"Times,serif\" font-size=\"8.00\" text-anchor=\"middle\" x=\"622.955\" y=\"-426.868\">3</text>\n",
       "</g>\n",
       "<!-- (9, 1)&#45;&gt;1 -->\n",
       "<g class=\"edge\" id=\"edge12\">\n",
       "<title>(9, 1)-&gt;1</title>\n",
       "<path d=\"M325.375,-200.878C290.505,-166.008 195.515,-71.017 156.055,-31.554\" fill=\"none\" stroke=\"#ff0000\"/>\n",
       "<polygon fill=\"#ff0000\" points=\"158.4816,-29.0309 148.935,-24.436 153.5326,-33.9813 158.4816,-29.0309\" stroke=\"#ff0000\"/>\n",
       "<text fill=\"#ff0000\" font-family=\"Times,serif\" font-size=\"8.00\" text-anchor=\"middle\" x=\"238.715\" y=\"-118.818\">1</text>\n",
       "</g>\n",
       "<!-- (8, 2) -->\n",
       "<g class=\"node\" id=\"node13\">\n",
       "<title>(8, 2)</title>\n",
       "<ellipse cx=\"238.495\" cy=\"-513.998\" fill=\"#fa8072\" rx=\"18.5\" ry=\"18.5\" stroke=\"#ff0000\"/>\n",
       "<text fill=\"#000000\" font-family=\"Times,serif\" font-size=\"8.00\" text-anchor=\"middle\" x=\"238.495\" y=\"-512.098\">8,2</text>\n",
       "</g>\n",
       "<!-- (4, 1)&#45;&gt;(8, 2) -->\n",
       "<g class=\"edge\" id=\"edge13\">\n",
       "<title>(4, 1)-&gt;(8, 2)</title>\n",
       "<path d=\"M73.23,-642.548C104.555,-618.178 177.985,-561.068 215.525,-531.868\" fill=\"none\" stroke=\"#0000ff\"/>\n",
       "<polygon fill=\"#0000ff\" points=\"218.0717,-534.3211 223.815,-525.418 213.7732,-528.7964 218.0717,-534.3211\" stroke=\"#0000ff\"/>\n",
       "<text fill=\"#0000ff\" font-family=\"Times,serif\" font-size=\"8.00\" text-anchor=\"middle\" x=\"142.375\" y=\"-589.808\">2</text>\n",
       "</g>\n",
       "<!-- (7, 1) -->\n",
       "<g class=\"node\" id=\"node14\">\n",
       "<title>(7, 1)</title>\n",
       "<ellipse cx=\"58.5\" cy=\"-153.998\" fill=\"#fa8072\" rx=\"18.5\" ry=\"18.5\" stroke=\"#ff0000\"/>\n",
       "<text fill=\"#000000\" font-family=\"Times,serif\" font-size=\"8.00\" text-anchor=\"middle\" x=\"58.5\" y=\"-152.098\">7,1</text>\n",
       "</g>\n",
       "<!-- (6, 2)&#45;&gt;(7, 1) -->\n",
       "<g class=\"edge\" id=\"edge15\">\n",
       "<title>(6, 2)-&gt;(7, 1)</title>\n",
       "<path d=\"M741.195,-407.578C647.395,-372.728 199.855,-206.508 85.271,-163.948\" fill=\"none\" stroke=\"#00ff00\"/>\n",
       "<polygon fill=\"#00ff00\" points=\"86.4179,-160.6404 75.825,-160.438 83.9796,-167.202 86.4179,-160.6404\" stroke=\"#00ff00\"/>\n",
       "<text fill=\"#00ff00\" font-family=\"Times,serif\" font-size=\"8.00\" text-anchor=\"middle\" x=\"411.235\" y=\"-288.358\">3</text>\n",
       "</g>\n",
       "<!-- (8, 2)&#45;&gt;1 -->\n",
       "<g class=\"edge\" id=\"edge14\">\n",
       "<title>(8, 2)-&gt;1</title>\n",
       "<path d=\"M234.885,-495.908C219.635,-419.688 160.625,-124.628 143.305,-38.026\" fill=\"none\" stroke=\"#0000ff\"/>\n",
       "<polygon fill=\"#0000ff\" points=\"146.7111,-37.2097 141.315,-28.092 139.8475,-38.5847 146.7111,-37.2097\" stroke=\"#0000ff\"/>\n",
       "<text fill=\"#0000ff\" font-family=\"Times,serif\" font-size=\"8.00\" text-anchor=\"middle\" x=\"187.095\" y=\"-269.568\">2</text>\n",
       "</g>\n",
       "<!-- (7, 1)&#45;&gt;1 -->\n",
       "<g class=\"edge\" id=\"edge16\">\n",
       "<title>(7, 1)-&gt;1</title>\n",
       "<path d=\"M67.677,-137.938C82.131,-112.648 110.215,-63.506 126.335,-35.294\" fill=\"none\" stroke=\"#00ff00\"/>\n",
       "<polygon fill=\"#00ff00\" points=\"129.3837,-37.0132 131.305,-26.594 123.3056,-33.5409 129.3837,-37.0132\" stroke=\"#00ff00\"/>\n",
       "<text fill=\"#00ff00\" font-family=\"Times,serif\" font-size=\"8.00\" text-anchor=\"middle\" x=\"95.004\" y=\"-89.217\">3</text>\n",
       "</g>\n",
       "</g>\n",
       "</svg>"
      ],
      "text/plain": [
       "<IPython.core.display.SVG object>"
      ]
     },
     "metadata": {},
     "output_type": "display_data"
    }
   ],
   "source": [
    "display(SVG(filename=basename+'_sol'+'.svg'))"
   ]
  },
  {
   "cell_type": "code",
   "execution_count": 27,
   "metadata": {
    "pycharm": {
     "is_executing": false
    }
   },
   "outputs": [
    {
     "name": "stdout",
     "output_type": "stream",
     "text": [
      "Linear relaxation: 16.0\n",
      "Number of visits made: 12.0\n",
      "Explored nodes: 1460.0\n"
     ]
    }
   ],
   "source": [
    "print(\"Linear relaxation:\",1.600000e+01)\n",
    "print(\"Number of visits made:\",mod.ObjVal)\n",
    "print(\"Explored nodes:\", mod.NodeCount)"
   ]
  },
  {
   "cell_type": "code",
   "execution_count": 28,
   "metadata": {
    "pycharm": {
     "is_executing": false
    }
   },
   "outputs": [],
   "source": [
    "total_time = 0\n",
    "for i, j in G.edges():\n",
    "    for l in L:\n",
    "        if y[i, j, l].x == 1:\n",
    "            total_time += G[i][j]['time']"
   ]
  },
  {
   "cell_type": "code",
   "execution_count": 29,
   "metadata": {
    "pycharm": {
     "is_executing": false
    }
   },
   "outputs": [
    {
     "data": {
      "text/plain": [
       "23569"
      ]
     },
     "execution_count": 29,
     "metadata": {},
     "output_type": "execute_result"
    }
   ],
   "source": [
    "total_time"
   ]
  },
  {
   "cell_type": "markdown",
   "metadata": {},
   "source": [
    "### Solution analysis"
   ]
  },
  {
   "cell_type": "markdown",
   "metadata": {},
   "source": [
    "The graph above shows the routes of each vehicle and, differently from the initial graph, here we distinguish the visits on each station to better describe the different routes. From the graph we can see that vehicles <i>2</i>  and <i>3</i> are the ones doing more visits to stations, 4.\n",
    "\n",
    "The model, with this small instance, is able to find the optimal solution in **1.63** seconds exploring **999** nodes. The total number of visits made by the vehicles is **12** and the total time required by the vehicles is **23986 seconds**.\n",
    "\n",
    "Next we will test the model on a bigger instance.\n",
    "\n",
    "<!--NAVIGATION-->\n",
    "[Part 2](Part2.ipynb)"
   ]
  },
  {
   "cell_type": "code",
   "execution_count": null,
   "metadata": {
    "pycharm": {
     "is_executing": false
    }
   },
   "outputs": [],
   "source": []
  }
 ],
 "metadata": {
  "kernelspec": {
   "display_name": "Python 3",
   "language": "python",
   "name": "python3"
  },
  "language_info": {
   "codemirror_mode": {
    "name": "ipython",
    "version": 3
   },
   "file_extension": ".py",
   "mimetype": "text/x-python",
   "name": "python",
   "nbconvert_exporter": "python",
   "pygments_lexer": "ipython3",
   "version": "3.7.1"
  },
  "pycharm": {
   "stem_cell": {
    "cell_type": "raw",
    "metadata": {
     "collapsed": false
    },
    "source": []
   }
  }
 },
 "nbformat": 4,
 "nbformat_minor": 2
}
