{
 "cells": [
  {
   "cell_type": "code",
   "execution_count": 3,
   "metadata": {
    "pycharm": {
     "is_executing": false,
     "name": "#%%\n"
    }
   },
   "outputs": [],
   "source": [
    "import gurobipy as gb\n",
    "import networkx as nx\n",
    "import pygraphviz as pygv"
   ]
  },
  {
   "cell_type": "code",
   "execution_count": 1,
   "metadata": {
    "pycharm": {
     "is_executing": false,
     "name": "#%%\n"
    }
   },
   "outputs": [],
   "source": [
    "def DrawInitialGraph():\n",
    "    global DrawG\n",
    "    scale = 30\n",
    "    DrawG = pygv.AGraph(strict='true', splines='true')\n",
    "\n",
    "    for i in G.nodes():\n",
    "        pos = str(G.node[i]['x'] * scale) + ',' + str((G.node[i]['y']) * scale)\n",
    "\n",
    "        if G.node[i]['load'] < 0:\n",
    "            DrawG.add_node(i, shape='circle', pos=pos, label=G.node[i]['label'], color='red',\n",
    "                           style='filled', fillcolor='salmon')\n",
    "        elif G.node[i]['load'] > 0:\n",
    "            DrawG.add_node(i, shape='circle', pos=pos, label=G.node[i]['label'], color='green',\n",
    "                           style='filled', fillcolor='palegreen1')\n",
    "        else:\n",
    "            DrawG.add_node(i, shape='circle', pos=pos, label=G.node[i]['label'])\n",
    "\n",
    "    DrawG.layout(prog='neato', args='-n')\n",
    "    DrawG.draw(path=str(basename) + '.svg', format='svg')"
   ]
  },
  {
   "cell_type": "code",
   "execution_count": null,
   "metadata": {},
   "outputs": [],
   "source": []
  }
 ],
 "metadata": {
  "kernelspec": {
   "display_name": "Python 3",
   "language": "python",
   "name": "python3"
  },
  "language_info": {
   "codemirror_mode": {
    "name": "ipython",
    "version": 3
   },
   "file_extension": ".py",
   "mimetype": "text/x-python",
   "name": "python",
   "nbconvert_exporter": "python",
   "pygments_lexer": "ipython3",
   "version": "3.6.8"
  },
  "pycharm": {
   "stem_cell": {
    "cell_type": "raw",
    "metadata": {
     "collapsed": false
    },
    "source": []
   }
  }
 },
 "nbformat": 4,
 "nbformat_minor": 1
}
