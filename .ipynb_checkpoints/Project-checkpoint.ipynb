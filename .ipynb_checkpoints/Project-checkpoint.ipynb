{
 "cells": [
  {
   "cell_type": "markdown",
   "metadata": {},
   "source": [
    "# Compact Mixed Integer Linear Programming Model for Balancing Bike Sharing Systems "
   ]
  },
  {
   "cell_type": "code",
   "execution_count": 1,
   "metadata": {
    "pycharm": {
     "is_executing": false,
     "name": "#%%\n"
    }
   },
   "outputs": [],
   "source": [
    "import gurobipy as gb\n",
    "import networkx as nx\n",
    "import pygraphviz as pygv\n",
    "import os\n",
    "from IPython.display import SVG, display\n",
    "import pandas as pd\n",
    "import numpy as np"
   ]
  },
  {
   "cell_type": "code",
   "execution_count": 2,
   "metadata": {
    "pycharm": {
     "is_executing": false,
     "name": "#%%\n"
    }
   },
   "outputs": [],
   "source": [
    "def draw_initial_graph(G):\n",
    "    scale = 15\n",
    "    global DrawG\n",
    "    DrawG = pygv.AGraph(strict='true', splines='true', directed=True)\n",
    "\n",
    "    for i in G.nodes():\n",
    "        pos = str(G.node[i]['x'] * scale) + ',' + str((G.node[i]['y']) * scale)\n",
    "\n",
    "        if G.node[i]['load'] < 0:\n",
    "            DrawG.add_node(i, shape='circle', pos=pos, label=G.node[i]['label'], color='red',\n",
    "                           style='filled', fillcolor='salmon', fontsize='8', width='0.3')\n",
    "        elif G.node[i]['load'] > 0:\n",
    "            DrawG.add_node(i, shape='circle', pos=pos, label=G.node[i]['label'], color='green',\n",
    "                           style='filled', fillcolor='palegreen1', fontsize='8', width='0.3')\n",
    "        else:\n",
    "            DrawG.add_node(i, shape='circle', pos=pos, label=G.node[i]['label'], fontsize='8', width='0.3')\n",
    "\n",
    "    DrawG.layout(prog='neato', args='-n')\n",
    "    DrawG.draw(path=basename + '.svg', format='svg')\n",
    "    \n",
    "    \n",
    "def draw_solution(G, x, y, veichles):\n",
    "    \n",
    "    pos = str(G.node['0']['x'] * scale) + ',' + str((G.node['0']['y']) * scale)\n",
    "    DrawG.add_node('0', shape='circle', pos=pos, label=G.node['0']['label'], fontsize='8', width='0.3')\n",
    "    pos = str(G.node['1']['x'] * scale) + ',' + str((G.node['1']['y']) * scale)\n",
    "    DrawG.add_node('1', shape='circle', pos=pos, label=G.node['1']['label'], fontsize='8', width='0.3')\n",
    "    \n",
    "    for i in G.nodes()-{'0', '1'}:\n",
    "        for v in veichles:\n",
    "            if x[i, v].x == 1:\n",
    "                if G.node[i]['load'] < 0:\n",
    "                    DrawG.add_node(i, shape='circle', pos=pos, label=G.node[i]['label'], color='red',\n",
    "                           style='filled', fillcolor='salmon', fontsize='8', width='0.3')\n",
    "                elif G.node[i]['load'] > 0:\n",
    "                    DrawG.add_node(i, shape='circle', pos=pos, label=G.node[i]['label'], color='green',\n",
    "                           style='filled', fillcolor='palegreen1', fontsize='8', width='0.3')\n",
    "                "
   ]
  },
  {
   "cell_type": "markdown",
   "metadata": {},
   "source": [
    "## Problem Definition"
   ]
  },
  {
   "cell_type": "markdown",
   "metadata": {},
   "source": [
    "**Given:**\n",
    "\n",
    "- A set of stations $S$ and a set of homogeneous vehicles $L$.\n",
    "\n",
    "- For each vehicle a common capacity $Z$ and a common time budget $\\;t̂\\;$ (drivers’ shift times) within which they have to finish their routes.\n",
    "\n",
    "- For each station $s \\in S$ the number of full vehicle loads $f_s$ to be delivered $(f_s \\le −1)$ or picked up $(f_s \\ge 1)$ such that the station achieves its (approximately) ideal target fill level.\n",
    "\n",
    "\n",
    "**Find:**\n",
    "\n",
    "The maximum number of full vehicle loads picked up and delivered to the stations, such that the total balance increase in the system.  "
   ]
  },
  {
   "cell_type": "markdown",
   "metadata": {},
   "source": [
    "A station, to which bikes shall be delivered is called a *delivery station*, while a station from which bikes should be removed is called a *pickup station*. At pickup stations, only pickups may be performed, while at delivery stations, only deliveries, and we never allow more than $|f_s |$ visits at each station."
   ]
  },
  {
   "cell_type": "markdown",
   "metadata": {},
   "source": [
    ">**Note**\n",
    ">\n",
    ">Stations\n",
    "that are already at their desired target fill level (or require\n",
    "less than a full vehicle load) are ignored from any further\n",
    "consideration."
   ]
  },
  {
   "cell_type": "markdown",
   "metadata": {},
   "source": [
    "### Graph"
   ]
  },
  {
   "cell_type": "markdown",
   "metadata": {},
   "source": [
    "For modeling tours with up to $|f_s |$ visits at each station $s \\in S$, a directed bipartite graph $G = (V ,A)$ as been defined as follows. Let\n",
    "\n",
    "$$V_\\text{pic} = \\{(s,i)\\;|\\;s \\in S \\land f_s \\ge 1,\\;i=1,...,|f_s|\\}$$\n",
    "\n",
    "be a set of nodes representing up to $|f_s|$ visits at each pickup station, and let\n",
    "\n",
    "$$V_\\text{del} = \\{(s,i)\\;|\\;s \\in S \\land f_s \\le -1,\\;i=1,...,|f_s|\\}$$\n",
    "\n",
    "denote the respective potential visits at the delivery stations. $V=V_\\text{pic} \\cup V_\\text{del}$ then refers to the joined set of all potential visits, and the arc set of graph $G$ is given by\n",
    "\n",
    "$$ A=\\{(u,v),\\;(v,u)\\;|\\;u \\in V_\\text{pic},\\; v \\in V_\\text{del}\\} $$"
   ]
  },
  {
   "cell_type": "markdown",
   "metadata": {},
   "source": [
    "Further the set of stations $V$ as been extended by two nodes $0$ and $1$ representing the depot at the beginning and the end of each tour, respectively, obtaining $V_0 = V \\cup \\{0, 1\\}$. \n",
    "\n",
    "Node $0$ is connected to all pickup nodes, while $1$ is connected to all delivery nodes, that is, $A_0= A \\cup \\{(0,v) \\;|\\; v \\in V_\\text{pic}\\} \\cup \\{(v,1) \\;|\\; v \\in V_\\text{del}\\}$, yielding a bipartite graph $G_0 = (V_0, A_0)$. "
   ]
  },
  {
   "cell_type": "markdown",
   "metadata": {},
   "source": [
    "Each arc $(u, v) \\in A_0$ represents an actual trip from the location represented by visit $u$ to the location represented by visit $v$ and has a corresponding traveling time $t_{uv} > 0$ associated."
   ]
  },
  {
   "cell_type": "markdown",
   "metadata": {},
   "source": [
    "The graph used in this project is made by 23 nodes, representing visits to 11 different stations, and 131 edges. The <span style='color: red'>red</span> nodes represents **depot** stations, while the <span style='color: green'>green</span> ones are the **pickup** stations. The starting depot is represented by the node $0$, while the ending depot is represented by the node $1$.\n",
    "\n",
    "For each node the first number is the identifier of the station $s$ and the second number is the value of $|f_s|$."
   ]
  },
  {
   "cell_type": "code",
   "execution_count": 3,
   "metadata": {},
   "outputs": [
    {
     "name": "stdout",
     "output_type": "stream",
     "text": [
      "G has 23 nodes and 131 edges\n",
      "False\n"
     ]
    }
   ],
   "source": [
    "filename = 'graph.gml'\n",
    "\n",
    "basename = os.path.splitext(filename)[0]\n",
    "\n",
    "G = nx.read_graphml (filename, node_type=str)\n",
    "\n",
    "print (\"G has\", G.number_of_nodes(), \"nodes and\", G.number_of_edges(), \"edges\")\n",
    "\n",
    "print(G.is_directed())"
   ]
  },
  {
   "cell_type": "code",
   "execution_count": 4,
   "metadata": {
    "scrolled": false
   },
   "outputs": [
    {
     "data": {
      "image/svg+xml": [
       "<svg height=\"655pt\" viewBox=\"0.00 0.00 735.00 655.50\" width=\"735pt\" xmlns=\"http://www.w3.org/2000/svg\" xmlns:xlink=\"http://www.w3.org/1999/xlink\">\n",
       "<g class=\"graph\" id=\"graph0\" transform=\"scale(1 1) rotate(0) translate(4 651.498)\">\n",
       "<polygon fill=\"#ffffff\" points=\"-4,4 -4,-651.498 730.995,-651.498 730.995,4 -4,4\" stroke=\"transparent\"/>\n",
       "<!-- (7, 1) -->\n",
       "<g class=\"node\" id=\"node1\">\n",
       "<title>(7, 1)</title>\n",
       "<ellipse cx=\"318.495\" cy=\"-493.998\" fill=\"#fa8072\" rx=\"18.5\" ry=\"18.5\" stroke=\"#ff0000\"/>\n",
       "<text fill=\"#000000\" font-family=\"Times,serif\" font-size=\"8.00\" text-anchor=\"middle\" x=\"318.495\" y=\"-492.098\">7,1</text>\n",
       "</g>\n",
       "<!-- (7, 2) -->\n",
       "<g class=\"node\" id=\"node2\">\n",
       "<title>(7, 2)</title>\n",
       "<ellipse cx=\"318.495\" cy=\"-493.998\" fill=\"#fa8072\" rx=\"18.5\" ry=\"18.5\" stroke=\"#ff0000\"/>\n",
       "<text fill=\"#000000\" font-family=\"Times,serif\" font-size=\"8.00\" text-anchor=\"middle\" x=\"318.495\" y=\"-492.098\">7,2</text>\n",
       "</g>\n",
       "<!-- (7, 3) -->\n",
       "<g class=\"node\" id=\"node3\">\n",
       "<title>(7, 3)</title>\n",
       "<ellipse cx=\"318.495\" cy=\"-493.998\" fill=\"#fa8072\" rx=\"18.5\" ry=\"18.5\" stroke=\"#ff0000\"/>\n",
       "<text fill=\"#000000\" font-family=\"Times,serif\" font-size=\"8.00\" text-anchor=\"middle\" x=\"318.495\" y=\"-492.098\">7,3</text>\n",
       "</g>\n",
       "<!-- (8, 1) -->\n",
       "<g class=\"node\" id=\"node4\">\n",
       "<title>(8, 1)</title>\n",
       "<ellipse cx=\"708.495\" cy=\"-44\" fill=\"#fa8072\" rx=\"18.5\" ry=\"18.5\" stroke=\"#ff0000\"/>\n",
       "<text fill=\"#000000\" font-family=\"Times,serif\" font-size=\"8.00\" text-anchor=\"middle\" x=\"708.495\" y=\"-42.1\">8,1</text>\n",
       "</g>\n",
       "<!-- (9, 1) -->\n",
       "<g class=\"node\" id=\"node5\">\n",
       "<title>(9, 1)</title>\n",
       "<ellipse cx=\"183.495\" cy=\"-328.998\" fill=\"#fa8072\" rx=\"18.5\" ry=\"18.5\" stroke=\"#ff0000\"/>\n",
       "<text fill=\"#000000\" font-family=\"Times,serif\" font-size=\"8.00\" text-anchor=\"middle\" x=\"183.495\" y=\"-327.098\">9,1</text>\n",
       "</g>\n",
       "<!-- (9, 2) -->\n",
       "<g class=\"node\" id=\"node6\">\n",
       "<title>(9, 2)</title>\n",
       "<ellipse cx=\"183.495\" cy=\"-328.998\" fill=\"#fa8072\" rx=\"18.5\" ry=\"18.5\" stroke=\"#ff0000\"/>\n",
       "<text fill=\"#000000\" font-family=\"Times,serif\" font-size=\"8.00\" text-anchor=\"middle\" x=\"183.495\" y=\"-327.098\">9,2</text>\n",
       "</g>\n",
       "<!-- (10, 1) -->\n",
       "<g class=\"node\" id=\"node7\">\n",
       "<title>(10, 1)</title>\n",
       "<ellipse cx=\"483.495\" cy=\"-463.998\" fill=\"#fa8072\" rx=\"21\" ry=\"21\" stroke=\"#ff0000\"/>\n",
       "<text fill=\"#000000\" font-family=\"Times,serif\" font-size=\"8.00\" text-anchor=\"middle\" x=\"483.495\" y=\"-462.098\">10,1</text>\n",
       "</g>\n",
       "<!-- (10, 2) -->\n",
       "<g class=\"node\" id=\"node8\">\n",
       "<title>(10, 2)</title>\n",
       "<ellipse cx=\"483.495\" cy=\"-463.998\" fill=\"#fa8072\" rx=\"21\" ry=\"21\" stroke=\"#ff0000\"/>\n",
       "<text fill=\"#000000\" font-family=\"Times,serif\" font-size=\"8.00\" text-anchor=\"middle\" x=\"483.495\" y=\"-462.098\">10,2</text>\n",
       "</g>\n",
       "<!-- (11, 1) -->\n",
       "<g class=\"node\" id=\"node9\">\n",
       "<title>(11, 1)</title>\n",
       "<ellipse cx=\"378.495\" cy=\"-418.998\" fill=\"#fa8072\" rx=\"21\" ry=\"21\" stroke=\"#ff0000\"/>\n",
       "<text fill=\"#000000\" font-family=\"Times,serif\" font-size=\"8.00\" text-anchor=\"middle\" x=\"378.495\" y=\"-417.098\">11,1</text>\n",
       "</g>\n",
       "<!-- (11, 2) -->\n",
       "<g class=\"node\" id=\"node10\">\n",
       "<title>(11, 2)</title>\n",
       "<ellipse cx=\"378.495\" cy=\"-418.998\" fill=\"#fa8072\" rx=\"21\" ry=\"21\" stroke=\"#ff0000\"/>\n",
       "<text fill=\"#000000\" font-family=\"Times,serif\" font-size=\"8.00\" text-anchor=\"middle\" x=\"378.495\" y=\"-417.098\">11,2</text>\n",
       "</g>\n",
       "<!-- (11, 3) -->\n",
       "<g class=\"node\" id=\"node11\">\n",
       "<title>(11, 3)</title>\n",
       "<ellipse cx=\"378.495\" cy=\"-418.998\" fill=\"#fa8072\" rx=\"21\" ry=\"21\" stroke=\"#ff0000\"/>\n",
       "<text fill=\"#000000\" font-family=\"Times,serif\" font-size=\"8.00\" text-anchor=\"middle\" x=\"378.495\" y=\"-417.098\">11,3</text>\n",
       "</g>\n",
       "<!-- (1, 1) -->\n",
       "<g class=\"node\" id=\"node12\">\n",
       "<title>(1, 1)</title>\n",
       "<ellipse cx=\"18.5\" cy=\"-208.998\" fill=\"#9aff9a\" rx=\"18.5\" ry=\"18.5\" stroke=\"#00ff00\"/>\n",
       "<text fill=\"#000000\" font-family=\"Times,serif\" font-size=\"8.00\" text-anchor=\"middle\" x=\"18.5\" y=\"-207.098\">1,1</text>\n",
       "</g>\n",
       "<!-- (1, 2) -->\n",
       "<g class=\"node\" id=\"node13\">\n",
       "<title>(1, 2)</title>\n",
       "<ellipse cx=\"18.5\" cy=\"-208.998\" fill=\"#9aff9a\" rx=\"18.5\" ry=\"18.5\" stroke=\"#00ff00\"/>\n",
       "<text fill=\"#000000\" font-family=\"Times,serif\" font-size=\"8.00\" text-anchor=\"middle\" x=\"18.5\" y=\"-207.098\">1,2</text>\n",
       "</g>\n",
       "<!-- (1, 3) -->\n",
       "<g class=\"node\" id=\"node14\">\n",
       "<title>(1, 3)</title>\n",
       "<ellipse cx=\"18.5\" cy=\"-208.998\" fill=\"#9aff9a\" rx=\"18.5\" ry=\"18.5\" stroke=\"#00ff00\"/>\n",
       "<text fill=\"#000000\" font-family=\"Times,serif\" font-size=\"8.00\" text-anchor=\"middle\" x=\"18.5\" y=\"-207.098\">1,3</text>\n",
       "</g>\n",
       "<!-- (2, 1) -->\n",
       "<g class=\"node\" id=\"node15\">\n",
       "<title>(2, 1)</title>\n",
       "<ellipse cx=\"498.495\" cy=\"-613.998\" fill=\"#9aff9a\" rx=\"18.5\" ry=\"18.5\" stroke=\"#00ff00\"/>\n",
       "<text fill=\"#000000\" font-family=\"Times,serif\" font-size=\"8.00\" text-anchor=\"middle\" x=\"498.495\" y=\"-612.098\">2,1</text>\n",
       "</g>\n",
       "<!-- (3, 1) -->\n",
       "<g class=\"node\" id=\"node16\">\n",
       "<title>(3, 1)</title>\n",
       "<ellipse cx=\"618.495\" cy=\"-628.998\" fill=\"#9aff9a\" rx=\"18.5\" ry=\"18.5\" stroke=\"#00ff00\"/>\n",
       "<text fill=\"#000000\" font-family=\"Times,serif\" font-size=\"8.00\" text-anchor=\"middle\" x=\"618.495\" y=\"-627.098\">3,1</text>\n",
       "</g>\n",
       "<!-- (4, 1) -->\n",
       "<g class=\"node\" id=\"node17\">\n",
       "<title>(4, 1)</title>\n",
       "<ellipse cx=\"258.495\" cy=\"-538.998\" fill=\"#9aff9a\" rx=\"18.5\" ry=\"18.5\" stroke=\"#00ff00\"/>\n",
       "<text fill=\"#000000\" font-family=\"Times,serif\" font-size=\"8.00\" text-anchor=\"middle\" x=\"258.495\" y=\"-537.098\">4,1</text>\n",
       "</g>\n",
       "<!-- (5, 1) -->\n",
       "<g class=\"node\" id=\"node18\">\n",
       "<title>(5, 1)</title>\n",
       "<ellipse cx=\"528.495\" cy=\"-74\" fill=\"#9aff9a\" rx=\"18.5\" ry=\"18.5\" stroke=\"#00ff00\"/>\n",
       "<text fill=\"#000000\" font-family=\"Times,serif\" font-size=\"8.00\" text-anchor=\"middle\" x=\"528.495\" y=\"-72.1\">5,1</text>\n",
       "</g>\n",
       "<!-- (6, 1) -->\n",
       "<g class=\"node\" id=\"node19\">\n",
       "<title>(6, 1)</title>\n",
       "<ellipse cx=\"513.495\" cy=\"-298.998\" fill=\"#9aff9a\" rx=\"18.5\" ry=\"18.5\" stroke=\"#00ff00\"/>\n",
       "<text fill=\"#000000\" font-family=\"Times,serif\" font-size=\"8.00\" text-anchor=\"middle\" x=\"513.495\" y=\"-297.098\">6,1</text>\n",
       "</g>\n",
       "<!-- (6, 2) -->\n",
       "<g class=\"node\" id=\"node20\">\n",
       "<title>(6, 2)</title>\n",
       "<ellipse cx=\"513.495\" cy=\"-298.998\" fill=\"#9aff9a\" rx=\"18.5\" ry=\"18.5\" stroke=\"#00ff00\"/>\n",
       "<text fill=\"#000000\" font-family=\"Times,serif\" font-size=\"8.00\" text-anchor=\"middle\" x=\"513.495\" y=\"-297.098\">6,2</text>\n",
       "</g>\n",
       "<!-- (6, 3) -->\n",
       "<g class=\"node\" id=\"node21\">\n",
       "<title>(6, 3)</title>\n",
       "<ellipse cx=\"513.495\" cy=\"-298.998\" fill=\"#9aff9a\" rx=\"18.5\" ry=\"18.5\" stroke=\"#00ff00\"/>\n",
       "<text fill=\"#000000\" font-family=\"Times,serif\" font-size=\"8.00\" text-anchor=\"middle\" x=\"513.495\" y=\"-297.098\">6,3</text>\n",
       "</g>\n",
       "<!-- 0 -->\n",
       "<g class=\"node\" id=\"node22\">\n",
       "<title>0</title>\n",
       "<ellipse cx=\"333.495\" cy=\"-14\" fill=\"none\" rx=\"14\" ry=\"14\" stroke=\"#000000\"/>\n",
       "<text fill=\"#000000\" font-family=\"Times,serif\" font-size=\"8.00\" text-anchor=\"middle\" x=\"333.495\" y=\"-12.1\">0</text>\n",
       "</g>\n",
       "<!-- 1 -->\n",
       "<g class=\"node\" id=\"node23\">\n",
       "<title>1</title>\n",
       "<ellipse cx=\"123.495\" cy=\"-433.998\" fill=\"none\" rx=\"14\" ry=\"14\" stroke=\"#000000\"/>\n",
       "<text fill=\"#000000\" font-family=\"Times,serif\" font-size=\"8.00\" text-anchor=\"middle\" x=\"123.495\" y=\"-432.098\">1</text>\n",
       "</g>\n",
       "</g>\n",
       "</svg>"
      ],
      "text/plain": [
       "<IPython.core.display.SVG object>"
      ]
     },
     "metadata": {},
     "output_type": "display_data"
    }
   ],
   "source": [
    "draw_initial_graph(G)\n",
    "display(SVG(filename=basename+'.svg'))"
   ]
  },
  {
   "cell_type": "code",
   "execution_count": 5,
   "metadata": {},
   "outputs": [
    {
     "data": {
      "text/plain": [
       "NodeDataView({'(7, 1)': {'station': 7, 'load': -3, 'label': '7,1', 'x': 27, 'y': 39}, '(7, 2)': {'station': 7, 'load': -3, 'label': '7,2', 'x': 27, 'y': 39}, '(7, 3)': {'station': 7, 'load': -3, 'label': '7,3', 'x': 27, 'y': 39}, '(8, 1)': {'station': 8, 'load': -1, 'label': '8,1', 'x': 53, 'y': 9}, '(9, 1)': {'station': 9, 'load': -2, 'label': '9,1', 'x': 18, 'y': 28}, '(9, 2)': {'station': 9, 'load': -2, 'label': '9,2', 'x': 18, 'y': 28}, '(10, 1)': {'station': 10, 'load': -2, 'label': '10,1', 'x': 38, 'y': 37}, '(10, 2)': {'station': 10, 'load': -2, 'label': '10,2', 'x': 38, 'y': 37}, '(11, 1)': {'station': 11, 'load': -3, 'label': '11,1', 'x': 31, 'y': 34}, '(11, 2)': {'station': 11, 'load': -3, 'label': '11,2', 'x': 31, 'y': 34}, '(11, 3)': {'station': 11, 'load': -3, 'label': '11,3', 'x': 31, 'y': 34}, '(1, 1)': {'station': 1, 'load': 3, 'label': '1,1', 'x': 7, 'y': 20}, '(1, 2)': {'station': 1, 'load': 3, 'label': '1,2', 'x': 7, 'y': 20}, '(1, 3)': {'station': 1, 'load': 3, 'label': '1,3', 'x': 7, 'y': 20}, '(2, 1)': {'station': 2, 'load': 1, 'label': '2,1', 'x': 39, 'y': 47}, '(3, 1)': {'station': 3, 'load': 1, 'label': '3,1', 'x': 47, 'y': 48}, '(4, 1)': {'station': 4, 'load': 1, 'label': '4,1', 'x': 23, 'y': 42}, '(5, 1)': {'station': 5, 'load': 1, 'label': '5,1', 'x': 41, 'y': 11}, '(6, 1)': {'station': 6, 'load': 3, 'label': '6,1', 'x': 40, 'y': 26}, '(6, 2)': {'station': 6, 'load': 3, 'label': '6,2', 'x': 40, 'y': 26}, '(6, 3)': {'station': 6, 'load': 3, 'label': '6,3', 'x': 40, 'y': 26}, '0': {'label': 0, 'x': 28, 'y': 7, 'load': 0}, '1': {'label': 1, 'x': 14, 'y': 35, 'load': 0}})"
      ]
     },
     "execution_count": 5,
     "metadata": {},
     "output_type": "execute_result"
    }
   ],
   "source": [
    "G.nodes(data=True)"
   ]
  },
  {
   "cell_type": "code",
   "execution_count": 6,
   "metadata": {},
   "outputs": [],
   "source": [
    "edges = nx.to_pandas_edgelist(G)"
   ]
  },
  {
   "cell_type": "code",
   "execution_count": 7,
   "metadata": {},
   "outputs": [
    {
     "data": {
      "text/html": [
       "<div>\n",
       "<style scoped>\n",
       "    .dataframe tbody tr th:only-of-type {\n",
       "        vertical-align: middle;\n",
       "    }\n",
       "\n",
       "    .dataframe tbody tr th {\n",
       "        vertical-align: top;\n",
       "    }\n",
       "\n",
       "    .dataframe thead th {\n",
       "        text-align: right;\n",
       "    }\n",
       "</style>\n",
       "<table border=\"1\" class=\"dataframe\">\n",
       "  <thead>\n",
       "    <tr style=\"text-align: right;\">\n",
       "      <th></th>\n",
       "      <th>source</th>\n",
       "      <th>target</th>\n",
       "      <th>time</th>\n",
       "    </tr>\n",
       "  </thead>\n",
       "  <tbody>\n",
       "    <tr>\n",
       "      <th>0</th>\n",
       "      <td>(7, 1)</td>\n",
       "      <td>(1, 1)</td>\n",
       "      <td>2758</td>\n",
       "    </tr>\n",
       "    <tr>\n",
       "      <th>1</th>\n",
       "      <td>(7, 1)</td>\n",
       "      <td>(1, 2)</td>\n",
       "      <td>2758</td>\n",
       "    </tr>\n",
       "    <tr>\n",
       "      <th>2</th>\n",
       "      <td>(7, 1)</td>\n",
       "      <td>(1, 3)</td>\n",
       "      <td>2758</td>\n",
       "    </tr>\n",
       "    <tr>\n",
       "      <th>3</th>\n",
       "      <td>(7, 1)</td>\n",
       "      <td>(2, 1)</td>\n",
       "      <td>1442</td>\n",
       "    </tr>\n",
       "    <tr>\n",
       "      <th>4</th>\n",
       "      <td>(7, 1)</td>\n",
       "      <td>(3, 1)</td>\n",
       "      <td>2193</td>\n",
       "    </tr>\n",
       "  </tbody>\n",
       "</table>\n",
       "</div>"
      ],
      "text/plain": [
       "   source  target  time\n",
       "0  (7, 1)  (1, 1)  2758\n",
       "1  (7, 1)  (1, 2)  2758\n",
       "2  (7, 1)  (1, 3)  2758\n",
       "3  (7, 1)  (2, 1)  1442\n",
       "4  (7, 1)  (3, 1)  2193"
      ]
     },
     "execution_count": 7,
     "metadata": {},
     "output_type": "execute_result"
    }
   ],
   "source": [
    "edges.head()"
   ]
  },
  {
   "cell_type": "code",
   "execution_count": 8,
   "metadata": {},
   "outputs": [
    {
     "name": "stdout",
     "output_type": "stream",
     "text": [
      "Maximum distance time between nodes: 4729\n"
     ]
    }
   ],
   "source": [
    "print(\"Maximum distance time between nodes:\",edges['time'].max())"
   ]
  },
  {
   "cell_type": "markdown",
   "metadata": {},
   "source": [
    "### Model "
   ]
  },
  {
   "cell_type": "markdown",
   "metadata": {},
   "source": [
    "#### Decision variables\n",
    "\n",
    "$$\n",
    "x_{vl}=\\begin{cases}1 \\text { if station visits $v \\in V$ is assigned to vehicle $l \\in L$}\\\\\n",
    "0 \\text{ otherwise}\n",
    "\\end{cases}\n",
    "$$\n",
    "\n",
    "$$\n",
    "y\\ ^l_{uv}=\\begin{cases}1 \\text { if arc $(u, v) \\in A$ is assigned to vehicle $l \\in L$}\\\\\n",
    "0 \\text{ otherwise}\n",
    "\\end{cases}\n",
    "$$\n",
    "\n",
    "$$\n",
    "a_v=\\{ \\text{ position in the tour in which the node $v$ is visited }\\}\n",
    "$$"
   ]
  },
  {
   "cell_type": "markdown",
   "metadata": {},
   "source": [
    "#### Formulation\n",
    "\n",
    "$$\n",
    "\\begin{alignat}{4}\n",
    "&\\max \\sum_{l \\in L} \\sum_{v \\in V} x_{lv} &\\\\\\\\\n",
    "\\text{s.t.} \\;\\;\\;\\;\\;&\\\\\n",
    "\\\\\n",
    "\\sum_{l \\in L} x_{vl} &\\le 1 \\;\\;\\; \\forall v \\in V \\;\\;\\; \\text{(1)}\\\\ \n",
    "\\sum_{v \\in V_{\\text{pic}}} x_{vl} &= \\sum_{v \\in V_{\\text{del}}} x_{vl} \\;\\;\\; \\forall l \\in L \\;\\;\\; \\text{(2)}\\\\\n",
    "\\sum_{l' \\in L} x_{(s,i)l'} &\\ge x_{(s,i+1)l} \\;\\;\\; \\forall s \\in S ,\\; l \\in L, \\; i = 1,....,f_s-1 \\;\\;\\; \\text{(3)}\\\\\n",
    "\\sum_{v \\in V_{\\text{pic}}} y\\ ^l_{0v} &= 1 \\;\\;\\; \\forall l \\in L \\;\\;\\; \\text{(4)}\\\\\n",
    "\\sum_{v \\in V_{\\text{del}}} y\\ ^l_{v0'} &= 1 \\;\\;\\; \\forall l \\in L \\;\\;\\; \\text{(5)}\\\\\n",
    "\\sum_{(u,v) \\in A_0} y\\ ^l_{uv} &= x_{ul} \\;\\;\\; \\forall l \\in L, \\; u \\in V \\;\\;\\; \\text{(6)}\\\\\n",
    "\\sum_{(u,v) \\in A_0} y\\ ^l_{uv} &= x_{vl} \\;\\;\\; \\forall l \\in L, \\; v \\in V \\;\\;\\; \\text{(7)}\\\\\n",
    "\\sum_{(u,v) \\in A_0} y\\ ^l_{uv} &= \\sum_{(v,u) \\in A_0} y\\ ^l_{vu} \\;\\;\\; \\forall l \\in L, \\; v \\in V \\;\\;\\; \\text{(8)}\\\\\n",
    "\\sum_{(u,v) \\in A_0} t_{uv} \\cdot y\\ ^l_{uv} &\\le \\;t̂ \\;\\;\\; \\forall l \\in L \\;\\;\\; \\text{(9)}\\\\\n",
    "a_u - a_v + |V| \\cdot y\\ ^l_{uv} &\\le |V| - 1 \\;\\;\\; \\forall l \\in L,\\; (u,v) \\in A \\;\\;\\; \\text{(10)}\\\\\n",
    "\\\\\n",
    "x_{vl} &\\in \\{0,1\\} \\;\\;\\; \\forall l \\in L,\\; v \\in V\\\\\n",
    "y\\ ^l_{ul} &\\in \\{0,1\\} \\;\\;\\; \\forall l \\in L,  \\; (u,v) \\in A_0\\\\\n",
    "1 &\\le a_v \\le |V| \\;\\;\\; \\forall v \\in V \n",
    "\\end{alignat}\n",
    "$$\n"
   ]
  },
  {
   "cell_type": "code",
   "execution_count": 9,
   "metadata": {},
   "outputs": [],
   "source": [
    "D = G.to_directed()\n",
    "L = [i for i in range(1,5)] #4 vehicles\n",
    "z = 30                      #capacity of each vehicle\n",
    "t_budget = 300000           #time budget\n",
    "start_depot = '0'\n",
    "end_depot = '1'\n",
    "stations = [1,2,3,4,5,6,7,8,9,10,11]"
   ]
  },
  {
   "cell_type": "code",
   "execution_count": 10,
   "metadata": {},
   "outputs": [],
   "source": [
    "v_pick = [i for i in G.nodes() if G.node[i]['load'] > 0]\n",
    "v_del = [i for i in G.nodes() if G.node[i]['load'] < 0]\n",
    "station_visits = G.nodes()-{start_depot, end_depot}"
   ]
  },
  {
   "cell_type": "code",
   "execution_count": 11,
   "metadata": {},
   "outputs": [
    {
     "name": "stdout",
     "output_type": "stream",
     "text": [
      "Academic license - for non-commercial use only\n"
     ]
    }
   ],
   "source": [
    "mod = gb.Model()"
   ]
  },
  {
   "cell_type": "code",
   "execution_count": 12,
   "metadata": {},
   "outputs": [
    {
     "name": "stdout",
     "output_type": "stream",
     "text": [
      "Warning: variable name \"x[(11, 3),1]\" has a space\n",
      "Warning: to let Gurobi read it back, use rlp format\n"
     ]
    }
   ],
   "source": [
    "x = mod.addVars(station_visits, L, obj=1, vtype=gb.GRB.BINARY, name='x')\n",
    "\n",
    "y = mod.addVars(D.edges(), L, vtype=gb.GRB.BINARY, name='y')\n",
    "\n",
    "a = mod.addVars(station_visits, lb=1.0, ub=len(station_visits), vtype=gb.GRB.CONTINUOUS, name='a')\n",
    "\n",
    "mod.ModelSense = gb.GRB.MAXIMIZE\n",
    "mod.write('model.lp')"
   ]
  },
  {
   "cell_type": "markdown",
   "metadata": {},
   "source": [
    ">#### Constr 1\n",
    ">\n",
    ">Every station visit is performed by at most one vehicle"
   ]
  },
  {
   "cell_type": "code",
   "execution_count": 13,
   "metadata": {},
   "outputs": [
    {
     "name": "stdout",
     "output_type": "stream",
     "text": [
      "Warning: variable name \"x[(11, 3),1]\" has a space\n",
      "Warning: constraint name \"CSTR1[(11, 3)]\" has a space\n",
      "Warning: to let Gurobi read it back, use rlp format\n"
     ]
    }
   ],
   "source": [
    "mod.addConstrs((x.sum(v, '*') <= 1 for v in station_visits), name='CSTR1')\n",
    "mod.update()\n",
    "mod.write('model.lp')"
   ]
  },
  {
   "cell_type": "markdown",
   "metadata": {},
   "source": [
    ">#### Constr 2\n",
    ">Every tour contains the same amount of pickup visits as delivery visits"
   ]
  },
  {
   "cell_type": "code",
   "execution_count": 14,
   "metadata": {},
   "outputs": [
    {
     "name": "stdout",
     "output_type": "stream",
     "text": [
      "Warning: variable name \"x[(11, 3),1]\" has a space\n",
      "Warning: constraint name \"CSTR1[(11, 3)]\" has a space\n",
      "Warning: to let Gurobi read it back, use rlp format\n"
     ]
    }
   ],
   "source": [
    "for l in L:\n",
    "    mod.addConstr(gb.quicksum([x[v,l] for v in v_pick]) == gb.quicksum([x[v,l] for v in v_del]), name='CSTR2_%s'%l)\n",
    "    mod.update()\n",
    "mod.write('model.lp')"
   ]
  },
  {
   "cell_type": "markdown",
   "metadata": {},
   "source": [
    ">#### Constr 3\n",
    ">The $i + 1$ th visit can only be performed when the $i$ th visit is performed, for $i = 1, . . . , f_s − 1$ and each station $s \\in S$."
   ]
  },
  {
   "cell_type": "code",
   "execution_count": 15,
   "metadata": {},
   "outputs": [
    {
     "name": "stdout",
     "output_type": "stream",
     "text": [
      "Warning: variable name \"x[(11, 3),1]\" has a space\n",
      "Warning: constraint name \"CSTR1[(11, 3)]\" has a space\n",
      "Warning: to let Gurobi read it back, use rlp format\n"
     ]
    }
   ],
   "source": [
    "for s in stations:\n",
    "    for l in L:\n",
    "        for i in range(1, abs(G.node[str((s, 1))]['load'])):\n",
    "            mod.addConstr(x.sum(str((s, i)), '*') >= x[str((s, i+1)), l], name='CSTR3_(%s,%s)_%s' % (s,i,l))\n",
    "            mod.update()\n",
    "mod.write('model.lp')"
   ]
  },
  {
   "cell_type": "markdown",
   "metadata": {},
   "source": [
    ">#### Constr 4\n",
    ">For each vehicle the depot’s starting node $0$ has to have one outgoing arc"
   ]
  },
  {
   "cell_type": "code",
   "execution_count": 16,
   "metadata": {
    "scrolled": true
   },
   "outputs": [
    {
     "name": "stdout",
     "output_type": "stream",
     "text": [
      "Warning: variable name \"x[(11, 3),1]\" has a space\n",
      "Warning: constraint name \"CSTR1[(11, 3)]\" has a space\n",
      "Warning: to let Gurobi read it back, use rlp format\n"
     ]
    }
   ],
   "source": [
    "for l in L:\n",
    "    mod.addConstr(y.sum(start_depot, v_pick, l) == 1, name='CSTR4_%s'%l)\n",
    "    mod.update()\n",
    "mod.write('model.lp')"
   ]
  },
  {
   "cell_type": "markdown",
   "metadata": {},
   "source": [
    ">#### Constr 5\n",
    ">The depot’s target node $1$ has to have one incoming arc"
   ]
  },
  {
   "cell_type": "code",
   "execution_count": 17,
   "metadata": {
    "scrolled": true
   },
   "outputs": [
    {
     "name": "stdout",
     "output_type": "stream",
     "text": [
      "Warning: variable name \"x[(11, 3),1]\" has a space\n",
      "Warning: constraint name \"CSTR1[(11, 3)]\" has a space\n",
      "Warning: to let Gurobi read it back, use rlp format\n"
     ]
    }
   ],
   "source": [
    "for l in L:\n",
    "    mod.addConstr(y.sum(v_del,end_depot, l) == 1, name='CSTR5_%s'%l)\n",
    "    mod.update()\n",
    "mod.write('model.lp')"
   ]
  },
  {
   "cell_type": "markdown",
   "metadata": {},
   "source": [
    ">#### Constr 6\n",
    ">Every node $u \\in V$ has one outgoing arc iff it is assigned to vehicle $l$."
   ]
  },
  {
   "cell_type": "code",
   "execution_count": 18,
   "metadata": {},
   "outputs": [
    {
     "name": "stdout",
     "output_type": "stream",
     "text": [
      "Warning: variable name \"x[(11, 3),1]\" has a space\n",
      "Warning: constraint name \"CSTR1[(11, 3)]\" has a space\n",
      "Warning: to let Gurobi read it back, use rlp format\n"
     ]
    }
   ],
   "source": [
    "for l in L:\n",
    "    for u in station_visits:\n",
    "        mod.addConstr(y.sum(u, D.neighbors(u), l) == x[u, l], name='CSTR6_(%s)_%s'%(u,l))\n",
    "        mod.update()\n",
    "mod.write('model.lp')"
   ]
  },
  {
   "cell_type": "markdown",
   "metadata": {},
   "source": [
    ">#### Constr 7\n",
    ">Each node $v \\in V$ which is assigned to vehicle $l \\in L$ has to have one corresponding ingoing arc."
   ]
  },
  {
   "cell_type": "code",
   "execution_count": 19,
   "metadata": {},
   "outputs": [
    {
     "name": "stdout",
     "output_type": "stream",
     "text": [
      "Warning: variable name \"x[(11, 3),1]\" has a space\n",
      "Warning: constraint name \"CSTR1[(11, 3)]\" has a space\n",
      "Warning: to let Gurobi read it back, use rlp format\n"
     ]
    }
   ],
   "source": [
    "for l in L:\n",
    "    for v in station_visits:\n",
    "        mod.addConstr(y.sum(D.neighbors(v), v, l) == x[v, l], name='CSTR7_(%s)_%s'%(v,l))\n",
    "        mod.update()\n",
    "mod.write('model.lp')"
   ]
  },
  {
   "cell_type": "markdown",
   "metadata": {},
   "source": [
    ">#### Constr 8\n",
    ">The number of ingoing arcs has to be equal to the number of outgoing arcs foreach node $v \\in V,\\; l \\in L$"
   ]
  },
  {
   "cell_type": "code",
   "execution_count": 20,
   "metadata": {},
   "outputs": [
    {
     "name": "stdout",
     "output_type": "stream",
     "text": [
      "Warning: variable name \"x[(11, 3),1]\" has a space\n",
      "Warning: constraint name \"CSTR1[(11, 3)]\" has a space\n",
      "Warning: to let Gurobi read it back, use rlp format\n"
     ]
    }
   ],
   "source": [
    "for l in L:\n",
    "    for v in station_visits:\n",
    "        mod.addConstr(\n",
    "            gb.quicksum([y[u, v, l] for u in D.neighbors(v)]) == gb.quicksum([y[v, u, l] for u in D.neighbors(v)]),\n",
    "            name = 'CSTR8_%s_%s'%(l,v))\n",
    "        mod.update()\n",
    "mod.write('model.lp')"
   ]
  },
  {
   "cell_type": "markdown",
   "metadata": {},
   "source": [
    ">#### Constr 9\n",
    ">The routes for each vehicle has to lie within the allowed time budget."
   ]
  },
  {
   "cell_type": "code",
   "execution_count": 21,
   "metadata": {},
   "outputs": [],
   "source": [
    "t = nx.get_edge_attributes(D,'time')"
   ]
  },
  {
   "cell_type": "code",
   "execution_count": 22,
   "metadata": {},
   "outputs": [
    {
     "name": "stdout",
     "output_type": "stream",
     "text": [
      "Warning: variable name \"x[(11, 3),1]\" has a space\n",
      "Warning: constraint name \"CSTR1[(11, 3)]\" has a space\n",
      "Warning: to let Gurobi read it back, use rlp format\n"
     ]
    }
   ],
   "source": [
    "mod.addConstrs((gb.quicksum([t[u, v] * y[u, v, l] for u, v in D.edges()]) <= t_budget for l in L), name = 'CSTR9')\n",
    "mod.update()\n",
    "mod.write('model.lp')"
   ]
  },
  {
   "cell_type": "markdown",
   "metadata": {},
   "source": [
    ">#### Constr 10\n",
    ">MTZ subtour inequalities"
   ]
  },
  {
   "cell_type": "code",
   "execution_count": 23,
   "metadata": {},
   "outputs": [
    {
     "name": "stdout",
     "output_type": "stream",
     "text": [
      "Warning: variable name \"x[(11, 3),1]\" has a space\n",
      "Warning: constraint name \"CSTR1[(11, 3)]\" has a space\n",
      "Warning: to let Gurobi read it back, use rlp format\n"
     ]
    }
   ],
   "source": [
    "for l in L:\n",
    "    for u, v in D.edges():\n",
    "        if u != start_depot and u != end_depot and v != start_depot and v != end_depot: \n",
    "            mod.addConstr(\n",
    "            a[u] - a[v] + len(station_visits) * y[u, v, l] <= len(station_visits) - 1, \n",
    "                name='CSTR10_(%s,%s)%s'%(u,v,l))\n",
    "            mod.update()\n",
    "mod.write('model.lp')"
   ]
  },
  {
   "cell_type": "code",
   "execution_count": 24,
   "metadata": {},
   "outputs": [
    {
     "name": "stdout",
     "output_type": "stream",
     "text": [
      "Optimize a model with 1209 rows, 1153 columns and 8164 nonzeros\n",
      "Variable types: 21 continuous, 1132 integer (1132 binary)\n",
      "Coefficient statistics:\n",
      "  Matrix range     [1e+00, 5e+03]\n",
      "  Objective range  [1e+00, 1e+00]\n",
      "  Bounds range     [1e+00, 2e+01]\n",
      "  RHS range        [1e+00, 3e+05]\n",
      "Found heuristic solution: objective 10.0000000\n",
      "Presolve removed 4 rows and 0 columns\n",
      "Presolve time: 0.02s\n",
      "Presolved: 1205 rows, 1153 columns, 7116 nonzeros\n",
      "Variable types: 21 continuous, 1132 integer (1132 binary)\n",
      "\n",
      "Root relaxation: objective 2.000000e+01, 238 iterations, 0.01 seconds\n",
      "\n",
      "    Nodes    |    Current Node    |     Objective Bounds      |     Work\n",
      " Expl Unexpl |  Obj  Depth IntInf | Incumbent    BestBd   Gap | It/Node Time\n",
      "\n",
      "H    0     0                      20.0000000   84.00000   320%     -    0s\n",
      "     0     0          -    0        20.00000   20.00000  0.00%     -    0s\n",
      "\n",
      "Explored 0 nodes (358 simplex iterations) in 0.09 seconds\n",
      "Thread count was 4 (of 4 available processors)\n",
      "\n",
      "Solution count 2: 20 10 \n",
      "\n",
      "Optimal solution found (tolerance 1.00e-04)\n",
      "Best objective 2.000000000000e+01, best bound 2.000000000000e+01, gap 0.0000%\n"
     ]
    }
   ],
   "source": [
    "mod.optimize()"
   ]
  },
  {
   "cell_type": "code",
   "execution_count": null,
   "metadata": {},
   "outputs": [],
   "source": []
  }
 ],
 "metadata": {
  "kernelspec": {
   "display_name": "Python 3",
   "language": "python",
   "name": "python3"
  },
  "language_info": {
   "codemirror_mode": {
    "name": "ipython",
    "version": 3
   },
   "file_extension": ".py",
   "mimetype": "text/x-python",
   "name": "python",
   "nbconvert_exporter": "python",
   "pygments_lexer": "ipython3",
   "version": "3.6.8"
  },
  "pycharm": {
   "stem_cell": {
    "cell_type": "raw",
    "metadata": {
     "collapsed": false
    },
    "source": []
   }
  }
 },
 "nbformat": 4,
 "nbformat_minor": 2
}
