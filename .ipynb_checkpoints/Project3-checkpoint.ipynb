{
 "cells": [
  {
   "cell_type": "markdown",
   "metadata": {},
   "source": [
    "# Compact Mixed Integer Linear Programming Model for Balancing Bike Sharing Systems "
   ]
  },
  {
   "cell_type": "code",
   "execution_count": 9,
   "metadata": {
    "pycharm": {
     "is_executing": false,
     "name": "#%%\n"
    }
   },
   "outputs": [],
   "source": [
    "import gurobipy as gb\n",
    "import networkx as nx\n",
    "import pygraphviz as pygv\n",
    "import os\n",
    "from IPython.display import SVG, display\n",
    "import pandas as pd\n",
    "import numpy as np"
   ]
  },
  {
   "cell_type": "code",
   "execution_count": 10,
   "metadata": {
    "pycharm": {
     "is_executing": false,
     "name": "#%%\n"
    }
   },
   "outputs": [],
   "source": [
    "def draw_initial_graph(G, scale):\n",
    "    global DrawG\n",
    "    DrawG = pygv.AGraph(strict='true', splines='true', directed=True)\n",
    "    \n",
    "    for i in G.nodes():\n",
    "        pos = str(G.node[i]['x'] * scale) + ',' + str((G.node[i]['y']) * scale)\n",
    "\n",
    "        if G.node[i]['load'] < 0:\n",
    "            DrawG.add_node(i, shape='circle', pos=pos, label=G.node[i]['label'], color='red',\n",
    "                           style='filled', fillcolor='salmon', fontsize='8', width='0.3')\n",
    "        elif G.node[i]['load'] > 0:\n",
    "            DrawG.add_node(i, shape='circle', pos=pos, label=G.node[i]['label'], color='green',\n",
    "                           style='filled', fillcolor='palegreen1', fontsize='8', width='0.3')\n",
    "        else:\n",
    "            DrawG.add_node(i, shape='circle', pos=pos, label=G.node[i]['label'], fontsize='8', width='0.3')\n",
    "        \n",
    "    DrawG.layout(prog='neato', args='-n')\n",
    "    DrawG.draw(path=basename + '.svg', format='svg')\n",
    "    DrawG.clear()\n",
    "    \n",
    "    \n",
    "def draw_solution(G, x, y, veichles, scale):\n",
    "    pos = str(G.node['0']['x'] * scale) + ',' + str((G.node['0']['y']) * scale)\n",
    "    DrawG.add_node('0', shape='circle', pos=pos, label=G.node['0']['label'], fontsize='8', width=0.3)\n",
    "    #pos = str(G.node['1']['x'] * scale) + ',' + str((G.node['1']['y']) * scale)\n",
    "    #DrawG.add_node('1', shape='circle', pos=pos, label=G.node['1']['label'], fontsize='8', width=0.3)\n",
    "     \n",
    "    for i in G.nodes()-{'0'}:\n",
    "        for v in veichles:\n",
    "            if x[i, v].x == 1:\n",
    "                lab = G.node[i]['label']+\"_\"+str(v)\n",
    "                t = i.split(\" \")\n",
    "                pos = str(G.node[i]['x'] * float(t[1][0]) * scale) + ',' + str(G.node[i]['y'] * scale)\n",
    "                if G.node[i]['load'] < 0:\n",
    "                    DrawG.add_node(i, shape='circle', pos=pos, label=lab, color='red', style='filled', \n",
    "                                   fillcolor='salmon', fontsize='8', width=0.1)\n",
    "                elif G.node[i]['load'] > 0:\n",
    "                    DrawG.add_node(i, shape='circle', pos=pos, label=lab, color='green', style='filled', \n",
    "                                   fillcolor='palegreen1', fontsize='8', width=0.1)\n",
    "    \n",
    "    # associate a color to each veichle\n",
    "    colors = ['red', 'blue', 'green', 'orange3', 'lightslategrey', 'darkslateblue']\n",
    "    dict_veichles = []\n",
    "    for i in range(0, len(veichles)):\n",
    "        dict_veichles.append({'veichle': veichles[i], 'color': colors[i]})\n",
    "    \n",
    "    for i, j in G.edges():\n",
    "        for v in dict_veichles:\n",
    "            if y[i, j, v['veichle']].x == 1:\n",
    "                lab = \"(%s, %s) %s\"%(i,j,v['veichle'])\n",
    "                DrawG.add_edge(i, j, color=v['color'], label= v['veichle'], fontsize='8', splines='spline', fontcolor= v['color'])\n",
    "    \n",
    "    DrawG.layout(prog='neato', args='-n')\n",
    "    DrawG.draw(path=basename +\"_sol\" + '.svg', format='svg')\n",
    "    DrawG.clear()"
   ]
  },
  {
   "cell_type": "code",
   "execution_count": 11,
   "metadata": {},
   "outputs": [],
   "source": [
    "def euclidean_distance(u, v):\n",
    "    return int((((int(u[0]) - int(v[0])) ** 2 + (int(u[1]) - int(v[1])) ** 2) ** 0.5) * 100)"
   ]
  },
  {
   "cell_type": "markdown",
   "metadata": {},
   "source": [
    "## Problem Definition"
   ]
  },
  {
   "cell_type": "markdown",
   "metadata": {},
   "source": [
    "**Given:**\n",
    "\n",
    "- A set of stations $S$ and a set of homogeneous vehicles $L$.\n",
    "\n",
    "- A common time budget $\\;t̂\\;$ (drivers’ shift times) within which they have to finish their routes.\n",
    "\n",
    "- For each station $s \\in S$ the number of full vehicle loads $f_s$ to be delivered $(f_s \\le −1)$ or picked up $(f_s \\ge 1)$ such that the station achieves its (approximately) ideal target fill level.\n",
    "\n",
    "\n",
    "**Find:**\n",
    "\n",
    "The maximum number of full vehicle loads picked up and delivered to the stations, such that the total balance increase in the system.  "
   ]
  },
  {
   "cell_type": "markdown",
   "metadata": {},
   "source": [
    "A station, to which bikes shall be delivered is called a *delivery station*, while a station from which bikes should be removed is called a *pickup station*. At pickup stations, only pickups may be performed, while at delivery stations, only deliveries, and we never allow more than $|f_s |$ visits at each station."
   ]
  },
  {
   "cell_type": "markdown",
   "metadata": {},
   "source": [
    ">**Note**\n",
    ">\n",
    ">Stations\n",
    "that are already at their desired target fill level (or require\n",
    "less than a full vehicle load) are ignored from any further\n",
    "consideration."
   ]
  },
  {
   "cell_type": "markdown",
   "metadata": {},
   "source": [
    "### Graph"
   ]
  },
  {
   "cell_type": "markdown",
   "metadata": {},
   "source": [
    "For modeling tours with up to $|f_s |$ visits at each station $s \\in S$, a directed bipartite graph $G = (V ,A)$ as been defined as follows. Let\n",
    "\n",
    "$$V_\\text{pic} = \\{(s,i)\\;|\\;s \\in S \\land f_s \\ge 1,\\;i=1,...,|f_s|\\}$$\n",
    "\n",
    "be a set of nodes representing up to $|f_s|$ visits at each pickup station, and let\n",
    "\n",
    "$$V_\\text{del} = \\{(s,i)\\;|\\;s \\in S \\land f_s \\le -1,\\;i=1,...,f_s\\}$$\n",
    "\n",
    "denote the respective potential visits at the delivery stations. $V=V_\\text{pic} \\cup V_\\text{del}$ then refers to the joined set of all potential visits, and the arc set of graph $G$ is given by\n",
    "\n",
    "$$ A=\\{(u,v),\\;(v,u)\\;|\\;u \\in V_\\text{pic},\\; v \\in V_\\text{del}\\} $$"
   ]
  },
  {
   "cell_type": "markdown",
   "metadata": {},
   "source": [
    "Further the set of stations $V$ as been extended by two nodes $0$ and $1$ representing the depot at the beginning and the end of each tour, respectively, obtaining $V_0 = V \\cup \\{0, 1\\}$. \n",
    "\n",
    "Node $0$ is connected to all pickup nodes, while $1$ is connected to all delivery nodes, that is, $A_0= A \\cup \\{(0,v) \\;|\\; v \\in V_\\text{pic}\\} \\cup \\{(v,1) \\;|\\; v \\in V_\\text{del}\\}$, yielding a bipartite graph $G_0 = (V_0, A_0)$. "
   ]
  },
  {
   "cell_type": "markdown",
   "metadata": {},
   "source": [
    "Each arc $(u, v) \\in A_0$ represents an actual trip from the location represented by visit $u$ to the location represented by visit $v$ and has a corresponding traveling time $t_{uv} > 0$ associated."
   ]
  },
  {
   "cell_type": "markdown",
   "metadata": {},
   "source": [
    "### Model "
   ]
  },
  {
   "cell_type": "markdown",
   "metadata": {},
   "source": [
    "#### Decision variables\n",
    "\n",
    "$$\n",
    "x_{vl}=\\begin{cases}1 \\text { if station visits $v \\in V$ is assigned to vehicle $l \\in L$}\\\\\n",
    "0 \\text{ otherwise}\n",
    "\\end{cases}\n",
    "$$\n",
    "\n",
    "$$\n",
    "y\\ ^l_{uv}=\\begin{cases}1 \\text { if arc $(u, v) \\in A$ is assigned to vehicle $l \\in L$}\\\\\n",
    "0 \\text{ otherwise}\n",
    "\\end{cases}\n",
    "$$\n",
    "\n",
    "$$\n",
    "a_v=\\{ \\text{ position in the tour in which the node $v$ is visited }\\}\n",
    "$$"
   ]
  },
  {
   "cell_type": "markdown",
   "metadata": {},
   "source": [
    "#### Formulation\n",
    "\n",
    "$$\n",
    "\\begin{alignat}{4}\n",
    "&\\max \\sum_{l \\in L} \\sum_{v \\in V} x_{lv} &\\\\\\\\\n",
    "\\text{s.t.} \\;\\;\\;\\;\\;&\\\\\n",
    "\\\\\n",
    "\\sum_{l \\in L} x_{vl} &\\le 1 \\;\\;\\; \\forall v \\in V \\;\\;\\; \\text{(1)}\\\\ \n",
    "\\sum_{v \\in V_{\\text{pic}}} x_{vl} &= \\sum_{v \\in V_{\\text{del}}} x_{vl} \\;\\;\\; \\forall l \\in L \\;\\;\\; \\text{(2)}\\\\\n",
    "\\sum_{l' \\in L} x_{(s,i)l'} &\\ge x_{(s,i+1)l} \\;\\;\\; \\forall s \\in S ,\\; l \\in L, \\; i = 1,....,f_s-1 \\;\\;\\; \\text{(3)}\\\\\n",
    "\\sum_{v \\in V_{\\text{pic}}} y\\ ^l_{0v} &= 1 \\;\\;\\; \\forall l \\in L \\;\\;\\; \\text{(4)}\\\\\n",
    "\\sum_{v \\in V_{\\text{del}}} y\\ ^l_{v1} &= 1 \\;\\;\\; \\forall l \\in L \\;\\;\\; \\text{(5)}\\\\\n",
    "\\sum_{(u,v) \\in A_0} y\\ ^l_{uv} &= x_{ul} \\;\\;\\; \\forall l \\in L, \\; u \\in V \\;\\;\\; \\text{(6)}\\\\\n",
    "\\sum_{(u,v) \\in A_0} y\\ ^l_{uv} &= x_{vl} \\;\\;\\; \\forall l \\in L, \\; v \\in V \\;\\;\\; \\text{(7)}\\\\\n",
    "\\sum_{(u,v) \\in A_0} y\\ ^l_{uv} &= \\sum_{(v,u) \\in A_0} y\\ ^l_{vu} \\;\\;\\; \\forall l \\in L, \\; v \\in V \\;\\;\\; \\text{(8)}\\\\\n",
    "\\sum_{(u,v) \\in A_0} t_{uv} \\cdot y\\ ^l_{uv} &\\le \\;t̂ \\;\\;\\; \\forall l \\in L \\;\\;\\; \\text{(9)}\\\\\n",
    "a_u - a_v + |V| \\cdot y\\ ^l_{uv} &\\le |V| - 1 \\;\\;\\; \\forall l \\in L,\\; (u,v) \\in A \\;\\;\\; \\text{(10)}\\\\\n",
    "\\\\\n",
    "x_{vl} &\\in \\{0,1\\} \\;\\;\\; \\forall l \\in L,\\; v \\in V\\\\\n",
    "y\\ ^l_{ul} &\\in \\{0,1\\} \\;\\;\\; \\forall l \\in L,  \\; (u,v) \\in A_0\\\\\n",
    "1 &\\le a_v \\le |V| \\;\\;\\; \\forall v \\in V \n",
    "\\end{alignat}\n",
    "$$\n"
   ]
  },
  {
   "cell_type": "markdown",
   "metadata": {},
   "source": [
    "## Implementation with a single depot node"
   ]
  },
  {
   "cell_type": "markdown",
   "metadata": {},
   "source": [
    "### Graph description"
   ]
  },
  {
   "cell_type": "markdown",
   "metadata": {},
   "source": [
    "The graph used for this implementation is the same of the simple case, so that the solution will be more easy to analyse. The difference from the first case is that here the vehicles start and end in the same depot node.\n",
    "\n",
    "To represent this situation, we will remove the node $1$ from the graph and connect all the _delay_ nodes to the starting depot."
   ]
  },
  {
   "cell_type": "code",
   "execution_count": 12,
   "metadata": {},
   "outputs": [],
   "source": [
    "filename = 'graph.gml'\n",
    "scale = 15\n",
    "\n",
    "basename = os.path.splitext(filename)[0]\n",
    "\n",
    "G = nx.read_graphml (filename, node_type=str)"
   ]
  },
  {
   "cell_type": "code",
   "execution_count": 13,
   "metadata": {},
   "outputs": [],
   "source": [
    "G.remove_node('1')"
   ]
  },
  {
   "cell_type": "code",
   "execution_count": 14,
   "metadata": {},
   "outputs": [],
   "source": [
    "for i in G.nodes()-{'0'}:\n",
    "    if G.node[i]['load'] < 0:\n",
    "        u = (G.node['0']['x'], G.node['0']['y'])\n",
    "        v = (G.node[i]['x'], G.node[i]['y'])\n",
    "        d = euclidean_distance(u, v)\n",
    "        G.add_edge(i, '0', time = d)"
   ]
  },
  {
   "cell_type": "code",
   "execution_count": 15,
   "metadata": {},
   "outputs": [
    {
     "name": "stdout",
     "output_type": "stream",
     "text": [
      "G has 19 nodes and 178 edges\n",
      "True\n"
     ]
    }
   ],
   "source": [
    "print (\"G has\", G.number_of_nodes(), \"nodes and\", G.number_of_edges(), \"edges\")\n",
    "\n",
    "print(G.is_directed())"
   ]
  },
  {
   "cell_type": "code",
   "execution_count": 16,
   "metadata": {
    "scrolled": false
   },
   "outputs": [
    {
     "data": {
      "image/svg+xml": [
       "<svg height=\"540pt\" viewBox=\"0.00 0.00 752.50 540.00\" width=\"752pt\" xmlns=\"http://www.w3.org/2000/svg\" xmlns:xlink=\"http://www.w3.org/1999/xlink\">\n",
       "<g class=\"graph\" id=\"graph0\" transform=\"scale(1 1) rotate(0) translate(4 535.995)\">\n",
       "<polygon fill=\"#ffffff\" points=\"-4,4 -4,-535.995 748.497,-535.995 748.497,4 -4,4\" stroke=\"transparent\"/>\n",
       "<!-- (7, 1) -->\n",
       "<g class=\"node\" id=\"node1\">\n",
       "<title>(7, 1)</title>\n",
       "<ellipse cx=\"66\" cy=\"-138.495\" fill=\"#fa8072\" rx=\"18.5\" ry=\"18.5\" stroke=\"#ff0000\"/>\n",
       "<text fill=\"#000000\" font-family=\"Times,serif\" font-size=\"8.00\" text-anchor=\"middle\" x=\"66\" y=\"-136.595\">7,1</text>\n",
       "</g>\n",
       "<!-- (8, 1) -->\n",
       "<g class=\"node\" id=\"node2\">\n",
       "<title>(8, 1)</title>\n",
       "<ellipse cx=\"36\" cy=\"-408.495\" fill=\"#fa8072\" rx=\"18.5\" ry=\"18.5\" stroke=\"#ff0000\"/>\n",
       "<text fill=\"#000000\" font-family=\"Times,serif\" font-size=\"8.00\" text-anchor=\"middle\" x=\"36\" y=\"-406.595\">8,1</text>\n",
       "</g>\n",
       "<!-- (8, 2) -->\n",
       "<g class=\"node\" id=\"node3\">\n",
       "<title>(8, 2)</title>\n",
       "<ellipse cx=\"36\" cy=\"-408.495\" fill=\"#fa8072\" rx=\"18.5\" ry=\"18.5\" stroke=\"#ff0000\"/>\n",
       "<text fill=\"#000000\" font-family=\"Times,serif\" font-size=\"8.00\" text-anchor=\"middle\" x=\"36\" y=\"-406.595\">8,2</text>\n",
       "</g>\n",
       "<!-- (9, 1) -->\n",
       "<g class=\"node\" id=\"node4\">\n",
       "<title>(9, 1)</title>\n",
       "<ellipse cx=\"275.997\" cy=\"-183.495\" fill=\"#fa8072\" rx=\"18.5\" ry=\"18.5\" stroke=\"#ff0000\"/>\n",
       "<text fill=\"#000000\" font-family=\"Times,serif\" font-size=\"8.00\" text-anchor=\"middle\" x=\"275.997\" y=\"-181.595\">9,1</text>\n",
       "</g>\n",
       "<!-- (9, 2) -->\n",
       "<g class=\"node\" id=\"node5\">\n",
       "<title>(9, 2)</title>\n",
       "<ellipse cx=\"275.997\" cy=\"-183.495\" fill=\"#fa8072\" rx=\"18.5\" ry=\"18.5\" stroke=\"#ff0000\"/>\n",
       "<text fill=\"#000000\" font-family=\"Times,serif\" font-size=\"8.00\" text-anchor=\"middle\" x=\"275.997\" y=\"-181.595\">9,2</text>\n",
       "</g>\n",
       "<!-- (10, 1) -->\n",
       "<g class=\"node\" id=\"node6\">\n",
       "<title>(10, 1)</title>\n",
       "<ellipse cx=\"21\" cy=\"-318.495\" fill=\"#fa8072\" rx=\"21\" ry=\"21\" stroke=\"#ff0000\"/>\n",
       "<text fill=\"#000000\" font-family=\"Times,serif\" font-size=\"8.00\" text-anchor=\"middle\" x=\"21\" y=\"-316.595\">10,1</text>\n",
       "</g>\n",
       "<!-- (10, 2) -->\n",
       "<g class=\"node\" id=\"node7\">\n",
       "<title>(10, 2)</title>\n",
       "<ellipse cx=\"21\" cy=\"-318.495\" fill=\"#fa8072\" rx=\"21\" ry=\"21\" stroke=\"#ff0000\"/>\n",
       "<text fill=\"#000000\" font-family=\"Times,serif\" font-size=\"8.00\" text-anchor=\"middle\" x=\"21\" y=\"-316.595\">10,2</text>\n",
       "</g>\n",
       "<!-- (10, 3) -->\n",
       "<g class=\"node\" id=\"node8\">\n",
       "<title>(10, 3)</title>\n",
       "<ellipse cx=\"21\" cy=\"-318.495\" fill=\"#fa8072\" rx=\"21\" ry=\"21\" stroke=\"#ff0000\"/>\n",
       "<text fill=\"#000000\" font-family=\"Times,serif\" font-size=\"8.00\" text-anchor=\"middle\" x=\"21\" y=\"-316.595\">10,3</text>\n",
       "</g>\n",
       "<!-- (11, 1) -->\n",
       "<g class=\"node\" id=\"node9\">\n",
       "<title>(11, 1)</title>\n",
       "<ellipse cx=\"395.997\" cy=\"-348.495\" fill=\"#fa8072\" rx=\"21\" ry=\"21\" stroke=\"#ff0000\"/>\n",
       "<text fill=\"#000000\" font-family=\"Times,serif\" font-size=\"8.00\" text-anchor=\"middle\" x=\"395.997\" y=\"-346.595\">11,1</text>\n",
       "</g>\n",
       "<!-- (11, 2) -->\n",
       "<g class=\"node\" id=\"node10\">\n",
       "<title>(11, 2)</title>\n",
       "<ellipse cx=\"395.997\" cy=\"-348.495\" fill=\"#fa8072\" rx=\"21\" ry=\"21\" stroke=\"#ff0000\"/>\n",
       "<text fill=\"#000000\" font-family=\"Times,serif\" font-size=\"8.00\" text-anchor=\"middle\" x=\"395.997\" y=\"-346.595\">11,2</text>\n",
       "</g>\n",
       "<!-- (1, 1) -->\n",
       "<g class=\"node\" id=\"node11\">\n",
       "<title>(1, 1)</title>\n",
       "<ellipse cx=\"305.997\" cy=\"-483.495\" fill=\"#9aff9a\" rx=\"18.5\" ry=\"18.5\" stroke=\"#00ff00\"/>\n",
       "<text fill=\"#000000\" font-family=\"Times,serif\" font-size=\"8.00\" text-anchor=\"middle\" x=\"305.997\" y=\"-481.595\">1,1</text>\n",
       "</g>\n",
       "<!-- (1, 2) -->\n",
       "<g class=\"node\" id=\"node12\">\n",
       "<title>(1, 2)</title>\n",
       "<ellipse cx=\"305.997\" cy=\"-483.495\" fill=\"#9aff9a\" rx=\"18.5\" ry=\"18.5\" stroke=\"#00ff00\"/>\n",
       "<text fill=\"#000000\" font-family=\"Times,serif\" font-size=\"8.00\" text-anchor=\"middle\" x=\"305.997\" y=\"-481.595\">1,2</text>\n",
       "</g>\n",
       "<!-- (2, 1) -->\n",
       "<g class=\"node\" id=\"node13\">\n",
       "<title>(2, 1)</title>\n",
       "<ellipse cx=\"575.997\" cy=\"-123.495\" fill=\"#9aff9a\" rx=\"18.5\" ry=\"18.5\" stroke=\"#00ff00\"/>\n",
       "<text fill=\"#000000\" font-family=\"Times,serif\" font-size=\"8.00\" text-anchor=\"middle\" x=\"575.997\" y=\"-121.595\">2,1</text>\n",
       "</g>\n",
       "<!-- (3, 1) -->\n",
       "<g class=\"node\" id=\"node14\">\n",
       "<title>(3, 1)</title>\n",
       "<ellipse cx=\"725.997\" cy=\"-168.495\" fill=\"#9aff9a\" rx=\"18.5\" ry=\"18.5\" stroke=\"#00ff00\"/>\n",
       "<text fill=\"#000000\" font-family=\"Times,serif\" font-size=\"8.00\" text-anchor=\"middle\" x=\"725.997\" y=\"-166.595\">3,1</text>\n",
       "</g>\n",
       "<!-- (4, 1) -->\n",
       "<g class=\"node\" id=\"node15\">\n",
       "<title>(4, 1)</title>\n",
       "<ellipse cx=\"66\" cy=\"-513.495\" fill=\"#9aff9a\" rx=\"18.5\" ry=\"18.5\" stroke=\"#00ff00\"/>\n",
       "<text fill=\"#000000\" font-family=\"Times,serif\" font-size=\"8.00\" text-anchor=\"middle\" x=\"66\" y=\"-511.595\">4,1</text>\n",
       "</g>\n",
       "<!-- (5, 1) -->\n",
       "<g class=\"node\" id=\"node16\">\n",
       "<title>(5, 1)</title>\n",
       "<ellipse cx=\"500.997\" cy=\"-18.5\" fill=\"#9aff9a\" rx=\"18.5\" ry=\"18.5\" stroke=\"#00ff00\"/>\n",
       "<text fill=\"#000000\" font-family=\"Times,serif\" font-size=\"8.00\" text-anchor=\"middle\" x=\"500.997\" y=\"-16.6\">5,1</text>\n",
       "</g>\n",
       "<!-- (6, 1) -->\n",
       "<g class=\"node\" id=\"node17\">\n",
       "<title>(6, 1)</title>\n",
       "<ellipse cx=\"230.997\" cy=\"-333.495\" fill=\"#9aff9a\" rx=\"18.5\" ry=\"18.5\" stroke=\"#00ff00\"/>\n",
       "<text fill=\"#000000\" font-family=\"Times,serif\" font-size=\"8.00\" text-anchor=\"middle\" x=\"230.997\" y=\"-331.595\">6,1</text>\n",
       "</g>\n",
       "<!-- (6, 2) -->\n",
       "<g class=\"node\" id=\"node18\">\n",
       "<title>(6, 2)</title>\n",
       "<ellipse cx=\"230.997\" cy=\"-333.495\" fill=\"#9aff9a\" rx=\"18.5\" ry=\"18.5\" stroke=\"#00ff00\"/>\n",
       "<text fill=\"#000000\" font-family=\"Times,serif\" font-size=\"8.00\" text-anchor=\"middle\" x=\"230.997\" y=\"-331.595\">6,2</text>\n",
       "</g>\n",
       "<!-- 0 -->\n",
       "<g class=\"node\" id=\"node19\">\n",
       "<title>0</title>\n",
       "<ellipse cx=\"440.997\" cy=\"-483.495\" fill=\"none\" rx=\"14\" ry=\"14\" stroke=\"#000000\"/>\n",
       "<text fill=\"#000000\" font-family=\"Times,serif\" font-size=\"8.00\" text-anchor=\"middle\" x=\"440.997\" y=\"-481.595\">0</text>\n",
       "</g>\n",
       "</g>\n",
       "</svg>"
      ],
      "text/plain": [
       "<IPython.core.display.SVG object>"
      ]
     },
     "metadata": {},
     "output_type": "display_data"
    }
   ],
   "source": [
    "draw_initial_graph(G, scale)\n",
    "display(SVG(filename=basename+'.svg'))"
   ]
  },
  {
   "cell_type": "code",
   "execution_count": 17,
   "metadata": {},
   "outputs": [
    {
     "data": {
      "text/html": [
       "<div>\n",
       "<style scoped>\n",
       "    .dataframe tbody tr th:only-of-type {\n",
       "        vertical-align: middle;\n",
       "    }\n",
       "\n",
       "    .dataframe tbody tr th {\n",
       "        vertical-align: top;\n",
       "    }\n",
       "\n",
       "    .dataframe thead th {\n",
       "        text-align: right;\n",
       "    }\n",
       "</style>\n",
       "<table border=\"1\" class=\"dataframe\">\n",
       "  <thead>\n",
       "    <tr style=\"text-align: right;\">\n",
       "      <th></th>\n",
       "      <th>label</th>\n",
       "      <th>load</th>\n",
       "      <th>station</th>\n",
       "      <th>x</th>\n",
       "      <th>y</th>\n",
       "    </tr>\n",
       "  </thead>\n",
       "  <tbody>\n",
       "    <tr>\n",
       "      <th>(7, 1)</th>\n",
       "      <td>7,1</td>\n",
       "      <td>-1</td>\n",
       "      <td>7.0</td>\n",
       "      <td>13</td>\n",
       "      <td>17</td>\n",
       "    </tr>\n",
       "    <tr>\n",
       "      <th>(8, 1)</th>\n",
       "      <td>8,1</td>\n",
       "      <td>-2</td>\n",
       "      <td>8.0</td>\n",
       "      <td>11</td>\n",
       "      <td>35</td>\n",
       "    </tr>\n",
       "    <tr>\n",
       "      <th>(8, 2)</th>\n",
       "      <td>8,2</td>\n",
       "      <td>-2</td>\n",
       "      <td>8.0</td>\n",
       "      <td>11</td>\n",
       "      <td>35</td>\n",
       "    </tr>\n",
       "    <tr>\n",
       "      <th>(9, 1)</th>\n",
       "      <td>9,1</td>\n",
       "      <td>-2</td>\n",
       "      <td>9.0</td>\n",
       "      <td>27</td>\n",
       "      <td>20</td>\n",
       "    </tr>\n",
       "    <tr>\n",
       "      <th>(9, 2)</th>\n",
       "      <td>9,2</td>\n",
       "      <td>-2</td>\n",
       "      <td>9.0</td>\n",
       "      <td>27</td>\n",
       "      <td>20</td>\n",
       "    </tr>\n",
       "    <tr>\n",
       "      <th>(10, 1)</th>\n",
       "      <td>10,1</td>\n",
       "      <td>-3</td>\n",
       "      <td>10.0</td>\n",
       "      <td>10</td>\n",
       "      <td>29</td>\n",
       "    </tr>\n",
       "    <tr>\n",
       "      <th>(10, 2)</th>\n",
       "      <td>10,2</td>\n",
       "      <td>-3</td>\n",
       "      <td>10.0</td>\n",
       "      <td>10</td>\n",
       "      <td>29</td>\n",
       "    </tr>\n",
       "    <tr>\n",
       "      <th>(10, 3)</th>\n",
       "      <td>10,3</td>\n",
       "      <td>-3</td>\n",
       "      <td>10.0</td>\n",
       "      <td>10</td>\n",
       "      <td>29</td>\n",
       "    </tr>\n",
       "    <tr>\n",
       "      <th>(11, 1)</th>\n",
       "      <td>11,1</td>\n",
       "      <td>-2</td>\n",
       "      <td>11.0</td>\n",
       "      <td>35</td>\n",
       "      <td>31</td>\n",
       "    </tr>\n",
       "    <tr>\n",
       "      <th>(11, 2)</th>\n",
       "      <td>11,2</td>\n",
       "      <td>-2</td>\n",
       "      <td>11.0</td>\n",
       "      <td>35</td>\n",
       "      <td>31</td>\n",
       "    </tr>\n",
       "    <tr>\n",
       "      <th>(1, 1)</th>\n",
       "      <td>1,1</td>\n",
       "      <td>2</td>\n",
       "      <td>1.0</td>\n",
       "      <td>29</td>\n",
       "      <td>40</td>\n",
       "    </tr>\n",
       "    <tr>\n",
       "      <th>(1, 2)</th>\n",
       "      <td>1,2</td>\n",
       "      <td>2</td>\n",
       "      <td>1.0</td>\n",
       "      <td>29</td>\n",
       "      <td>40</td>\n",
       "    </tr>\n",
       "    <tr>\n",
       "      <th>(2, 1)</th>\n",
       "      <td>2,1</td>\n",
       "      <td>1</td>\n",
       "      <td>2.0</td>\n",
       "      <td>47</td>\n",
       "      <td>16</td>\n",
       "    </tr>\n",
       "    <tr>\n",
       "      <th>(3, 1)</th>\n",
       "      <td>3,1</td>\n",
       "      <td>1</td>\n",
       "      <td>3.0</td>\n",
       "      <td>57</td>\n",
       "      <td>19</td>\n",
       "    </tr>\n",
       "    <tr>\n",
       "      <th>(4, 1)</th>\n",
       "      <td>4,1</td>\n",
       "      <td>1</td>\n",
       "      <td>4.0</td>\n",
       "      <td>13</td>\n",
       "      <td>42</td>\n",
       "    </tr>\n",
       "    <tr>\n",
       "      <th>(5, 1)</th>\n",
       "      <td>5,1</td>\n",
       "      <td>1</td>\n",
       "      <td>5.0</td>\n",
       "      <td>42</td>\n",
       "      <td>9</td>\n",
       "    </tr>\n",
       "    <tr>\n",
       "      <th>(6, 1)</th>\n",
       "      <td>6,1</td>\n",
       "      <td>2</td>\n",
       "      <td>6.0</td>\n",
       "      <td>24</td>\n",
       "      <td>30</td>\n",
       "    </tr>\n",
       "    <tr>\n",
       "      <th>(6, 2)</th>\n",
       "      <td>6,2</td>\n",
       "      <td>2</td>\n",
       "      <td>6.0</td>\n",
       "      <td>24</td>\n",
       "      <td>30</td>\n",
       "    </tr>\n",
       "    <tr>\n",
       "      <th>0</th>\n",
       "      <td>0</td>\n",
       "      <td>0</td>\n",
       "      <td>NaN</td>\n",
       "      <td>38</td>\n",
       "      <td>40</td>\n",
       "    </tr>\n",
       "  </tbody>\n",
       "</table>\n",
       "</div>"
      ],
      "text/plain": [
       "        label  load  station   x   y\n",
       "(7, 1)    7,1    -1      7.0  13  17\n",
       "(8, 1)    8,1    -2      8.0  11  35\n",
       "(8, 2)    8,2    -2      8.0  11  35\n",
       "(9, 1)    9,1    -2      9.0  27  20\n",
       "(9, 2)    9,2    -2      9.0  27  20\n",
       "(10, 1)  10,1    -3     10.0  10  29\n",
       "(10, 2)  10,2    -3     10.0  10  29\n",
       "(10, 3)  10,3    -3     10.0  10  29\n",
       "(11, 1)  11,1    -2     11.0  35  31\n",
       "(11, 2)  11,2    -2     11.0  35  31\n",
       "(1, 1)    1,1     2      1.0  29  40\n",
       "(1, 2)    1,2     2      1.0  29  40\n",
       "(2, 1)    2,1     1      2.0  47  16\n",
       "(3, 1)    3,1     1      3.0  57  19\n",
       "(4, 1)    4,1     1      4.0  13  42\n",
       "(5, 1)    5,1     1      5.0  42   9\n",
       "(6, 1)    6,1     2      6.0  24  30\n",
       "(6, 2)    6,2     2      6.0  24  30\n",
       "0           0     0      NaN  38  40"
      ]
     },
     "execution_count": 17,
     "metadata": {},
     "output_type": "execute_result"
    }
   ],
   "source": [
    "pd.DataFrame([i[1] for i in G.nodes(data=True)], index=G.nodes())"
   ]
  },
  {
   "cell_type": "code",
   "execution_count": 18,
   "metadata": {},
   "outputs": [],
   "source": [
    "edges = nx.to_pandas_edgelist(G)"
   ]
  },
  {
   "cell_type": "code",
   "execution_count": 19,
   "metadata": {},
   "outputs": [
    {
     "data": {
      "text/html": [
       "<div>\n",
       "<style scoped>\n",
       "    .dataframe tbody tr th:only-of-type {\n",
       "        vertical-align: middle;\n",
       "    }\n",
       "\n",
       "    .dataframe tbody tr th {\n",
       "        vertical-align: top;\n",
       "    }\n",
       "\n",
       "    .dataframe thead th {\n",
       "        text-align: right;\n",
       "    }\n",
       "</style>\n",
       "<table border=\"1\" class=\"dataframe\">\n",
       "  <thead>\n",
       "    <tr style=\"text-align: right;\">\n",
       "      <th></th>\n",
       "      <th>source</th>\n",
       "      <th>target</th>\n",
       "      <th>time</th>\n",
       "    </tr>\n",
       "  </thead>\n",
       "  <tbody>\n",
       "    <tr>\n",
       "      <th>0</th>\n",
       "      <td>(7, 1)</td>\n",
       "      <td>(1, 1)</td>\n",
       "      <td>2801</td>\n",
       "    </tr>\n",
       "    <tr>\n",
       "      <th>1</th>\n",
       "      <td>(7, 1)</td>\n",
       "      <td>(1, 2)</td>\n",
       "      <td>2801</td>\n",
       "    </tr>\n",
       "    <tr>\n",
       "      <th>2</th>\n",
       "      <td>(7, 1)</td>\n",
       "      <td>(2, 1)</td>\n",
       "      <td>3401</td>\n",
       "    </tr>\n",
       "    <tr>\n",
       "      <th>3</th>\n",
       "      <td>(7, 1)</td>\n",
       "      <td>(3, 1)</td>\n",
       "      <td>4404</td>\n",
       "    </tr>\n",
       "    <tr>\n",
       "      <th>4</th>\n",
       "      <td>(7, 1)</td>\n",
       "      <td>(4, 1)</td>\n",
       "      <td>2500</td>\n",
       "    </tr>\n",
       "    <tr>\n",
       "      <th>5</th>\n",
       "      <td>(7, 1)</td>\n",
       "      <td>(5, 1)</td>\n",
       "      <td>3008</td>\n",
       "    </tr>\n",
       "    <tr>\n",
       "      <th>6</th>\n",
       "      <td>(7, 1)</td>\n",
       "      <td>(6, 1)</td>\n",
       "      <td>1702</td>\n",
       "    </tr>\n",
       "    <tr>\n",
       "      <th>7</th>\n",
       "      <td>(7, 1)</td>\n",
       "      <td>(6, 2)</td>\n",
       "      <td>1702</td>\n",
       "    </tr>\n",
       "    <tr>\n",
       "      <th>8</th>\n",
       "      <td>(7, 1)</td>\n",
       "      <td>0</td>\n",
       "      <td>3397</td>\n",
       "    </tr>\n",
       "    <tr>\n",
       "      <th>9</th>\n",
       "      <td>(8, 1)</td>\n",
       "      <td>(1, 1)</td>\n",
       "      <td>1868</td>\n",
       "    </tr>\n",
       "    <tr>\n",
       "      <th>10</th>\n",
       "      <td>(8, 1)</td>\n",
       "      <td>(1, 2)</td>\n",
       "      <td>1868</td>\n",
       "    </tr>\n",
       "    <tr>\n",
       "      <th>11</th>\n",
       "      <td>(8, 1)</td>\n",
       "      <td>(2, 1)</td>\n",
       "      <td>4070</td>\n",
       "    </tr>\n",
       "    <tr>\n",
       "      <th>12</th>\n",
       "      <td>(8, 1)</td>\n",
       "      <td>(3, 1)</td>\n",
       "      <td>4870</td>\n",
       "    </tr>\n",
       "    <tr>\n",
       "      <th>13</th>\n",
       "      <td>(8, 1)</td>\n",
       "      <td>(4, 1)</td>\n",
       "      <td>728</td>\n",
       "    </tr>\n",
       "    <tr>\n",
       "      <th>14</th>\n",
       "      <td>(8, 1)</td>\n",
       "      <td>(5, 1)</td>\n",
       "      <td>4045</td>\n",
       "    </tr>\n",
       "    <tr>\n",
       "      <th>15</th>\n",
       "      <td>(8, 1)</td>\n",
       "      <td>(6, 1)</td>\n",
       "      <td>1392</td>\n",
       "    </tr>\n",
       "    <tr>\n",
       "      <th>16</th>\n",
       "      <td>(8, 1)</td>\n",
       "      <td>(6, 2)</td>\n",
       "      <td>1392</td>\n",
       "    </tr>\n",
       "    <tr>\n",
       "      <th>17</th>\n",
       "      <td>(8, 1)</td>\n",
       "      <td>0</td>\n",
       "      <td>2745</td>\n",
       "    </tr>\n",
       "    <tr>\n",
       "      <th>18</th>\n",
       "      <td>(8, 2)</td>\n",
       "      <td>(1, 1)</td>\n",
       "      <td>1868</td>\n",
       "    </tr>\n",
       "    <tr>\n",
       "      <th>19</th>\n",
       "      <td>(8, 2)</td>\n",
       "      <td>(1, 2)</td>\n",
       "      <td>1868</td>\n",
       "    </tr>\n",
       "    <tr>\n",
       "      <th>20</th>\n",
       "      <td>(8, 2)</td>\n",
       "      <td>(2, 1)</td>\n",
       "      <td>4070</td>\n",
       "    </tr>\n",
       "    <tr>\n",
       "      <th>21</th>\n",
       "      <td>(8, 2)</td>\n",
       "      <td>(3, 1)</td>\n",
       "      <td>4870</td>\n",
       "    </tr>\n",
       "    <tr>\n",
       "      <th>22</th>\n",
       "      <td>(8, 2)</td>\n",
       "      <td>(4, 1)</td>\n",
       "      <td>728</td>\n",
       "    </tr>\n",
       "    <tr>\n",
       "      <th>23</th>\n",
       "      <td>(8, 2)</td>\n",
       "      <td>(5, 1)</td>\n",
       "      <td>4045</td>\n",
       "    </tr>\n",
       "    <tr>\n",
       "      <th>24</th>\n",
       "      <td>(8, 2)</td>\n",
       "      <td>(6, 1)</td>\n",
       "      <td>1392</td>\n",
       "    </tr>\n",
       "    <tr>\n",
       "      <th>25</th>\n",
       "      <td>(8, 2)</td>\n",
       "      <td>(6, 2)</td>\n",
       "      <td>1392</td>\n",
       "    </tr>\n",
       "    <tr>\n",
       "      <th>26</th>\n",
       "      <td>(8, 2)</td>\n",
       "      <td>0</td>\n",
       "      <td>2745</td>\n",
       "    </tr>\n",
       "    <tr>\n",
       "      <th>27</th>\n",
       "      <td>(9, 1)</td>\n",
       "      <td>(1, 1)</td>\n",
       "      <td>2009</td>\n",
       "    </tr>\n",
       "    <tr>\n",
       "      <th>28</th>\n",
       "      <td>(9, 1)</td>\n",
       "      <td>(1, 2)</td>\n",
       "      <td>2009</td>\n",
       "    </tr>\n",
       "    <tr>\n",
       "      <th>29</th>\n",
       "      <td>(9, 1)</td>\n",
       "      <td>(2, 1)</td>\n",
       "      <td>2039</td>\n",
       "    </tr>\n",
       "    <tr>\n",
       "      <th>...</th>\n",
       "      <td>...</td>\n",
       "      <td>...</td>\n",
       "      <td>...</td>\n",
       "    </tr>\n",
       "    <tr>\n",
       "      <th>148</th>\n",
       "      <td>(5, 1)</td>\n",
       "      <td>(11, 1)</td>\n",
       "      <td>2308</td>\n",
       "    </tr>\n",
       "    <tr>\n",
       "      <th>149</th>\n",
       "      <td>(5, 1)</td>\n",
       "      <td>(11, 2)</td>\n",
       "      <td>2308</td>\n",
       "    </tr>\n",
       "    <tr>\n",
       "      <th>150</th>\n",
       "      <td>(6, 1)</td>\n",
       "      <td>(7, 1)</td>\n",
       "      <td>1702</td>\n",
       "    </tr>\n",
       "    <tr>\n",
       "      <th>151</th>\n",
       "      <td>(6, 1)</td>\n",
       "      <td>(8, 1)</td>\n",
       "      <td>1392</td>\n",
       "    </tr>\n",
       "    <tr>\n",
       "      <th>152</th>\n",
       "      <td>(6, 1)</td>\n",
       "      <td>(8, 2)</td>\n",
       "      <td>1392</td>\n",
       "    </tr>\n",
       "    <tr>\n",
       "      <th>153</th>\n",
       "      <td>(6, 1)</td>\n",
       "      <td>(9, 1)</td>\n",
       "      <td>1044</td>\n",
       "    </tr>\n",
       "    <tr>\n",
       "      <th>154</th>\n",
       "      <td>(6, 1)</td>\n",
       "      <td>(9, 2)</td>\n",
       "      <td>1044</td>\n",
       "    </tr>\n",
       "    <tr>\n",
       "      <th>155</th>\n",
       "      <td>(6, 1)</td>\n",
       "      <td>(10, 1)</td>\n",
       "      <td>1403</td>\n",
       "    </tr>\n",
       "    <tr>\n",
       "      <th>156</th>\n",
       "      <td>(6, 1)</td>\n",
       "      <td>(10, 2)</td>\n",
       "      <td>1403</td>\n",
       "    </tr>\n",
       "    <tr>\n",
       "      <th>157</th>\n",
       "      <td>(6, 1)</td>\n",
       "      <td>(10, 3)</td>\n",
       "      <td>1403</td>\n",
       "    </tr>\n",
       "    <tr>\n",
       "      <th>158</th>\n",
       "      <td>(6, 1)</td>\n",
       "      <td>(11, 1)</td>\n",
       "      <td>1104</td>\n",
       "    </tr>\n",
       "    <tr>\n",
       "      <th>159</th>\n",
       "      <td>(6, 1)</td>\n",
       "      <td>(11, 2)</td>\n",
       "      <td>1104</td>\n",
       "    </tr>\n",
       "    <tr>\n",
       "      <th>160</th>\n",
       "      <td>(6, 2)</td>\n",
       "      <td>(7, 1)</td>\n",
       "      <td>1702</td>\n",
       "    </tr>\n",
       "    <tr>\n",
       "      <th>161</th>\n",
       "      <td>(6, 2)</td>\n",
       "      <td>(8, 1)</td>\n",
       "      <td>1392</td>\n",
       "    </tr>\n",
       "    <tr>\n",
       "      <th>162</th>\n",
       "      <td>(6, 2)</td>\n",
       "      <td>(8, 2)</td>\n",
       "      <td>1392</td>\n",
       "    </tr>\n",
       "    <tr>\n",
       "      <th>163</th>\n",
       "      <td>(6, 2)</td>\n",
       "      <td>(9, 1)</td>\n",
       "      <td>1044</td>\n",
       "    </tr>\n",
       "    <tr>\n",
       "      <th>164</th>\n",
       "      <td>(6, 2)</td>\n",
       "      <td>(9, 2)</td>\n",
       "      <td>1044</td>\n",
       "    </tr>\n",
       "    <tr>\n",
       "      <th>165</th>\n",
       "      <td>(6, 2)</td>\n",
       "      <td>(10, 1)</td>\n",
       "      <td>1403</td>\n",
       "    </tr>\n",
       "    <tr>\n",
       "      <th>166</th>\n",
       "      <td>(6, 2)</td>\n",
       "      <td>(10, 2)</td>\n",
       "      <td>1403</td>\n",
       "    </tr>\n",
       "    <tr>\n",
       "      <th>167</th>\n",
       "      <td>(6, 2)</td>\n",
       "      <td>(10, 3)</td>\n",
       "      <td>1403</td>\n",
       "    </tr>\n",
       "    <tr>\n",
       "      <th>168</th>\n",
       "      <td>(6, 2)</td>\n",
       "      <td>(11, 1)</td>\n",
       "      <td>1104</td>\n",
       "    </tr>\n",
       "    <tr>\n",
       "      <th>169</th>\n",
       "      <td>(6, 2)</td>\n",
       "      <td>(11, 2)</td>\n",
       "      <td>1104</td>\n",
       "    </tr>\n",
       "    <tr>\n",
       "      <th>170</th>\n",
       "      <td>0</td>\n",
       "      <td>(1, 1)</td>\n",
       "      <td>900</td>\n",
       "    </tr>\n",
       "    <tr>\n",
       "      <th>171</th>\n",
       "      <td>0</td>\n",
       "      <td>(1, 2)</td>\n",
       "      <td>900</td>\n",
       "    </tr>\n",
       "    <tr>\n",
       "      <th>172</th>\n",
       "      <td>0</td>\n",
       "      <td>(2, 1)</td>\n",
       "      <td>2563</td>\n",
       "    </tr>\n",
       "    <tr>\n",
       "      <th>173</th>\n",
       "      <td>0</td>\n",
       "      <td>(3, 1)</td>\n",
       "      <td>2831</td>\n",
       "    </tr>\n",
       "    <tr>\n",
       "      <th>174</th>\n",
       "      <td>0</td>\n",
       "      <td>(4, 1)</td>\n",
       "      <td>2507</td>\n",
       "    </tr>\n",
       "    <tr>\n",
       "      <th>175</th>\n",
       "      <td>0</td>\n",
       "      <td>(5, 1)</td>\n",
       "      <td>3125</td>\n",
       "    </tr>\n",
       "    <tr>\n",
       "      <th>176</th>\n",
       "      <td>0</td>\n",
       "      <td>(6, 1)</td>\n",
       "      <td>1720</td>\n",
       "    </tr>\n",
       "    <tr>\n",
       "      <th>177</th>\n",
       "      <td>0</td>\n",
       "      <td>(6, 2)</td>\n",
       "      <td>1720</td>\n",
       "    </tr>\n",
       "  </tbody>\n",
       "</table>\n",
       "<p>178 rows × 3 columns</p>\n",
       "</div>"
      ],
      "text/plain": [
       "     source   target  time\n",
       "0    (7, 1)   (1, 1)  2801\n",
       "1    (7, 1)   (1, 2)  2801\n",
       "2    (7, 1)   (2, 1)  3401\n",
       "3    (7, 1)   (3, 1)  4404\n",
       "4    (7, 1)   (4, 1)  2500\n",
       "5    (7, 1)   (5, 1)  3008\n",
       "6    (7, 1)   (6, 1)  1702\n",
       "7    (7, 1)   (6, 2)  1702\n",
       "8    (7, 1)        0  3397\n",
       "9    (8, 1)   (1, 1)  1868\n",
       "10   (8, 1)   (1, 2)  1868\n",
       "11   (8, 1)   (2, 1)  4070\n",
       "12   (8, 1)   (3, 1)  4870\n",
       "13   (8, 1)   (4, 1)   728\n",
       "14   (8, 1)   (5, 1)  4045\n",
       "15   (8, 1)   (6, 1)  1392\n",
       "16   (8, 1)   (6, 2)  1392\n",
       "17   (8, 1)        0  2745\n",
       "18   (8, 2)   (1, 1)  1868\n",
       "19   (8, 2)   (1, 2)  1868\n",
       "20   (8, 2)   (2, 1)  4070\n",
       "21   (8, 2)   (3, 1)  4870\n",
       "22   (8, 2)   (4, 1)   728\n",
       "23   (8, 2)   (5, 1)  4045\n",
       "24   (8, 2)   (6, 1)  1392\n",
       "25   (8, 2)   (6, 2)  1392\n",
       "26   (8, 2)        0  2745\n",
       "27   (9, 1)   (1, 1)  2009\n",
       "28   (9, 1)   (1, 2)  2009\n",
       "29   (9, 1)   (2, 1)  2039\n",
       "..      ...      ...   ...\n",
       "148  (5, 1)  (11, 1)  2308\n",
       "149  (5, 1)  (11, 2)  2308\n",
       "150  (6, 1)   (7, 1)  1702\n",
       "151  (6, 1)   (8, 1)  1392\n",
       "152  (6, 1)   (8, 2)  1392\n",
       "153  (6, 1)   (9, 1)  1044\n",
       "154  (6, 1)   (9, 2)  1044\n",
       "155  (6, 1)  (10, 1)  1403\n",
       "156  (6, 1)  (10, 2)  1403\n",
       "157  (6, 1)  (10, 3)  1403\n",
       "158  (6, 1)  (11, 1)  1104\n",
       "159  (6, 1)  (11, 2)  1104\n",
       "160  (6, 2)   (7, 1)  1702\n",
       "161  (6, 2)   (8, 1)  1392\n",
       "162  (6, 2)   (8, 2)  1392\n",
       "163  (6, 2)   (9, 1)  1044\n",
       "164  (6, 2)   (9, 2)  1044\n",
       "165  (6, 2)  (10, 1)  1403\n",
       "166  (6, 2)  (10, 2)  1403\n",
       "167  (6, 2)  (10, 3)  1403\n",
       "168  (6, 2)  (11, 1)  1104\n",
       "169  (6, 2)  (11, 2)  1104\n",
       "170       0   (1, 1)   900\n",
       "171       0   (1, 2)   900\n",
       "172       0   (2, 1)  2563\n",
       "173       0   (3, 1)  2831\n",
       "174       0   (4, 1)  2507\n",
       "175       0   (5, 1)  3125\n",
       "176       0   (6, 1)  1720\n",
       "177       0   (6, 2)  1720\n",
       "\n",
       "[178 rows x 3 columns]"
      ]
     },
     "execution_count": 19,
     "metadata": {},
     "output_type": "execute_result"
    }
   ],
   "source": [
    "edges"
   ]
  },
  {
   "cell_type": "code",
   "execution_count": 20,
   "metadata": {},
   "outputs": [
    {
     "name": "stdout",
     "output_type": "stream",
     "text": [
      "Maximum distance time between nodes: 4870\n"
     ]
    }
   ],
   "source": [
    "print(\"Maximum distance time between nodes:\",edges['time'].max())"
   ]
  },
  {
   "cell_type": "markdown",
   "metadata": {},
   "source": [
    "### Model implementation"
   ]
  },
  {
   "cell_type": "code",
   "execution_count": 21,
   "metadata": {},
   "outputs": [],
   "source": [
    "L = [i for i in range(1,5)] #4 vehicles\n",
    "t_budget = 7000         #time budget\n",
    "start_depot = '0'\n",
    "end_depot = '0'\n",
    "stations = [1,2,3,4,5,6,7,8,9,10,11]"
   ]
  },
  {
   "cell_type": "code",
   "execution_count": 22,
   "metadata": {},
   "outputs": [],
   "source": [
    "v_pick = [i for i in G.nodes() if G.node[i]['load'] > 0] # pickup nodes\n",
    "v_del = [i for i in G.nodes() if G.node[i]['load'] < 0] # delivery nodes\n",
    "station_visits = G.nodes()-{start_depot, end_depot} # V set"
   ]
  },
  {
   "cell_type": "code",
   "execution_count": 23,
   "metadata": {},
   "outputs": [
    {
     "name": "stdout",
     "output_type": "stream",
     "text": [
      "Academic license - for non-commercial use only\n"
     ]
    }
   ],
   "source": [
    "mod = gb.Model()"
   ]
  },
  {
   "cell_type": "code",
   "execution_count": 24,
   "metadata": {},
   "outputs": [
    {
     "name": "stdout",
     "output_type": "stream",
     "text": [
      "Warning: variable name \"x[(8, 1),1]\" has a space\n",
      "Warning: to let Gurobi read it back, use rlp format\n"
     ]
    }
   ],
   "source": [
    "x = mod.addVars(station_visits, L, obj=1, vtype=gb.GRB.BINARY, name='x')\n",
    "\n",
    "y = mod.addVars(G.edges(), L, vtype=gb.GRB.BINARY, name='y')\n",
    "\n",
    "a = mod.addVars(G.nodes(), lb=1.0, ub=len(station_visits), vtype=gb.GRB.CONTINUOUS, name='a')\n",
    "\n",
    "mod.ModelSense = gb.GRB.MAXIMIZE\n",
    "mod.write('model3.lp')"
   ]
  },
  {
   "cell_type": "markdown",
   "metadata": {},
   "source": [
    ">#### Constr 1\n",
    ">\n",
    ">Every station visit is performed by at most one vehicle"
   ]
  },
  {
   "cell_type": "code",
   "execution_count": 25,
   "metadata": {},
   "outputs": [
    {
     "name": "stdout",
     "output_type": "stream",
     "text": [
      "Warning: variable name \"x[(8, 1),1]\" has a space\n",
      "Warning: constraint name \"CSTR1[(8, 1)]\" has a space\n",
      "Warning: to let Gurobi read it back, use rlp format\n"
     ]
    }
   ],
   "source": [
    "mod.addConstrs((x.sum(v, '*') <= 1 for v in station_visits), name='CSTR1')\n",
    "mod.update()\n",
    "mod.write('model3.lp')"
   ]
  },
  {
   "cell_type": "markdown",
   "metadata": {},
   "source": [
    ">#### Constr 2\n",
    ">Every tour contains the same amount of pickup visits as delivery visits"
   ]
  },
  {
   "cell_type": "code",
   "execution_count": 26,
   "metadata": {},
   "outputs": [
    {
     "name": "stdout",
     "output_type": "stream",
     "text": [
      "Warning: variable name \"x[(8, 1),1]\" has a space\n",
      "Warning: constraint name \"CSTR1[(8, 1)]\" has a space\n",
      "Warning: to let Gurobi read it back, use rlp format\n"
     ]
    }
   ],
   "source": [
    "for l in L:\n",
    "    mod.addConstr(gb.quicksum([x[v,l] for v in v_pick]) == gb.quicksum([x[v,l] for v in v_del]), name='CSTR2_%s'%l)\n",
    "    mod.update()\n",
    "mod.write('model3.lp')"
   ]
  },
  {
   "cell_type": "markdown",
   "metadata": {},
   "source": [
    ">#### Constr 3\n",
    ">The $i + 1$ th visit can only be performed when the $i$ th visit is performed, for $i = 1, . . . , f_s − 1$ and each station $s \\in S$."
   ]
  },
  {
   "cell_type": "code",
   "execution_count": 27,
   "metadata": {},
   "outputs": [
    {
     "name": "stdout",
     "output_type": "stream",
     "text": [
      "Warning: variable name \"x[(8, 1),1]\" has a space\n",
      "Warning: constraint name \"CSTR1[(8, 1)]\" has a space\n",
      "Warning: to let Gurobi read it back, use rlp format\n"
     ]
    }
   ],
   "source": [
    "for s in stations:\n",
    "    for l in L:\n",
    "        for i in range(1, abs(G.node[str((s, 1))]['load'])):\n",
    "            mod.addConstr(x.sum(str((s, i)), '*') >= x[str((s, i+1)), l], name='CSTR3_(%s,%s)_%s' % (s,i,l))\n",
    "            mod.update()\n",
    "mod.write('model3.lp')"
   ]
  },
  {
   "cell_type": "markdown",
   "metadata": {},
   "source": [
    ">#### Constr 4\n",
    ">For each vehicle the depot’s starting node $0$ has to have one outgoing arc"
   ]
  },
  {
   "cell_type": "code",
   "execution_count": 28,
   "metadata": {
    "scrolled": true
   },
   "outputs": [
    {
     "name": "stdout",
     "output_type": "stream",
     "text": [
      "Warning: variable name \"x[(8, 1),1]\" has a space\n",
      "Warning: constraint name \"CSTR1[(8, 1)]\" has a space\n",
      "Warning: to let Gurobi read it back, use rlp format\n"
     ]
    }
   ],
   "source": [
    "for l in L:\n",
    "    mod.addConstr(y.sum(start_depot, v_pick, l) == 1, name='CSTR4_%s'%l)\n",
    "    mod.update()\n",
    "mod.write('model3.lp')"
   ]
  },
  {
   "cell_type": "markdown",
   "metadata": {},
   "source": [
    ">#### Constr 5\n",
    ">For each vehicle the depot’s target node $0$ has to have one incoming arc"
   ]
  },
  {
   "cell_type": "code",
   "execution_count": 29,
   "metadata": {
    "scrolled": true
   },
   "outputs": [
    {
     "name": "stdout",
     "output_type": "stream",
     "text": [
      "Warning: variable name \"x[(8, 1),1]\" has a space\n",
      "Warning: constraint name \"CSTR1[(8, 1)]\" has a space\n",
      "Warning: to let Gurobi read it back, use rlp format\n"
     ]
    }
   ],
   "source": [
    "for l in L:\n",
    "    mod.addConstr(y.sum(v_del,end_depot, l) == 1, name='CSTR5_%s'%l)\n",
    "    mod.update()\n",
    "mod.write('model3.lp')"
   ]
  },
  {
   "cell_type": "markdown",
   "metadata": {},
   "source": [
    ">#### Constr 6\n",
    ">Every node $u \\in V$ has one outgoing arc iff it is assigned to vehicle $l$."
   ]
  },
  {
   "cell_type": "code",
   "execution_count": 30,
   "metadata": {},
   "outputs": [
    {
     "name": "stdout",
     "output_type": "stream",
     "text": [
      "Warning: variable name \"x[(8, 1),1]\" has a space\n",
      "Warning: constraint name \"CSTR1[(8, 1)]\" has a space\n",
      "Warning: to let Gurobi read it back, use rlp format\n"
     ]
    }
   ],
   "source": [
    "for l in L:\n",
    "    for u in station_visits:\n",
    "        mod.addConstr(y.sum(u, '*', l) == x[u, l], name='CSTR6_(%s)_%s'%(u,l))\n",
    "        mod.update()\n",
    "mod.write('model3.lp')"
   ]
  },
  {
   "cell_type": "markdown",
   "metadata": {},
   "source": [
    ">#### Constr 7\n",
    ">Each node $v \\in V$ which is assigned to vehicle $l \\in L$ has to have one corresponding ingoing arc."
   ]
  },
  {
   "cell_type": "code",
   "execution_count": 31,
   "metadata": {},
   "outputs": [
    {
     "name": "stdout",
     "output_type": "stream",
     "text": [
      "Warning: variable name \"x[(8, 1),1]\" has a space\n",
      "Warning: constraint name \"CSTR1[(8, 1)]\" has a space\n",
      "Warning: to let Gurobi read it back, use rlp format\n"
     ]
    }
   ],
   "source": [
    "for l in L:\n",
    "    for v in station_visits:\n",
    "        mod.addConstr(y.sum('*', v, l) == x[v, l], name='CSTR7_(%s)_%s'%(v,l))\n",
    "        mod.update()\n",
    "mod.write('model3.lp')"
   ]
  },
  {
   "cell_type": "markdown",
   "metadata": {},
   "source": [
    ">#### Constr 8\n",
    ">The number of ingoing arcs has to be equal to the number of outgoing arcs foreach node $v \\in V,\\; l \\in L$"
   ]
  },
  {
   "cell_type": "code",
   "execution_count": 32,
   "metadata": {},
   "outputs": [
    {
     "name": "stdout",
     "output_type": "stream",
     "text": [
      "Warning: variable name \"x[(8, 1),1]\" has a space\n",
      "Warning: constraint name \"CSTR1[(8, 1)]\" has a space\n",
      "Warning: to let Gurobi read it back, use rlp format\n"
     ]
    }
   ],
   "source": [
    "for l in L:\n",
    "    for v in station_visits:\n",
    "        mod.addConstr(\n",
    "            y.sum('*', v, l) == y.sum(v, '*', l),\n",
    "            name = 'CSTR8_%s_%s'%(l,v))\n",
    "        mod.update()\n",
    "mod.write('model3.lp')"
   ]
  },
  {
   "cell_type": "markdown",
   "metadata": {},
   "source": [
    ">#### Constr 9\n",
    ">The routes for each vehicle has to lie within the allowed time budget."
   ]
  },
  {
   "cell_type": "code",
   "execution_count": 33,
   "metadata": {},
   "outputs": [],
   "source": [
    "t = nx.get_edge_attributes(G,'time')"
   ]
  },
  {
   "cell_type": "code",
   "execution_count": 34,
   "metadata": {},
   "outputs": [
    {
     "name": "stdout",
     "output_type": "stream",
     "text": [
      "Warning: variable name \"x[(8, 1),1]\" has a space\n",
      "Warning: constraint name \"CSTR1[(8, 1)]\" has a space\n",
      "Warning: to let Gurobi read it back, use rlp format\n"
     ]
    }
   ],
   "source": [
    "mod.addConstrs((gb.quicksum([t[u, v] * y[u, v, l] for u, v in G.edges()]) <= t_budget for l in L), name = 'CSTR9')\n",
    "mod.update()\n",
    "mod.write('model3.lp')"
   ]
  },
  {
   "cell_type": "markdown",
   "metadata": {},
   "source": [
    ">#### Constr 10\n",
    ">MTZ subtour inequalities"
   ]
  },
  {
   "cell_type": "code",
   "execution_count": 35,
   "metadata": {},
   "outputs": [
    {
     "name": "stdout",
     "output_type": "stream",
     "text": [
      "Warning: variable name \"x[(8, 1),1]\" has a space\n",
      "Warning: constraint name \"CSTR1[(8, 1)]\" has a space\n",
      "Warning: to let Gurobi read it back, use rlp format\n"
     ]
    }
   ],
   "source": [
    "a[start_depot].lb = 1\n",
    "a[start_depot].ub = 1\n",
    "\n",
    "for l in L:\n",
    "    for u, v in G.edges():\n",
    "        if u != start_depot and u != end_depot and v != start_depot and v != end_depot: \n",
    "            mod.addConstr(\n",
    "            a[u] - a[v] + len(station_visits) * y[u, v, l] <= len(station_visits) - 1, \n",
    "                name='CSTR10_(%s,%s)%s'%(u,v,l))\n",
    "            mod.update()\n",
    "mod.write('model3.lp')"
   ]
  },
  {
   "cell_type": "code",
   "execution_count": 36,
   "metadata": {
    "scrolled": false
   },
   "outputs": [
    {
     "name": "stdout",
     "output_type": "stream",
     "text": [
      "Optimize a model with 918 rows, 803 columns and 5836 nonzeros\n",
      "Variable types: 19 continuous, 784 integer (784 binary)\n",
      "Coefficient statistics:\n",
      "  Matrix range     [1e+00, 5e+03]\n",
      "  Objective range  [1e+00, 1e+00]\n",
      "  Bounds range     [1e+00, 2e+01]\n",
      "  RHS range        [1e+00, 7e+03]\n",
      "Found heuristic solution: objective 8.0000000\n",
      "Presolve removed 180 rows and 177 columns\n",
      "Presolve time: 0.05s\n",
      "Presolved: 738 rows, 626 columns, 4360 nonzeros\n",
      "Variable types: 18 continuous, 608 integer (608 binary)\n",
      "\n",
      "Root relaxation: objective 1.448788e+01, 492 iterations, 0.02 seconds\n",
      "\n",
      "    Nodes    |    Current Node    |     Objective Bounds      |     Work\n",
      " Expl Unexpl |  Obj  Depth IntInf | Incumbent    BestBd   Gap | It/Node Time\n",
      "\n",
      "     0     0   14.48788    0   53    8.00000   14.48788  81.1%     -    0s\n",
      "     0     0   14.48788    0   73    8.00000   14.48788  81.1%     -    0s\n",
      "H    0     0                      10.0000000   14.48788  44.9%     -    0s\n",
      "     0     0   14.00000    0   80   10.00000   14.00000  40.0%     -    0s\n",
      "     0     0   14.00000    0   24   10.00000   14.00000  40.0%     -    0s\n",
      "     0     0   14.00000    0   20   10.00000   14.00000  40.0%     -    0s\n",
      "     0     0   14.00000    0   75   10.00000   14.00000  40.0%     -    0s\n",
      "     0     0   14.00000    0   69   10.00000   14.00000  40.0%     -    0s\n",
      "     0     0   14.00000    0   61   10.00000   14.00000  40.0%     -    0s\n",
      "     0     0   14.00000    0   55   10.00000   14.00000  40.0%     -    0s\n",
      "     0     2   14.00000    0   55   10.00000   14.00000  40.0%     -    0s\n",
      "H   36    20                      12.0000000   14.00000  16.7%  40.1    0s\n",
      "\n",
      "Cutting planes:\n",
      "  Learned: 17\n",
      "  Gomory: 3\n",
      "  Cover: 68\n",
      "  Implied bound: 54\n",
      "  Clique: 2\n",
      "  MIR: 32\n",
      "  StrongCG: 6\n",
      "  GUB cover: 2\n",
      "  Inf proof: 4\n",
      "\n",
      "Explored 1131 nodes (26668 simplex iterations) in 1.40 seconds\n",
      "Thread count was 4 (of 4 available processors)\n",
      "\n",
      "Solution count 3: 12 10 8 \n",
      "\n",
      "Optimal solution found (tolerance 1.00e-04)\n",
      "Best objective 1.200000000000e+01, best bound 1.200000000000e+01, gap 0.0000%\n",
      "CPU times: user 2.31 s, sys: 103 ms, total: 2.41 s\n",
      "Wall time: 1.4 s\n"
     ]
    }
   ],
   "source": [
    "%time mod.optimize()"
   ]
  },
  {
   "cell_type": "code",
   "execution_count": 37,
   "metadata": {},
   "outputs": [],
   "source": [
    "scale = 20\n",
    "draw_solution(G, x, y, L, scale)"
   ]
  },
  {
   "cell_type": "code",
   "execution_count": 38,
   "metadata": {
    "scrolled": false
   },
   "outputs": [
    {
     "data": {
      "image/svg+xml": [
       "<svg height=\"576pt\" viewBox=\"0.00 0.00 1019.00 576.00\" width=\"1019pt\" xmlns=\"http://www.w3.org/2000/svg\" xmlns:xlink=\"http://www.w3.org/1999/xlink\">\n",
       "<g class=\"graph\" id=\"graph0\" transform=\"scale(1 1) rotate(0) translate(4 571.998)\">\n",
       "<title>%3</title>\n",
       "<polygon fill=\"#ffffff\" points=\"-4,4 -4,-571.998 1015,-571.998 1015,4 -4,4\" stroke=\"transparent\"/>\n",
       "<!-- 0 -->\n",
       "<g class=\"node\" id=\"node1\">\n",
       "<title>0</title>\n",
       "<ellipse cx=\"587\" cy=\"-503.998\" fill=\"none\" rx=\"14\" ry=\"14\" stroke=\"#000000\"/>\n",
       "<text fill=\"#000000\" font-family=\"Times,serif\" font-size=\"8.00\" text-anchor=\"middle\" x=\"587\" y=\"-502.098\">0</text>\n",
       "</g>\n",
       "<!-- (1, 2) -->\n",
       "<g class=\"node\" id=\"node2\">\n",
       "<title>(1, 2)</title>\n",
       "<ellipse cx=\"987\" cy=\"-503.998\" fill=\"#9aff9a\" rx=\"24\" ry=\"24\" stroke=\"#00ff00\"/>\n",
       "<text fill=\"#000000\" font-family=\"Times,serif\" font-size=\"8.00\" text-anchor=\"middle\" x=\"987\" y=\"-502.098\">1,2_1</text>\n",
       "</g>\n",
       "<!-- 0&#45;&gt;(1, 2) -->\n",
       "<g class=\"edge\" id=\"edge1\">\n",
       "<title>0-&gt;(1, 2)</title>\n",
       "<path d=\"M601.24,-503.998C657.97,-503.998 868.89,-503.998 952.52,-503.998\" fill=\"none\" stroke=\"#ff0000\"/>\n",
       "<polygon fill=\"#ff0000\" points=\"952.76,-507.4981 962.76,-503.998 952.76,-500.4981 952.76,-507.4981\" stroke=\"#ff0000\"/>\n",
       "<text fill=\"#ff0000\" font-family=\"Times,serif\" font-size=\"8.00\" text-anchor=\"middle\" x=\"774.88\" y=\"-506.598\">1</text>\n",
       "</g>\n",
       "<!-- (2, 1) -->\n",
       "<g class=\"node\" id=\"node3\">\n",
       "<title>(2, 1)</title>\n",
       "<ellipse cx=\"767\" cy=\"-24\" fill=\"#9aff9a\" rx=\"24\" ry=\"24\" stroke=\"#00ff00\"/>\n",
       "<text fill=\"#000000\" font-family=\"Times,serif\" font-size=\"8.00\" text-anchor=\"middle\" x=\"767\" y=\"-22.1\">2,1_2</text>\n",
       "</g>\n",
       "<!-- 0&#45;&gt;(2, 1) -->\n",
       "<g class=\"edge\" id=\"edge2\">\n",
       "<title>0-&gt;(2, 1)</title>\n",
       "<path d=\"M592,-490.658C615.97,-426.748 719.37,-151.018 754.93,-56.185\" fill=\"none\" stroke=\"#0000ff\"/>\n",
       "<polygon fill=\"#0000ff\" points=\"758.306,-57.1503 758.54,-46.558 751.7516,-54.6924 758.306,-57.1503\" stroke=\"#0000ff\"/>\n",
       "<text fill=\"#0000ff\" font-family=\"Times,serif\" font-size=\"8.00\" text-anchor=\"middle\" x=\"671.47\" y=\"-276.018\">2</text>\n",
       "</g>\n",
       "<!-- (6, 1) -->\n",
       "<g class=\"node\" id=\"node4\">\n",
       "<title>(6, 1)</title>\n",
       "<ellipse cx=\"307\" cy=\"-303.998\" fill=\"#9aff9a\" rx=\"24\" ry=\"24\" stroke=\"#00ff00\"/>\n",
       "<text fill=\"#000000\" font-family=\"Times,serif\" font-size=\"8.00\" text-anchor=\"middle\" x=\"307\" y=\"-302.098\">6,1_3</text>\n",
       "</g>\n",
       "<!-- 0&#45;&gt;(6, 1) -->\n",
       "<g class=\"edge\" id=\"edge3\">\n",
       "<title>0-&gt;(6, 1)</title>\n",
       "<path d=\"M575.33,-495.658C534.19,-466.278 395.22,-367.018 335.1,-324.078\" fill=\"none\" stroke=\"#00ff00\"/>\n",
       "<polygon fill=\"#00ff00\" points=\"336.9986,-321.1328 326.83,-318.158 332.9241,-326.8248 336.9986,-321.1328\" stroke=\"#00ff00\"/>\n",
       "<text fill=\"#00ff00\" font-family=\"Times,serif\" font-size=\"8.00\" text-anchor=\"middle\" x=\"453.22\" y=\"-412.468\">3</text>\n",
       "</g>\n",
       "<!-- (1, 1) -->\n",
       "<g class=\"node\" id=\"node5\">\n",
       "<title>(1, 1)</title>\n",
       "<ellipse cx=\"407\" cy=\"-503.998\" fill=\"#9aff9a\" rx=\"24\" ry=\"24\" stroke=\"#00ff00\"/>\n",
       "<text fill=\"#000000\" font-family=\"Times,serif\" font-size=\"8.00\" text-anchor=\"middle\" x=\"407\" y=\"-502.098\">1,1_4</text>\n",
       "</g>\n",
       "<!-- 0&#45;&gt;(1, 1) -->\n",
       "<g class=\"edge\" id=\"edge4\">\n",
       "<title>0-&gt;(1, 1)</title>\n",
       "<path d=\"M572.57,-503.998C544.32,-503.998 480.98,-503.998 441.34,-503.998\" fill=\"none\" stroke=\"#cd8500\"/>\n",
       "<polygon fill=\"#cd8500\" points=\"441.33,-500.4981 431.33,-503.998 441.33,-507.4981 441.33,-500.4981\" stroke=\"#cd8500\"/>\n",
       "<text fill=\"#cd8500\" font-family=\"Times,serif\" font-size=\"8.00\" text-anchor=\"middle\" x=\"504.96\" y=\"-506.598\">4</text>\n",
       "</g>\n",
       "<!-- (10, 1) -->\n",
       "<g class=\"node\" id=\"node6\">\n",
       "<title>(10, 1)</title>\n",
       "<ellipse cx=\"27\" cy=\"-283.998\" fill=\"#fa8072\" rx=\"27\" ry=\"27\" stroke=\"#ff0000\"/>\n",
       "<text fill=\"#000000\" font-family=\"Times,serif\" font-size=\"8.00\" text-anchor=\"middle\" x=\"27\" y=\"-282.098\">10,1_1</text>\n",
       "</g>\n",
       "<!-- (1, 2)&#45;&gt;(10, 1) -->\n",
       "<g class=\"edge\" id=\"edge5\">\n",
       "<title>(1, 2)-&gt;(10, 1)</title>\n",
       "<path d=\"M963.27,-498.558C834.56,-469.068 220.29,-328.298 63.498,-292.368\" fill=\"none\" stroke=\"#ff0000\"/>\n",
       "<polygon fill=\"#ff0000\" points=\"63.9554,-288.8821 53.426,-290.058 62.3905,-295.705 63.9554,-288.8821\" stroke=\"#ff0000\"/>\n",
       "<text fill=\"#ff0000\" font-family=\"Times,serif\" font-size=\"8.00\" text-anchor=\"middle\" x=\"511.38\" y=\"-398.058\">1</text>\n",
       "</g>\n",
       "<!-- (9, 1) -->\n",
       "<g class=\"node\" id=\"node7\">\n",
       "<title>(9, 1)</title>\n",
       "<ellipse cx=\"367\" cy=\"-103.998\" fill=\"#fa8072\" rx=\"24\" ry=\"24\" stroke=\"#ff0000\"/>\n",
       "<text fill=\"#000000\" font-family=\"Times,serif\" font-size=\"8.00\" text-anchor=\"middle\" x=\"367\" y=\"-102.098\">9,1_2</text>\n",
       "</g>\n",
       "<!-- (2, 1)&#45;&gt;(9, 1) -->\n",
       "<g class=\"edge\" id=\"edge6\">\n",
       "<title>(2, 1)-&gt;(9, 1)</title>\n",
       "<path d=\"M743.18,-28.764C675.09,-42.382 479.5,-81.5 400.6,-97.28\" fill=\"none\" stroke=\"#0000ff\"/>\n",
       "<polygon fill=\"#0000ff\" points=\"399.8194,-93.8667 390.7,-99.26 401.1922,-100.7308 399.8194,-93.8667\" stroke=\"#0000ff\"/>\n",
       "<text fill=\"#0000ff\" font-family=\"Times,serif\" font-size=\"8.00\" text-anchor=\"middle\" x=\"569.89\" y=\"-65.622\">2</text>\n",
       "</g>\n",
       "<!-- (10, 2) -->\n",
       "<g class=\"node\" id=\"node8\">\n",
       "<title>(10, 2)</title>\n",
       "<ellipse cx=\"227\" cy=\"-283.998\" fill=\"#fa8072\" rx=\"27\" ry=\"27\" stroke=\"#ff0000\"/>\n",
       "<text fill=\"#000000\" font-family=\"Times,serif\" font-size=\"8.00\" text-anchor=\"middle\" x=\"227\" y=\"-282.098\">10,2_3</text>\n",
       "</g>\n",
       "<!-- (6, 1)&#45;&gt;(10, 2) -->\n",
       "<g class=\"edge\" id=\"edge7\">\n",
       "<title>(6, 1)-&gt;(10, 2)</title>\n",
       "<path d=\"M283.43,-298.108C277.05,-296.508 270,-294.748 263.1,-293.028\" fill=\"none\" stroke=\"#00ff00\"/>\n",
       "<polygon fill=\"#00ff00\" points=\"263.7508,-289.5829 253.2,-290.548 262.0498,-296.3731 263.7508,-289.5829\" stroke=\"#00ff00\"/>\n",
       "<text fill=\"#00ff00\" font-family=\"Times,serif\" font-size=\"8.00\" text-anchor=\"middle\" x=\"271.26\" y=\"-298.168\">3</text>\n",
       "</g>\n",
       "<!-- (8, 1) -->\n",
       "<g class=\"node\" id=\"node9\">\n",
       "<title>(8, 1)</title>\n",
       "<ellipse cx=\"47\" cy=\"-403.998\" fill=\"#fa8072\" rx=\"24\" ry=\"24\" stroke=\"#ff0000\"/>\n",
       "<text fill=\"#000000\" font-family=\"Times,serif\" font-size=\"8.00\" text-anchor=\"middle\" x=\"47\" y=\"-402.098\">8,1_4</text>\n",
       "</g>\n",
       "<!-- (1, 1)&#45;&gt;(8, 1) -->\n",
       "<g class=\"edge\" id=\"edge8\">\n",
       "<title>(1, 1)-&gt;(8, 1)</title>\n",
       "<path d=\"M383.66,-497.518C321.58,-480.268 152.27,-433.238 80.194,-413.218\" fill=\"none\" stroke=\"#cd8500\"/>\n",
       "<polygon fill=\"#cd8500\" points=\"80.8619,-409.7711 70.29,-410.468 78.989,-416.5159 80.8619,-409.7711\" stroke=\"#cd8500\"/>\n",
       "<text fill=\"#cd8500\" font-family=\"Times,serif\" font-size=\"8.00\" text-anchor=\"middle\" x=\"229.93\" y=\"-457.968\">4</text>\n",
       "</g>\n",
       "<!-- (6, 2) -->\n",
       "<g class=\"node\" id=\"node10\">\n",
       "<title>(6, 2)</title>\n",
       "<ellipse cx=\"787\" cy=\"-303.998\" fill=\"#9aff9a\" rx=\"24\" ry=\"24\" stroke=\"#00ff00\"/>\n",
       "<text fill=\"#000000\" font-family=\"Times,serif\" font-size=\"8.00\" text-anchor=\"middle\" x=\"787\" y=\"-302.098\">6,2_1</text>\n",
       "</g>\n",
       "<!-- (10, 1)&#45;&gt;(6, 2) -->\n",
       "<g class=\"edge\" id=\"edge9\">\n",
       "<title>(10, 1)-&gt;(6, 2)</title>\n",
       "<path d=\"M54.049,-284.708C169.79,-287.758 623.29,-299.688 752.48,-303.088\" fill=\"none\" stroke=\"#ff0000\"/>\n",
       "<polygon fill=\"#ff0000\" points=\"752.5001,-306.5897 762.59,-303.358 752.687,-299.5922 752.5001,-306.5897\" stroke=\"#ff0000\"/>\n",
       "<text fill=\"#ff0000\" font-family=\"Times,serif\" font-size=\"8.00\" text-anchor=\"middle\" x=\"401.27\" y=\"-296.498\">1</text>\n",
       "</g>\n",
       "<!-- (9, 1)&#45;&gt;0 -->\n",
       "<g class=\"edge\" id=\"edge10\">\n",
       "<title>(9, 1)-&gt;0</title>\n",
       "<path d=\"M378.67,-125.218C416.69,-194.348 536.7,-412.548 575.08,-482.318\" fill=\"none\" stroke=\"#0000ff\"/>\n",
       "<polygon fill=\"#0000ff\" points=\"572.2434,-484.4232 580.13,-491.498 578.3766,-481.0492 572.2434,-484.4232\" stroke=\"#0000ff\"/>\n",
       "<text fill=\"#0000ff\" font-family=\"Times,serif\" font-size=\"8.00\" text-anchor=\"middle\" x=\"474.87\" y=\"-306.368\">2</text>\n",
       "</g>\n",
       "<!-- (10, 2)&#45;&gt;0 -->\n",
       "<g class=\"edge\" id=\"edge11\">\n",
       "<title>(10, 2)-&gt;0</title>\n",
       "<path d=\"M250.07,-298.098C315.75,-338.238 503.11,-452.728 566.07,-491.208\" fill=\"none\" stroke=\"#00ff00\"/>\n",
       "<polygon fill=\"#00ff00\" points=\"564.3912,-494.2838 574.75,-496.508 568.0392,-488.3095 564.3912,-494.2838\" stroke=\"#00ff00\"/>\n",
       "<text fill=\"#00ff00\" font-family=\"Times,serif\" font-size=\"8.00\" text-anchor=\"middle\" x=\"406.07\" y=\"-397.248\">3</text>\n",
       "</g>\n",
       "<!-- (4, 1) -->\n",
       "<g class=\"node\" id=\"node11\">\n",
       "<title>(4, 1)</title>\n",
       "<ellipse cx=\"87\" cy=\"-543.998\" fill=\"#9aff9a\" rx=\"24\" ry=\"24\" stroke=\"#00ff00\"/>\n",
       "<text fill=\"#000000\" font-family=\"Times,serif\" font-size=\"8.00\" text-anchor=\"middle\" x=\"87\" y=\"-542.098\">4,1_4</text>\n",
       "</g>\n",
       "<!-- (8, 1)&#45;&gt;(4, 1) -->\n",
       "<g class=\"edge\" id=\"edge12\">\n",
       "<title>(8, 1)-&gt;(4, 1)</title>\n",
       "<path d=\"M53.605,-427.118C60.148,-450.018 70.231,-485.308 77.606,-511.118\" fill=\"none\" stroke=\"#cd8500\"/>\n",
       "<polygon fill=\"#cd8500\" points=\"74.2732,-512.1937 80.385,-520.848 81.0041,-510.2713 74.2732,-512.1937\" stroke=\"#cd8500\"/>\n",
       "<text fill=\"#cd8500\" font-family=\"Times,serif\" font-size=\"8.00\" text-anchor=\"middle\" x=\"63.606\" y=\"-471.718\">4</text>\n",
       "</g>\n",
       "<!-- (11, 1) -->\n",
       "<g class=\"node\" id=\"node13\">\n",
       "<title>(11, 1)</title>\n",
       "<ellipse cx=\"527\" cy=\"-323.998\" fill=\"#fa8072\" rx=\"27\" ry=\"27\" stroke=\"#ff0000\"/>\n",
       "<text fill=\"#000000\" font-family=\"Times,serif\" font-size=\"8.00\" text-anchor=\"middle\" x=\"527\" y=\"-322.098\">11,1_1</text>\n",
       "</g>\n",
       "<!-- (6, 2)&#45;&gt;(11, 1) -->\n",
       "<g class=\"edge\" id=\"edge15\">\n",
       "<title>(6, 2)-&gt;(11, 1)</title>\n",
       "<path d=\"M763.01,-305.848C717.51,-309.348 618.43,-316.968 564.24,-321.138\" fill=\"none\" stroke=\"#ff0000\"/>\n",
       "<polygon fill=\"#ff0000\" points=\"563.7343,-317.6663 554.03,-321.918 564.2676,-324.646 563.7343,-317.6663\" stroke=\"#ff0000\"/>\n",
       "<text fill=\"#ff0000\" font-family=\"Times,serif\" font-size=\"8.00\" text-anchor=\"middle\" x=\"661.62\" y=\"-316.088\">1</text>\n",
       "</g>\n",
       "<!-- (8, 2) -->\n",
       "<g class=\"node\" id=\"node12\">\n",
       "<title>(8, 2)</title>\n",
       "<ellipse cx=\"267\" cy=\"-403.998\" fill=\"#fa8072\" rx=\"24\" ry=\"24\" stroke=\"#ff0000\"/>\n",
       "<text fill=\"#000000\" font-family=\"Times,serif\" font-size=\"8.00\" text-anchor=\"middle\" x=\"267\" y=\"-402.098\">8,2_4</text>\n",
       "</g>\n",
       "<!-- (4, 1)&#45;&gt;(8, 2) -->\n",
       "<g class=\"edge\" id=\"edge13\">\n",
       "<title>(4, 1)-&gt;(8, 2)</title>\n",
       "<path d=\"M106.26,-529.018C138.34,-504.068 202.79,-453.938 239.59,-425.318\" fill=\"none\" stroke=\"#cd8500\"/>\n",
       "<polygon fill=\"#cd8500\" points=\"242.1301,-427.7768 247.88,-418.878 237.8357,-422.2488 242.1301,-427.7768\" stroke=\"#cd8500\"/>\n",
       "<text fill=\"#cd8500\" font-family=\"Times,serif\" font-size=\"8.00\" text-anchor=\"middle\" x=\"170.93\" y=\"-479.768\">4</text>\n",
       "</g>\n",
       "<!-- (8, 2)&#45;&gt;0 -->\n",
       "<g class=\"edge\" id=\"edge14\">\n",
       "<title>(8, 2)-&gt;0</title>\n",
       "<path d=\"M290.01,-411.188C348.96,-429.608 504.85,-478.328 563.9,-496.778\" fill=\"none\" stroke=\"#cd8500\"/>\n",
       "<polygon fill=\"#cd8500\" points=\"562.8513,-500.1171 573.44,-499.758 564.9384,-493.4355 562.8513,-500.1171\" stroke=\"#cd8500\"/>\n",
       "<text fill=\"#cd8500\" font-family=\"Times,serif\" font-size=\"8.00\" text-anchor=\"middle\" x=\"424.96\" y=\"-456.588\">4</text>\n",
       "</g>\n",
       "<!-- (11, 1)&#45;&gt;0 -->\n",
       "<g class=\"edge\" id=\"edge16\">\n",
       "<title>(11, 1)-&gt;0</title>\n",
       "<path d=\"M535.6,-349.788C547.23,-384.698 567.84,-446.508 579.1,-480.308\" fill=\"none\" stroke=\"#ff0000\"/>\n",
       "<polygon fill=\"#ff0000\" points=\"575.9222,-481.8419 582.41,-490.218 582.5616,-479.6242 575.9222,-481.8419\" stroke=\"#ff0000\"/>\n",
       "<text fill=\"#ff0000\" font-family=\"Times,serif\" font-size=\"8.00\" text-anchor=\"middle\" x=\"555.35\" y=\"-417.648\">1</text>\n",
       "</g>\n",
       "</g>\n",
       "</svg>"
      ],
      "text/plain": [
       "<IPython.core.display.SVG object>"
      ]
     },
     "metadata": {},
     "output_type": "display_data"
    }
   ],
   "source": [
    "display(SVG(filename=basename+'_sol'+'.svg'))"
   ]
  },
  {
   "cell_type": "code",
   "execution_count": 39,
   "metadata": {},
   "outputs": [
    {
     "name": "stdout",
     "output_type": "stream",
     "text": [
      "Linear relaxation: 16.0\n",
      "Number of visits made: 12.0\n",
      "Explored nodes: 1131.0\n"
     ]
    }
   ],
   "source": [
    "print(\"Linear relaxation:\",1.600000e+01)\n",
    "print(\"Number of visits made:\",mod.ObjVal)\n",
    "print(\"Explored nodes:\", mod.NodeCount)"
   ]
  },
  {
   "cell_type": "code",
   "execution_count": 40,
   "metadata": {},
   "outputs": [],
   "source": [
    "stats = {}\n",
    "\n",
    "for i in station_visits:\n",
    "    for l in L:\n",
    "        if x[i, l].x == 1:\n",
    "            stats[l] = stats.get(l, 0)+1"
   ]
  },
  {
   "cell_type": "code",
   "execution_count": 41,
   "metadata": {},
   "outputs": [
    {
     "data": {
      "text/plain": [
       "{4: 4, 2: 2, 1: 4, 3: 2}"
      ]
     },
     "execution_count": 41,
     "metadata": {},
     "output_type": "execute_result"
    }
   ],
   "source": [
    "stats"
   ]
  },
  {
   "cell_type": "code",
   "execution_count": 42,
   "metadata": {},
   "outputs": [],
   "source": [
    "total_time = 0\n",
    "for i, j in G.edges():\n",
    "    for l in L:\n",
    "        if y[i, j, l].x == 1:\n",
    "            total_time += G[i][j]['time']"
   ]
  },
  {
   "cell_type": "code",
   "execution_count": 43,
   "metadata": {},
   "outputs": [
    {
     "data": {
      "text/plain": [
       "26534"
      ]
     },
     "execution_count": 43,
     "metadata": {},
     "output_type": "execute_result"
    }
   ],
   "source": [
    "total_time"
   ]
  },
  {
   "cell_type": "markdown",
   "metadata": {},
   "source": [
    "### Solution analysis"
   ]
  },
  {
   "cell_type": "markdown",
   "metadata": {},
   "source": [
    "Implementing the problem using only one depot node does not impact on the performance of the solver. In fact, it is able to find the optimal solution in **2.41** seconds exploring **1131** different nodes. The number of visits made by the vehicles is always **12** and they take **26534** seconds to do all the visits. Veichles <i>4</i> and <i>1</i> are the ones doing more visits, **4**. "
   ]
  },
  {
   "cell_type": "code",
   "execution_count": null,
   "metadata": {},
   "outputs": [],
   "source": []
  }
 ],
 "metadata": {
  "kernelspec": {
   "display_name": "Python 3",
   "language": "python",
   "name": "python3"
  },
  "language_info": {
   "codemirror_mode": {
    "name": "ipython",
    "version": 3
   },
   "file_extension": ".py",
   "mimetype": "text/x-python",
   "name": "python",
   "nbconvert_exporter": "python",
   "pygments_lexer": "ipython3",
   "version": "3.6.8"
  },
  "pycharm": {
   "stem_cell": {
    "cell_type": "raw",
    "metadata": {
     "collapsed": false
    },
    "source": []
   }
  }
 },
 "nbformat": 4,
 "nbformat_minor": 2
}
